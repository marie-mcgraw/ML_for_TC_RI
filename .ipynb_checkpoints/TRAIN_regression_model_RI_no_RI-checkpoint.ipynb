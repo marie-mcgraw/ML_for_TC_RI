{
 "cells": [
  {
   "cell_type": "code",
   "execution_count": 1,
   "id": "f3787274",
   "metadata": {},
   "outputs": [],
   "source": [
    "import os\n",
    "\n",
    "NUM_THREADS = \"1\"\n",
    "\n",
    "os.environ[\"OMP_NUM_THREADS\"] = NUM_THREADS\n",
    "os.environ[\"OPENBLAS_NUM_THREADS\"] = NUM_THREADS\n",
    "os.environ[\"MKL_NUM_THREADS\"] = NUM_THREADS\n",
    "os.environ[\"VECLIB_MAXIMUM_THREADS\"] = NUM_THREADS\n",
    "os.environ[\"NUMEXPR_NUM_THREADS\"] = NUM_THREADS"
   ]
  },
  {
   "cell_type": "code",
   "execution_count": 2,
   "id": "dac9af5c",
   "metadata": {},
   "outputs": [],
   "source": [
    "import numpy as np\n",
    "import matplotlib.pyplot as plt\n",
    "import seaborn as sns\n",
    "import pandas as pd\n",
    "from utils.SHIPS_preprocess import calc_d24_VMAX, fore_hr_averaging, load_processed_SHIPS\n",
    "from utils import SHIPS_ML_model_funcs\n",
    "from utils.SHIPS_ML_model_funcs import get_train_test_split, SHIPS_train_test_shuffle_CLASS, SHIPS_train_test_split\n",
    "from utils import SHIPS_plotting\n",
    "from sklearn.preprocessing import StandardScaler\n",
    "from sklearn.model_selection import GridSearchCV, cross_val_score, RepeatedStratifiedKFold\n",
    "from sklearn.linear_model import LogisticRegression\n",
    "from sklearn.metrics import roc_curve,roc_auc_score,confusion_matrix,accuracy_score,precision_score,recall_score,classification_report\n",
    "from sklearn.metrics import precision_recall_curve, auc, f1_score, fbeta_score, precision_recall_fscore_support\n",
    "from sklearn.inspection import permutation_importance\n",
    "from sklearn.pipeline import Pipeline\n",
    "import matplotlib.colors\n"
   ]
  },
  {
   "cell_type": "markdown",
   "id": "cbbef4a3",
   "metadata": {},
   "source": [
    "##### Ignore Annoying Warnings"
   ]
  },
  {
   "cell_type": "code",
   "execution_count": 3,
   "id": "9951bf65",
   "metadata": {},
   "outputs": [],
   "source": [
    "import warnings\n",
    "from pandas.core.common import SettingWithCopyWarning\n",
    "\n",
    "warnings.simplefilter(action=\"ignore\", category=SettingWithCopyWarning)\n",
    "#\n",
    "from sklearn.exceptions import ConvergenceWarning\n",
    "warnings.simplefilter(action=\"ignore\",category=ConvergenceWarning)"
   ]
  },
  {
   "cell_type": "markdown",
   "id": "37efdd70",
   "metadata": {},
   "source": [
    "### Model Parameters\n",
    "\n",
    "##### SHIPS Dataset Choice\n",
    "* max_fore: maximum forecast hours [usually 24 or 48]\n",
    "* mask_TYPE: how are we handling cases close to land? [SIMPLE_MASK or no_MASK]\n",
    "* interp_str: Did we interpolate over missing data or not? [INTERP: yes, no_INTERP: no]\n",
    "* pred_set:  Set of predictors we used.  Default is 'BASIC' but if we want to change the predictors we are using we can do that.\n",
    "* yr_start:  First year of training data [2010 or 2005, generally]\n",
    "* yr_end_LOAD:  Last year of full data (to find file)[2021]\n",
    "* yr_end_TRAIN: Last year to use in training [2018 is default]\n",
    "* use_basin:  Default is to use all basins, but if we just want to use one basin, we can specify that here [ATLANTIC, EAST_PACIFIC, WEST_PACIFIC, and SOUTH_PACIFIC are the choices]"
   ]
  },
  {
   "cell_type": "code",
   "execution_count": 4,
   "id": "18950ea4",
   "metadata": {},
   "outputs": [],
   "source": [
    "max_fore = 24 # maximum forecast hours\n",
    "mask_TYPE = 'SIMPLE_MASK' # how are we handling the land mask?\n",
    "interp_str = 'INTERP' # did we interpolate?\n",
    "yr_start = 2005\n",
    "yr_end_LOAD = 2021 # for loading data\n",
    "yr_end_TRAIN = 2018\n",
    "use_basin = 'ALL'"
   ]
  },
  {
   "cell_type": "markdown",
   "id": "5311e95b",
   "metadata": {},
   "source": [
    "#### SHIPS analysis choices"
   ]
  },
  {
   "cell_type": "code",
   "execution_count": 5,
   "id": "d7ba9f99",
   "metadata": {},
   "outputs": [],
   "source": [
    "hrs_max = 24\n",
    "drop_features = {'TYPE','VMAX','DELV','VMPI','is_TRAIN'}\n",
    "to_IND = ['BASIN','CASE','NAME','DATE_full','TIME']\n",
    "RI_thresh = 30\n",
    "is_RI_only = True\n",
    "n_classes = 2\n",
    "is_standard = True\n",
    "if is_standard == True:\n",
    "    stand_str = 'STANDARDIZED'\n",
    "else:\n",
    "    stand_str = 'noSTANDARDIZED'\n",
    "DO_AVG = True"
   ]
  },
  {
   "cell_type": "markdown",
   "id": "b12661ca",
   "metadata": {},
   "source": [
    "##### Load our pre-processed SHIPS files"
   ]
  },
  {
   "cell_type": "code",
   "execution_count": 8,
   "id": "6f1d5230",
   "metadata": {
    "scrolled": true
   },
   "outputs": [],
   "source": [
    "SHIPS_predictors,BASIN = load_processed_SHIPS(yr_start,yr_end_LOAD,mask_TYPE,max_fore,interp_str,use_basin)"
   ]
  },
  {
   "cell_type": "markdown",
   "id": "c7c35a50",
   "metadata": {},
   "source": [
    "#### ML Model Hyperparameters.  This will change based on the type of model\n",
    "* <code>Solver</code>:  For logistic regression models, we have a few choices of solver. We will stick only with solvers that can handle multi-class classification, as we want to be able to compare different formulations of this problem. We have a few options:\n",
    " * The default solver, <code>'lbfgs'</code>, (stands for Limited-memory Broyden-Fletcher-Goldfarb-Shanno).  Approximates second derivative with gradient evaluations; only stores last few updates, so saves memory.  Not super fast.\n",
    " * <code>sag</code>: stands for \"stochastic average gradient\".  A version of gradient descent.  Fast for big datasets. \n",
    " * <code>saga</code>: a version of <code>sag</code> that allows for <code>L1</code> regularizaiton. \n",
    "* <code> Penalty</code>: Are we regularizing using the L1 norm (absolute-value based) or the L2 norm (least-squares based)? For <code>sag</code> and <code>lbfgs</code>, we will use the <code>L2</code> penalty; for <code>saga</code> we will use <code>L1</code>. \n",
    "* <code>k_folds</code>: number of folds used in our cross-validation approach.  We will use a <code>Stratified K-Means cross-validation</code> since we have imbalanced classes. \n",
    "* `C_vals`: $C$ is the model's regularization parameter.  We'll explore different values of $C$ in our hyperparameter sweep.  $C$ is the main hyperparameter that we can use to tune the model\n",
    "* `max_iter`: maximum number of iterations"
   ]
  },
  {
   "cell_type": "code",
   "execution_count": 6,
   "id": "201ade85",
   "metadata": {},
   "outputs": [],
   "source": [
    "solver = 'saga'\n",
    "k_folds = 10\n",
    "n_repeats = 3\n",
    "# Use L1 penalty for SAGA, use L2 for others.\n",
    "if (solver == 'saga'):\n",
    "    penalty = 'l1'\n",
    "else: \n",
    "    penalty = 'l2'\n",
    "# We are predicting our model class (RI (1) or not-RI (0))\n",
    "to_predict = 'I_class'\n",
    "# Model hyperparameters\n",
    "C_vals = np.logspace(-2,2,5)  #normalization factor\n",
    "max_iter = np.logspace(2,4,3) #max iterations"
   ]
  },
  {
   "cell_type": "markdown",
   "id": "9f19934b",
   "metadata": {},
   "source": [
    "##### Class weighting\n",
    "This part is tricky but important.  Since we are really interested in rapid intensification, which is by definition, rare, we will inherently be creating imbalanced classes for our data.  We can address this in many ways.  Broadly, we can either use <b>class weights</b> (which apply different weights to each data point based on which class it is in), or we can use under/over sampling.  <b>Undersampling</b> means we will sample the minority class at a rate that is commeasurate with the majority class--we lose information, but are less likely to overfit to our minority class.  <b>Oversampling</b> means we will draw additional samples from our minority class to match the size of our majority class.  \n",
    "\n",
    "We explored a few different options for this (see exploratory sampling notebook) and ultimately found that class weights work just fine, so generally we just use the default class weighting scheme, `balanced`, which adjusts weights automatically to make them inversely proportional to class size. \n",
    "\n",
    "If we want to use custom weights, we can turn on `use_custom_wts` and specify them.  If we don't want to use weights (not a good choice for imbalanced classes but w/e), we can set `no_wts` to `True`.  If both `use_custom_wts` and `no_wts` are `False`, we'll use the default weights (`balanced`). "
   ]
  },
  {
   "cell_type": "code",
   "execution_count": null,
   "id": "d5a39282",
   "metadata": {},
   "outputs": [],
   "source": [
    "# Weights\n",
    "use_custom_wts = False \n",
    "no_wts = False"
   ]
  },
  {
   "cell_type": "markdown",
   "id": "26c48443",
   "metadata": {},
   "source": [
    "##### Calculate class weights, if desired"
   ]
  },
  {
   "cell_type": "code",
   "execution_count": 9,
   "id": "d306be17",
   "metadata": {},
   "outputs": [],
   "source": [
    "# Custom weights\n",
    "if use_custom_wts:\n",
    "    # I think this function has a bug, DO NOT USE (7/6/22)\n",
    "   #  class_wts = SHIPS_preprocess.calculate_class_weights(SHIPS_predictors,n_classes,RI_thresh,0)\n",
    "    # weights_use = class_wts.xs(use_basin)\n",
    "   #  wts_sel = weights_use['WEIGHT'].to_dict()\n",
    "    wts_str = 'custom_wts'\n",
    "    wts_sel = np.nan\n",
    "# No weighting\n",
    "elif no_wts:\n",
    "    wts_sel = 0\n",
    "    wts_str = 'none'\n",
    "# Default sklearn class weights (balanced)\n",
    "else:\n",
    "    wts_sel = 0\n",
    "    wts_str = 'default_wts'"
   ]
  },
  {
   "cell_type": "markdown",
   "id": "68bff835",
   "metadata": {},
   "source": [
    "#### Bootstrapping!! \n",
    "\n",
    "First, initialize some dataframes for results"
   ]
  },
  {
   "cell_type": "code",
   "execution_count": 11,
   "id": "e2989343",
   "metadata": {},
   "outputs": [],
   "source": [
    "predicted_y_ALL = pd.DataFrame()\n",
    "roc_vals_ALL = pd.DataFrame()\n",
    "p_vs_r_ALL = pd.DataFrame()\n",
    "fi_pred_ALL = pd.DataFrame()\n",
    "fi_pred_train_ALL = pd.DataFrame()\n",
    "cm_ALL = pd.DataFrame()\n",
    "report_ALL = pd.DataFrame()"
   ]
  },
  {
   "cell_type": "markdown",
   "id": "e817c4c2",
   "metadata": {},
   "source": [
    "###### Bootstrapping parameters:\n",
    "\n",
    "* `N_samples`: number of experiments\n",
    "* `ncats`: number of categories for classification (default is 2)\n",
    "* `scoring`: scoring function for ML model (we typically used `f1_weighted` as it's better for imbalanced classes)\n",
    "* `n_valid`: number of years to use for validation\n",
    "\n",
    "###### Overview\n",
    "1. Of full training period (2005-2018), we randomly select `n_valid` years to use for validation.  We use a modified leave-one-year-out approach (where instead we leave `n_valid` years out. This step is handled by the `get_train_test_split` function.  Thus we divide our SHIPS predictors as well as our target variable into training and validation samples based on year. \n",
    "2. We set up a hyperparameter sweep using `sklearn`'s `gridsearchCV` (contained in `create_gridsearch_LR` function).  For logistic regression, we only have one main hyperparameter--the normalization factor, $C$; we identifed values of $C$ in `C_vals` previously. "
   ]
  },
  {
   "cell_type": "code",
   "execution_count": 12,
   "id": "1ff54c10",
   "metadata": {
    "scrolled": true
   },
   "outputs": [
    {
     "name": "stdout",
     "output_type": "stream",
     "text": [
      "running sample  0\n",
      "averaging hours together\n",
      "fitting model\n",
      "calculating scores\n",
      "running  ATLANTIC\n"
     ]
    },
    {
     "name": "stderr",
     "output_type": "stream",
     "text": [
      "/local/home/mmcgraw/ML_for_TC_RI/utils/SHIPS_ML_model_funcs.py:397: RuntimeWarning: invalid value encountered in true_divide\n",
      "  f1 = (2*p*r)/(p+r)\n"
     ]
    },
    {
     "name": "stdout",
     "output_type": "stream",
     "text": [
      "running  EAST_PACIFIC\n",
      "running  WEST_PACIFIC\n"
     ]
    },
    {
     "name": "stderr",
     "output_type": "stream",
     "text": [
      "/local/home/mmcgraw/ML_for_TC_RI/utils/SHIPS_ML_model_funcs.py:397: RuntimeWarning: invalid value encountered in true_divide\n",
      "  f1 = (2*p*r)/(p+r)\n"
     ]
    },
    {
     "name": "stdout",
     "output_type": "stream",
     "text": [
      "running  SOUTHERN_HEM\n"
     ]
    },
    {
     "name": "stderr",
     "output_type": "stream",
     "text": [
      "/local/home/mmcgraw/ML_for_TC_RI/utils/SHIPS_ML_model_funcs.py:397: RuntimeWarning: invalid value encountered in true_divide\n",
      "  f1 = (2*p*r)/(p+r)\n"
     ]
    },
    {
     "name": "stdout",
     "output_type": "stream",
     "text": [
      "running  ALL\n"
     ]
    },
    {
     "name": "stderr",
     "output_type": "stream",
     "text": [
      "/local/home/mmcgraw/ML_for_TC_RI/utils/SHIPS_ML_model_funcs.py:397: RuntimeWarning: invalid value encountered in true_divide\n",
      "  f1 = (2*p*r)/(p+r)\n"
     ]
    },
    {
     "name": "stdout",
     "output_type": "stream",
     "text": [
      "running sample  1\n",
      "averaging hours together\n",
      "fitting model\n",
      "calculating scores\n",
      "running  ATLANTIC\n",
      "running  EAST_PACIFIC\n",
      "running  WEST_PACIFIC\n",
      "running  SOUTHERN_HEM\n",
      "running  ALL\n",
      "running sample  2\n",
      "averaging hours together\n",
      "fitting model\n",
      "calculating scores\n",
      "running  ATLANTIC\n",
      "running  EAST_PACIFIC\n",
      "running  WEST_PACIFIC\n",
      "running  SOUTHERN_HEM\n",
      "running  ALL\n",
      "running sample  3\n",
      "averaging hours together\n",
      "fitting model\n",
      "calculating scores\n",
      "running  ATLANTIC\n",
      "running  EAST_PACIFIC\n",
      "running  WEST_PACIFIC\n"
     ]
    },
    {
     "name": "stderr",
     "output_type": "stream",
     "text": [
      "/local/home/mmcgraw/ML_for_TC_RI/utils/SHIPS_ML_model_funcs.py:397: RuntimeWarning: invalid value encountered in true_divide\n",
      "  f1 = (2*p*r)/(p+r)\n"
     ]
    },
    {
     "name": "stdout",
     "output_type": "stream",
     "text": [
      "running  SOUTHERN_HEM\n"
     ]
    },
    {
     "name": "stderr",
     "output_type": "stream",
     "text": [
      "/local/home/mmcgraw/ML_for_TC_RI/utils/SHIPS_ML_model_funcs.py:397: RuntimeWarning: invalid value encountered in true_divide\n",
      "  f1 = (2*p*r)/(p+r)\n"
     ]
    },
    {
     "name": "stdout",
     "output_type": "stream",
     "text": [
      "running  ALL\n"
     ]
    },
    {
     "name": "stderr",
     "output_type": "stream",
     "text": [
      "/local/home/mmcgraw/ML_for_TC_RI/utils/SHIPS_ML_model_funcs.py:397: RuntimeWarning: invalid value encountered in true_divide\n",
      "  f1 = (2*p*r)/(p+r)\n"
     ]
    },
    {
     "name": "stdout",
     "output_type": "stream",
     "text": [
      "running sample  4\n",
      "averaging hours together\n",
      "fitting model\n",
      "calculating scores\n",
      "running  ATLANTIC\n",
      "running  EAST_PACIFIC\n",
      "running  WEST_PACIFIC\n",
      "running  SOUTHERN_HEM\n"
     ]
    },
    {
     "name": "stderr",
     "output_type": "stream",
     "text": [
      "/local/home/mmcgraw/ML_for_TC_RI/utils/SHIPS_ML_model_funcs.py:397: RuntimeWarning: invalid value encountered in true_divide\n",
      "  f1 = (2*p*r)/(p+r)\n"
     ]
    },
    {
     "name": "stdout",
     "output_type": "stream",
     "text": [
      "running  ALL\n",
      "running sample  5\n",
      "averaging hours together\n",
      "fitting model\n",
      "calculating scores\n",
      "running  ATLANTIC\n",
      "running  EAST_PACIFIC\n",
      "running  WEST_PACIFIC\n",
      "running  SOUTHERN_HEM\n"
     ]
    },
    {
     "name": "stderr",
     "output_type": "stream",
     "text": [
      "/local/home/mmcgraw/ML_for_TC_RI/utils/SHIPS_ML_model_funcs.py:397: RuntimeWarning: invalid value encountered in true_divide\n",
      "  f1 = (2*p*r)/(p+r)\n"
     ]
    },
    {
     "name": "stdout",
     "output_type": "stream",
     "text": [
      "running  ALL\n"
     ]
    },
    {
     "name": "stderr",
     "output_type": "stream",
     "text": [
      "/local/home/mmcgraw/ML_for_TC_RI/utils/SHIPS_ML_model_funcs.py:397: RuntimeWarning: invalid value encountered in true_divide\n",
      "  f1 = (2*p*r)/(p+r)\n"
     ]
    },
    {
     "name": "stdout",
     "output_type": "stream",
     "text": [
      "running sample  6\n",
      "averaging hours together\n",
      "fitting model\n",
      "calculating scores\n",
      "running  ATLANTIC\n",
      "running  EAST_PACIFIC\n",
      "running  WEST_PACIFIC\n"
     ]
    },
    {
     "name": "stderr",
     "output_type": "stream",
     "text": [
      "/local/home/mmcgraw/ML_for_TC_RI/utils/SHIPS_ML_model_funcs.py:397: RuntimeWarning: invalid value encountered in true_divide\n",
      "  f1 = (2*p*r)/(p+r)\n"
     ]
    },
    {
     "name": "stdout",
     "output_type": "stream",
     "text": [
      "running  SOUTHERN_HEM\n"
     ]
    },
    {
     "name": "stderr",
     "output_type": "stream",
     "text": [
      "/local/home/mmcgraw/ML_for_TC_RI/utils/SHIPS_ML_model_funcs.py:397: RuntimeWarning: invalid value encountered in true_divide\n",
      "  f1 = (2*p*r)/(p+r)\n"
     ]
    },
    {
     "name": "stdout",
     "output_type": "stream",
     "text": [
      "running  ALL\n"
     ]
    },
    {
     "name": "stderr",
     "output_type": "stream",
     "text": [
      "/local/home/mmcgraw/ML_for_TC_RI/utils/SHIPS_ML_model_funcs.py:397: RuntimeWarning: invalid value encountered in true_divide\n",
      "  f1 = (2*p*r)/(p+r)\n"
     ]
    },
    {
     "name": "stdout",
     "output_type": "stream",
     "text": [
      "running sample  7\n",
      "averaging hours together\n",
      "fitting model\n",
      "calculating scores\n",
      "running  ATLANTIC\n"
     ]
    },
    {
     "name": "stderr",
     "output_type": "stream",
     "text": [
      "/local/home/mmcgraw/ML_for_TC_RI/utils/SHIPS_ML_model_funcs.py:397: RuntimeWarning: invalid value encountered in true_divide\n",
      "  f1 = (2*p*r)/(p+r)\n"
     ]
    },
    {
     "name": "stdout",
     "output_type": "stream",
     "text": [
      "running  EAST_PACIFIC\n",
      "running  WEST_PACIFIC\n"
     ]
    },
    {
     "name": "stderr",
     "output_type": "stream",
     "text": [
      "/local/home/mmcgraw/ML_for_TC_RI/utils/SHIPS_ML_model_funcs.py:397: RuntimeWarning: invalid value encountered in true_divide\n",
      "  f1 = (2*p*r)/(p+r)\n"
     ]
    },
    {
     "name": "stdout",
     "output_type": "stream",
     "text": [
      "running  SOUTHERN_HEM\n"
     ]
    },
    {
     "name": "stderr",
     "output_type": "stream",
     "text": [
      "/local/home/mmcgraw/ML_for_TC_RI/utils/SHIPS_ML_model_funcs.py:397: RuntimeWarning: invalid value encountered in true_divide\n",
      "  f1 = (2*p*r)/(p+r)\n"
     ]
    },
    {
     "name": "stdout",
     "output_type": "stream",
     "text": [
      "running  ALL\n"
     ]
    },
    {
     "name": "stderr",
     "output_type": "stream",
     "text": [
      "/local/home/mmcgraw/ML_for_TC_RI/utils/SHIPS_ML_model_funcs.py:397: RuntimeWarning: invalid value encountered in true_divide\n",
      "  f1 = (2*p*r)/(p+r)\n"
     ]
    },
    {
     "name": "stdout",
     "output_type": "stream",
     "text": [
      "running sample  8\n",
      "averaging hours together\n",
      "fitting model\n",
      "calculating scores\n",
      "running  ATLANTIC\n",
      "running  EAST_PACIFIC\n"
     ]
    },
    {
     "name": "stderr",
     "output_type": "stream",
     "text": [
      "/local/home/mmcgraw/ML_for_TC_RI/utils/SHIPS_ML_model_funcs.py:397: RuntimeWarning: invalid value encountered in true_divide\n",
      "  f1 = (2*p*r)/(p+r)\n"
     ]
    },
    {
     "name": "stdout",
     "output_type": "stream",
     "text": [
      "running  WEST_PACIFIC\n"
     ]
    },
    {
     "name": "stderr",
     "output_type": "stream",
     "text": [
      "/local/home/mmcgraw/ML_for_TC_RI/utils/SHIPS_ML_model_funcs.py:397: RuntimeWarning: invalid value encountered in true_divide\n",
      "  f1 = (2*p*r)/(p+r)\n"
     ]
    },
    {
     "name": "stdout",
     "output_type": "stream",
     "text": [
      "running  SOUTHERN_HEM\n"
     ]
    },
    {
     "name": "stderr",
     "output_type": "stream",
     "text": [
      "/local/home/mmcgraw/ML_for_TC_RI/utils/SHIPS_ML_model_funcs.py:397: RuntimeWarning: invalid value encountered in true_divide\n",
      "  f1 = (2*p*r)/(p+r)\n"
     ]
    },
    {
     "name": "stdout",
     "output_type": "stream",
     "text": [
      "running  ALL\n"
     ]
    },
    {
     "name": "stderr",
     "output_type": "stream",
     "text": [
      "/local/home/mmcgraw/ML_for_TC_RI/utils/SHIPS_ML_model_funcs.py:397: RuntimeWarning: invalid value encountered in true_divide\n",
      "  f1 = (2*p*r)/(p+r)\n"
     ]
    },
    {
     "name": "stdout",
     "output_type": "stream",
     "text": [
      "running sample  9\n",
      "averaging hours together\n",
      "fitting model\n",
      "calculating scores\n",
      "running  ATLANTIC\n",
      "running  EAST_PACIFIC\n",
      "running  WEST_PACIFIC\n"
     ]
    },
    {
     "name": "stderr",
     "output_type": "stream",
     "text": [
      "/local/home/mmcgraw/ML_for_TC_RI/utils/SHIPS_ML_model_funcs.py:397: RuntimeWarning: invalid value encountered in true_divide\n",
      "  f1 = (2*p*r)/(p+r)\n"
     ]
    },
    {
     "name": "stdout",
     "output_type": "stream",
     "text": [
      "running  SOUTHERN_HEM\n"
     ]
    },
    {
     "name": "stderr",
     "output_type": "stream",
     "text": [
      "/local/home/mmcgraw/ML_for_TC_RI/utils/SHIPS_ML_model_funcs.py:397: RuntimeWarning: invalid value encountered in true_divide\n",
      "  f1 = (2*p*r)/(p+r)\n"
     ]
    },
    {
     "name": "stdout",
     "output_type": "stream",
     "text": [
      "running  ALL\n"
     ]
    },
    {
     "name": "stderr",
     "output_type": "stream",
     "text": [
      "/local/home/mmcgraw/ML_for_TC_RI/utils/SHIPS_ML_model_funcs.py:397: RuntimeWarning: invalid value encountered in true_divide\n",
      "  f1 = (2*p*r)/(p+r)\n"
     ]
    },
    {
     "name": "stdout",
     "output_type": "stream",
     "text": [
      "running sample  10\n",
      "averaging hours together\n",
      "fitting model\n",
      "calculating scores\n",
      "running  ATLANTIC\n",
      "running  EAST_PACIFIC\n",
      "running  WEST_PACIFIC\n",
      "running  SOUTHERN_HEM\n"
     ]
    },
    {
     "name": "stderr",
     "output_type": "stream",
     "text": [
      "/local/home/mmcgraw/ML_for_TC_RI/utils/SHIPS_ML_model_funcs.py:397: RuntimeWarning: invalid value encountered in true_divide\n",
      "  f1 = (2*p*r)/(p+r)\n"
     ]
    },
    {
     "name": "stdout",
     "output_type": "stream",
     "text": [
      "running  ALL\n"
     ]
    },
    {
     "name": "stderr",
     "output_type": "stream",
     "text": [
      "/local/home/mmcgraw/ML_for_TC_RI/utils/SHIPS_ML_model_funcs.py:397: RuntimeWarning: invalid value encountered in true_divide\n",
      "  f1 = (2*p*r)/(p+r)\n"
     ]
    },
    {
     "name": "stdout",
     "output_type": "stream",
     "text": [
      "running sample  11\n",
      "averaging hours together\n",
      "fitting model\n",
      "calculating scores\n",
      "running  ATLANTIC\n"
     ]
    },
    {
     "name": "stderr",
     "output_type": "stream",
     "text": [
      "/local/home/mmcgraw/ML_for_TC_RI/utils/SHIPS_ML_model_funcs.py:397: RuntimeWarning: invalid value encountered in true_divide\n",
      "  f1 = (2*p*r)/(p+r)\n"
     ]
    },
    {
     "name": "stdout",
     "output_type": "stream",
     "text": [
      "running  EAST_PACIFIC\n",
      "running  WEST_PACIFIC\n"
     ]
    },
    {
     "name": "stderr",
     "output_type": "stream",
     "text": [
      "/local/home/mmcgraw/ML_for_TC_RI/utils/SHIPS_ML_model_funcs.py:397: RuntimeWarning: invalid value encountered in true_divide\n",
      "  f1 = (2*p*r)/(p+r)\n"
     ]
    },
    {
     "name": "stdout",
     "output_type": "stream",
     "text": [
      "running  SOUTHERN_HEM\n"
     ]
    },
    {
     "name": "stderr",
     "output_type": "stream",
     "text": [
      "/local/home/mmcgraw/ML_for_TC_RI/utils/SHIPS_ML_model_funcs.py:397: RuntimeWarning: invalid value encountered in true_divide\n",
      "  f1 = (2*p*r)/(p+r)\n"
     ]
    },
    {
     "name": "stdout",
     "output_type": "stream",
     "text": [
      "running  ALL\n"
     ]
    },
    {
     "name": "stderr",
     "output_type": "stream",
     "text": [
      "/local/home/mmcgraw/ML_for_TC_RI/utils/SHIPS_ML_model_funcs.py:397: RuntimeWarning: invalid value encountered in true_divide\n",
      "  f1 = (2*p*r)/(p+r)\n"
     ]
    },
    {
     "name": "stdout",
     "output_type": "stream",
     "text": [
      "running sample  12\n",
      "averaging hours together\n",
      "fitting model\n",
      "calculating scores\n",
      "running  ATLANTIC\n"
     ]
    },
    {
     "name": "stderr",
     "output_type": "stream",
     "text": [
      "/local/home/mmcgraw/ML_for_TC_RI/utils/SHIPS_ML_model_funcs.py:397: RuntimeWarning: invalid value encountered in true_divide\n",
      "  f1 = (2*p*r)/(p+r)\n"
     ]
    },
    {
     "name": "stdout",
     "output_type": "stream",
     "text": [
      "running  EAST_PACIFIC\n",
      "running  WEST_PACIFIC\n"
     ]
    },
    {
     "name": "stderr",
     "output_type": "stream",
     "text": [
      "/local/home/mmcgraw/ML_for_TC_RI/utils/SHIPS_ML_model_funcs.py:397: RuntimeWarning: invalid value encountered in true_divide\n",
      "  f1 = (2*p*r)/(p+r)\n"
     ]
    },
    {
     "name": "stdout",
     "output_type": "stream",
     "text": [
      "running  SOUTHERN_HEM\n"
     ]
    },
    {
     "name": "stderr",
     "output_type": "stream",
     "text": [
      "/local/home/mmcgraw/ML_for_TC_RI/utils/SHIPS_ML_model_funcs.py:397: RuntimeWarning: invalid value encountered in true_divide\n",
      "  f1 = (2*p*r)/(p+r)\n"
     ]
    },
    {
     "name": "stdout",
     "output_type": "stream",
     "text": [
      "running  ALL\n"
     ]
    },
    {
     "name": "stderr",
     "output_type": "stream",
     "text": [
      "/local/home/mmcgraw/ML_for_TC_RI/utils/SHIPS_ML_model_funcs.py:397: RuntimeWarning: invalid value encountered in true_divide\n",
      "  f1 = (2*p*r)/(p+r)\n"
     ]
    },
    {
     "name": "stdout",
     "output_type": "stream",
     "text": [
      "running sample  13\n",
      "averaging hours together\n",
      "fitting model\n",
      "calculating scores\n",
      "running  ATLANTIC\n"
     ]
    },
    {
     "name": "stderr",
     "output_type": "stream",
     "text": [
      "/local/home/mmcgraw/ML_for_TC_RI/utils/SHIPS_ML_model_funcs.py:397: RuntimeWarning: invalid value encountered in true_divide\n",
      "  f1 = (2*p*r)/(p+r)\n"
     ]
    },
    {
     "name": "stdout",
     "output_type": "stream",
     "text": [
      "running  EAST_PACIFIC\n"
     ]
    },
    {
     "name": "stderr",
     "output_type": "stream",
     "text": [
      "/local/home/mmcgraw/ML_for_TC_RI/utils/SHIPS_ML_model_funcs.py:397: RuntimeWarning: invalid value encountered in true_divide\n",
      "  f1 = (2*p*r)/(p+r)\n"
     ]
    },
    {
     "name": "stdout",
     "output_type": "stream",
     "text": [
      "running  WEST_PACIFIC\n",
      "running  SOUTHERN_HEM\n"
     ]
    },
    {
     "name": "stderr",
     "output_type": "stream",
     "text": [
      "/local/home/mmcgraw/ML_for_TC_RI/utils/SHIPS_ML_model_funcs.py:397: RuntimeWarning: invalid value encountered in true_divide\n",
      "  f1 = (2*p*r)/(p+r)\n"
     ]
    },
    {
     "name": "stdout",
     "output_type": "stream",
     "text": [
      "running  ALL\n"
     ]
    },
    {
     "name": "stderr",
     "output_type": "stream",
     "text": [
      "/local/home/mmcgraw/ML_for_TC_RI/utils/SHIPS_ML_model_funcs.py:397: RuntimeWarning: invalid value encountered in true_divide\n",
      "  f1 = (2*p*r)/(p+r)\n"
     ]
    },
    {
     "name": "stdout",
     "output_type": "stream",
     "text": [
      "running sample  14\n",
      "averaging hours together\n",
      "fitting model\n",
      "calculating scores\n",
      "running  ATLANTIC\n",
      "running  EAST_PACIFIC\n",
      "running  WEST_PACIFIC\n"
     ]
    },
    {
     "name": "stderr",
     "output_type": "stream",
     "text": [
      "/local/home/mmcgraw/ML_for_TC_RI/utils/SHIPS_ML_model_funcs.py:397: RuntimeWarning: invalid value encountered in true_divide\n",
      "  f1 = (2*p*r)/(p+r)\n"
     ]
    },
    {
     "name": "stdout",
     "output_type": "stream",
     "text": [
      "running  SOUTHERN_HEM\n"
     ]
    },
    {
     "name": "stderr",
     "output_type": "stream",
     "text": [
      "/local/home/mmcgraw/ML_for_TC_RI/utils/SHIPS_ML_model_funcs.py:397: RuntimeWarning: invalid value encountered in true_divide\n",
      "  f1 = (2*p*r)/(p+r)\n"
     ]
    },
    {
     "name": "stdout",
     "output_type": "stream",
     "text": [
      "running  ALL\n"
     ]
    },
    {
     "name": "stderr",
     "output_type": "stream",
     "text": [
      "/local/home/mmcgraw/ML_for_TC_RI/utils/SHIPS_ML_model_funcs.py:397: RuntimeWarning: invalid value encountered in true_divide\n",
      "  f1 = (2*p*r)/(p+r)\n"
     ]
    }
   ],
   "source": [
    "N_samples = 15\n",
    "ncats = 2\n",
    "scoring = 'f1_weighted'\n",
    "cut = 'equal'\n",
    "FULL_yrs = np.arange(yr_start,yr_end_TRAIN,1)\n",
    "n_valid = 3 # number of years to leave out for validation\n",
    "\n",
    "for i in np.arange(0,N_samples):\n",
    "# i = 0\n",
    "    print('running sample ',i)\n",
    "    # Split data into training/validation \n",
    "    test_years = np.random.choice(FULL_yrs,n_valid,replace=False) # years we will use for validation\n",
    "    X_train, X_test, y_train, y_test, feature_names, diff_train, diff_test = SHIPS_ML_model_funcs.get_train_test_split(test_years,SHIPS_predictors,to_predict,\n",
    "                                                                    is_RI_only,to_IND,drop_features,DO_AVG,RI_thresh,hrs_max)\n",
    "    #\n",
    "    # Set up hyperparameter sweep\n",
    "    LR_model = SHIPS_ML_model_funcs.create_gridsearch_LR(is_standard,solver,penalty,C_vals,max_iter,k_folds,n_repeats,\n",
    "                                    use_custom_wts,wts_sel,scoring,no_wts)\n",
    "\n",
    "    # Fit model using training data.  We only train once, on cases from all 4 basins\n",
    "    print('fitting model')\n",
    "    LR_model.fit(X_train,y_train['I_class'])\n",
    "\n",
    "\n",
    "   # \n",
    "    BASIN_all = ['ATLANTIC', 'EAST_PACIFIC', 'WEST_PACIFIC', 'SOUTHERN_HEM','ALL']\n",
    "    print('calculating scores')\n",
    "    # Now, perform validation.  We'll analyze each basin separately as well as a combined score for all basins. \n",
    "    for basin in BASIN_all:\n",
    "        #basin = 'ATLANTIC'\n",
    "        print('running ',basin)\n",
    "        report, y_true, y_pred = SHIPS_ML_model_funcs.get_scores_best_params_LR(LR_model,X_test,y_test,basin)\n",
    "        report['Years Out'] = str(test_years)\n",
    "        report['Model'] = solver\n",
    "        report['Fold'] = i\n",
    "        label_names = ['not RI','RI']\n",
    "\n",
    "        #\n",
    "        cm_stats = SHIPS_ML_model_funcs.get_confusion_matrix_LR(LR_model,y_true,y_pred,basin,label_names,ncats)\n",
    "        cm_stats['Years Out'] = str(test_years)\n",
    "        cm_stats['Model'] = solver\n",
    "        cm_stats['Fold'] = i\n",
    "        #\n",
    "        fi_pred = SHIPS_ML_model_funcs.get_feature_importances_LR(LR_model,X_test,y_test,basin,scoring)\n",
    "        fi_pred['Years Out'] = str(test_years)\n",
    "        fi_pred['Fold'] = i\n",
    "        fi_pred['Model'] = solver\n",
    "        #\n",
    "        fi_pred_train = SHIPS_ML_model_funcs.get_feature_importances_LR(LR_model,X_train,y_train,basin,scoring)\n",
    "        fi_pred_train['Years Out'] = str(test_years)\n",
    "        fi_pred_train['Fold'] = i\n",
    "        fi_pred_train['Model'] = solver\n",
    "        #\n",
    "        ypred_prob, p_vs_r, roc_vals = SHIPS_ML_model_funcs.get_roc_auc(X_test,basin,LR_model,y_test,1,'RI',scoring,cut)\n",
    "\n",
    "        #\n",
    "        p_vs_r['Fold'] = i\n",
    "        p_vs_r['Years Out'] = str(test_years)\n",
    "        p_vs_r['Model'] = solver\n",
    "        roc_vals['Fold'] = i\n",
    "        roc_vals['Model'] = solver\n",
    "        roc_vals['Years Out'] = str(test_years)\n",
    "        #\n",
    "        if basin != 'ALL':\n",
    "            y_pred_all = y_test.xs(basin).copy()\n",
    "        else:\n",
    "            y_pred_all = y_test.copy()\n",
    "        y_pred_all['Y pred'] = y_pred\n",
    "        y_pred_all['Predicted Basin'] = basin\n",
    "        y_pred_all['Model'] = solver\n",
    "        y_pred_all['Y pred probab (class: 0)'] = ypred_prob[:,0]\n",
    "        y_pred_all['Y pred probab (class: 1)'] = ypred_prob[:,1]\n",
    "        #\n",
    "        predicted_y_ALL = predicted_y_ALL.append(y_pred_all.reset_index())\n",
    "        roc_vals_ALL = roc_vals_ALL.append(roc_vals)\n",
    "        p_vs_r_ALL = p_vs_r_ALL.append(p_vs_r)\n",
    "        fi_pred_ALL = fi_pred_ALL.append(fi_pred)\n",
    "        fi_pred_train_ALL = fi_pred_train_ALL.append(fi_pred_train)\n",
    "        cm_ALL = cm_ALL.append(cm_stats)\n",
    "        report_ALL = report_ALL.append(report)"
   ]
  },
  {
   "cell_type": "code",
   "execution_count": null,
   "id": "830b3335",
   "metadata": {},
   "outputs": [],
   "source": [
    "LR_model.predict_proba(X_test)"
   ]
  },
  {
   "cell_type": "code",
   "execution_count": null,
   "id": "88660e2e",
   "metadata": {},
   "outputs": [],
   "source": [
    "#predicted_y_ALL = predicted_y_ALL.drop(columns={'BASIN'})\n",
    "predicted_y_ALL['BASIN'] = predicted_y_ALL['Predicted Basin']"
   ]
  },
  {
   "cell_type": "code",
   "execution_count": null,
   "id": "40ecd5b1",
   "metadata": {
    "scrolled": true
   },
   "outputs": [],
   "source": [
    "foo = report_ALL.reset_index().rename(columns={'index':'Score'})\n",
    "foo2 = foo.set_index(['Score'])\n",
    "sns.stripplot(data=foo2.xs('recall'),x='BASIN',y='1.0',palette=sns.color_palette('rocket_r'),s=15)\n",
    "sns.stripplot(data=foo2.xs('f1-score'),x='BASIN',y='1.0',palette=sns.color_palette('mako'),s=30,alpha=0.5)\n",
    "sns.stripplot(data=foo2.xs('precision'),x='BASIN',y='1.0',palette=sns.color_palette('Reds'),s=5)\n"
   ]
  },
  {
   "cell_type": "code",
   "execution_count": null,
   "id": "d337c4da",
   "metadata": {
    "scrolled": true
   },
   "outputs": [],
   "source": [
    "foo2#.xs('Recall').groupby(['BASIN']).max()"
   ]
  },
  {
   "cell_type": "code",
   "execution_count": null,
   "id": "52bd17cb",
   "metadata": {
    "scrolled": true
   },
   "outputs": [],
   "source": [
    "sns.stripplot(data=foo2.xs('recall'),x='BASIN',y='0.0',palette=sns.color_palette('rocket_r'),s=15)\n",
    "sns.stripplot(data=foo2.xs('f1-score'),x='BASIN',y='0.0',palette=sns.color_palette('mako'),s=30,alpha=0.5)\n",
    "sns.stripplot(data=foo2.xs('precision'),x='BASIN',y='0.0',palette=sns.color_palette('Reds'),s=5)\n"
   ]
  },
  {
   "cell_type": "markdown",
   "id": "21b147d1",
   "metadata": {},
   "source": [
    "Get directory and filenames for saving"
   ]
  },
  {
   "cell_type": "code",
   "execution_count": null,
   "id": "9ec8320b",
   "metadata": {},
   "outputs": [],
   "source": [
    "save_dir = 'DATA/ML_model_results/TRAINING/'\n",
    "model_type = 'LOGISTIC'\n",
    "save_dir = save_dir+model_type+'/'\n",
    "save_extension = 'TRAIN_{solver}_SHIPS_SIMPLE_RI_vs_no_RI_{yr_start}-{yr_end}_{mask_TYPE}_{stand_str}_RI_thresh_{RI_thresh}'\\\n",
    "'weights_{wts_str}_{N}_samples_{scoring}.csv'.format(solver=solver,yr_start=yr_start,yr_end=yr_end_TRAIN,mask_TYPE=mask_TYPE,\n",
    "                           stand_str=stand_str,RI_thresh=RI_thresh,wts_str=wts_str,N=N_samples,scoring=scoring)\n",
    "save_ext_figs = 'TRAIN_{solver}_SHIPS_SIMPLE_RI_vs_no_RI_{yr_start}-{yr_end}_{mask_TYPE}_{stand_str}_RI_thresh_{RI_thresh}'\\\n",
    "'weights_{wts_str}_{N}_samples_{scoring}.png'.format(solver=solver,yr_start=yr_start,yr_end=yr_end_TRAIN,mask_TYPE=mask_TYPE,\n",
    "                           stand_str=stand_str,RI_thresh=RI_thresh,wts_str=wts_str,N=N_samples,scoring=scoring)"
   ]
  },
  {
   "cell_type": "code",
   "execution_count": null,
   "id": "2b030c89",
   "metadata": {},
   "outputs": [],
   "source": []
  },
  {
   "cell_type": "code",
   "execution_count": null,
   "id": "e4098952",
   "metadata": {},
   "outputs": [],
   "source": [
    "predicted_y_ALL.to_csv(save_dir+'PREDICTED_Y_vals'+save_extension)\n",
    "roc_vals_ALL.to_csv(save_dir+'ROC_AUC_vals'+save_extension)\n",
    "p_vs_r_ALL.to_csv(save_dir+'Prec_vs_recall'+save_extension)\n",
    "fi_pred_ALL.to_csv(save_dir+'Feat_Imp_validation'+save_extension)\n",
    "fi_pred_train_ALL.to_csv(save_dir+'Feat_Imp_TRAIN'+save_extension)\n",
    "cm_ALL.to_csv(save_dir+'Conf_Matrix'+save_extension)\n",
    "report_ALL.to_csv(save_dir+'Class_Report'+save_extension)"
   ]
  },
  {
   "cell_type": "markdown",
   "id": "7ad2ae36",
   "metadata": {},
   "source": [
    "#### Make some basic plots for this LR model"
   ]
  },
  {
   "cell_type": "markdown",
   "id": "e26c83bf",
   "metadata": {},
   "source": [
    "###### Precision vs Recall plots"
   ]
  },
  {
   "cell_type": "code",
   "execution_count": null,
   "id": "9114d845",
   "metadata": {
    "scrolled": false
   },
   "outputs": [],
   "source": [
    "p_vs_r_ALL_plt = p_vs_r_ALL.reset_index()#.iloc[::2]\n",
    "#basin_sel = 'ALL'\n",
    "\n",
    "for basin_sel in BASIN_all:\n",
    "    foo = p_vs_r_ALL_plt.set_index(['BASIN']).loc[basin_sel].drop(columns={'index'})\n",
    "    foo2 = foo.copy()\n",
    "    foo2['Thresholds Round'] = foo2['Thresholds'].round(2)\n",
    "    means_plt = foo2.groupby(['Thresholds Round']).mean().reset_index()\n",
    "    fig1,ax1 = plt.subplots(1,1,figsize=(10,6))\n",
    "    sns.lineplot(data=foo2.reset_index(),x='Thresholds',y='Recall',hue='Fold',ax=ax1,alpha=0.25,legend=None,\n",
    "                palette = 'Reds')\n",
    "    sns.lineplot(data=foo2.reset_index(),x='Thresholds',y='Precision',hue='Fold',ax=ax1,alpha=0.25,legend=None,\n",
    "                palette = 'Blues')\n",
    "    sns.lineplot(data=foo2.reset_index(),x='Thresholds',y='F1',hue='Fold',ax=ax1,alpha=0.25,legend=None,\n",
    "                palette = 'YlOrBr')\n",
    "    thresh_min = foo2.reset_index()['Cutoff Threshold'].min()\n",
    "    thresh_max = foo2.reset_index()['Cutoff Threshold'].max()\n",
    "\n",
    "    ax1.axvspan(thresh_min,thresh_max,alpha=0.35,color='xkcd:gray',label='Cutoff Threshold')\n",
    "    sns.lineplot(data=means_plt,x='Thresholds Round',y='Recall',ax=ax1,linewidth=6,color='xkcd:crimson',label='Recall')\n",
    "    sns.lineplot(data=means_plt,x='Thresholds Round',y='Precision',ax=ax1,linewidth=6,color='xkcd:sky blue',label='Precision')\n",
    "    sns.lineplot(data=means_plt,x='Thresholds Round',y='F1',ax=ax1,linewidth=6,color='xkcd:goldenrod',label='F1')\n",
    "    ax1.set_xlabel('Thresholds',fontsize=19)\n",
    "    ax1.set_ylabel('Score',fontsize=19)\n",
    "    ax1.legend(fontsize=13)\n",
    "    ax1.grid()\n",
    "    ax1.set_title('Precision vs Recall, Identifying RI, {basin_sel} Basins, {solver} model'.format(basin_sel=basin_sel,\n",
    "                                                                                           solver=solver),fontsize=21)\n",
    "    fig1.savefig(save_dir+'figs/P_vs_R_{basin_sel}'.format(basin_sel=basin_sel)+save_ext_figs,format='png',\n",
    "                 dpi=250,bbox_inches='tight')"
   ]
  },
  {
   "cell_type": "code",
   "execution_count": null,
   "id": "c952bb97",
   "metadata": {},
   "outputs": [],
   "source": [
    "fig3,ax3 = plt.subplots(1,1,figsize=(10,6))\n",
    "sns.boxplot(data=roc_vals_ALL,x='BASIN',y='AUC ROC Score',ax=ax3,palette='twilight')\n",
    "ax3.set_ylim([0,1])\n",
    "ax3.set_xticklabels(roc_vals_ALL['BASIN'].unique(),fontsize=16,rotation=60)\n",
    "ax3.set_ylabel('AUC Score',fontsize=18)\n",
    "ax3.set_title('AUC Scores, {solver}'.format(solver=solver),fontsize=21)\n",
    "fig3.savefig(save_dir+'figs/AUC_scores_all_basins_{solver}'.format(solver=solver)+save_ext_figs,\n",
    "            format='png',dpi=250,bbox_inches='tight')"
   ]
  },
  {
   "cell_type": "code",
   "execution_count": null,
   "id": "7c2c5dd5",
   "metadata": {
    "scrolled": false
   },
   "outputs": [],
   "source": [
    "for basin_sel in BASIN_all:\n",
    "    fig2,ax2 = plt.subplots(1,1,figsize=(10,7))\n",
    "    roc_vals_plt = roc_vals_ALL.set_index(['BASIN']).xs(basin_sel).reset_index()\n",
    "    roc_min = roc_vals_plt['AUC ROC Score'].min()\n",
    "    roc_max = roc_vals_plt['AUC ROC Score'].max()\n",
    "\n",
    "    sns.lineplot(data=roc_vals_plt,x='False Positive Rate',y='True Positive Rate',hue='Fold',ax=ax2,legend=False,\n",
    "                alpha=0.3,palette='twilight')\n",
    "    ax2.plot([0,1],[0,1],color='k',linewidth=2)\n",
    "    ax2.axhspan(roc_min,roc_max,color='xkcd:gray',alpha=0.25,label='AUC Score')\n",
    "    ax2.set_xlabel('False Positive Rate',fontsize=18)\n",
    "    ax2.set_ylabel('True Positive Rate',fontsize=18)\n",
    "    roc_vals_mean = roc_vals_plt.groupby(roc_vals_plt['False Positive Rate'].round(2))[['True Positive Rate',\n",
    "                                    'AUC Thresholds']].mean().reset_index()\n",
    "    roc_vals_mean.plot(x='False Positive Rate',y='True Positive Rate',ax=ax2,color='xkcd:tangerine',linewidth=5,\n",
    "                      label='ROC curve')\n",
    "    ax2.legend(fontsize=13)\n",
    "    ax2.grid()\n",
    "    ax2.set_title('Identifying RI versus non-RI, {basin_sel} Basins, {solver} model'.format(basin_sel=basin_sel,\n",
    "                                                                                           solver=solver),fontsize=21)\n",
    "    f2_save = save_dir+'figs/ROC_curve_{basin_sel}'.format(basin_sel=basin_sel)\n",
    "    fig2.savefig(f2_save+save_ext_figs,format='png',\n",
    "                 dpi=250,bbox_inches='tight')"
   ]
  },
  {
   "cell_type": "code",
   "execution_count": null,
   "id": "70c7828b",
   "metadata": {},
   "outputs": [],
   "source": []
  },
  {
   "cell_type": "code",
   "execution_count": null,
   "id": "2f3de55a",
   "metadata": {
    "scrolled": false
   },
   "outputs": [],
   "source": [
    "report_plot = report_ALL.reset_index().rename(columns={'index':'Scores','0.0':'not RI','1.0':'RI'})\n",
    "report_plt_all = report_plot.set_index(['Scores','BASIN','Fold'])\n",
    "score_sel_ALL = ['recall','precision','f1-score','support']\n",
    "for score_sel in score_sel_ALL:\n",
    "    report_plt_mean = report_plt_all.xs((score_sel)).reset_index()\n",
    "    fig4,ax4 = plt.subplots(1,1,figsize=(10,6))\n",
    "    sns.boxplot(data=report_plt_mean,x='BASIN',y='RI',ax=ax4,palette='twilight')\n",
    "    if score_sel == 'support':\n",
    "        ax4.set_ylim([0,400])\n",
    "    else:\n",
    "        ax4.set_ylim([0,1])\n",
    "    ax4.set_ylabel('Classifying RI',fontsize=16)\n",
    "    ax4.set_xlabel(None)\n",
    "    ax4.set_xticklabels(report_plt_mean['BASIN'].unique(),fontsize=15,rotation=40)\n",
    "    ax4.grid()\n",
    "    ax4.set_title(' {score_sel}, Classifying RI Cases'.format(score_sel=score_sel),fontsize=20)\n",
    "    fig4.savefig(save_dir+'figs/{score_sel}_all_samples_RI_cases'.format(score_sel=score_sel)+save_ext_figs,\n",
    "                format='png',dpi=250,bbox_inches='tight')\n",
    "    "
   ]
  },
  {
   "cell_type": "code",
   "execution_count": null,
   "id": "f04c615d",
   "metadata": {
    "scrolled": false
   },
   "outputs": [],
   "source": [
    "report_plt2 = report_plt_all.loc[['precision','recall','f1-score']].mean(level=(0,1)).reset_index()\n",
    "fig5,(ax5a,ax5b) = plt.subplots(2,1,figsize=(10,8))\n",
    "sns.scatterplot(data=report_plt2,x='BASIN',y='not RI',hue='Scores',palette='twilight',s=130,ax=ax5a,alpha=0.7,legend=False)\n",
    "sns.lineplot(data=report_plt2,x='BASIN',y='not RI',hue='Scores',palette='twilight',linewidth=2,ax=ax5a,alpha=0.7)\n",
    "\n",
    "sns.scatterplot(data=report_plt2,x='BASIN',y='RI',hue='Scores',palette='twilight',s=130,ax=ax5b,alpha=0.7,legend=False)\n",
    "sns.lineplot(data=report_plt2,x='BASIN',y='RI',hue='Scores',palette='twilight',linewidth=2,ax=ax5b,alpha=0.7)\n",
    "\n",
    "ax5a.set_ylim([0,1])\n",
    "ax5b.set_ylim([0,1])\n",
    "ax5a.set_ylabel('not RI',fontsize=18)\n",
    "ax5b.set_ylabel('RI',fontsize=18)\n",
    "ax5a.set_xticklabels(report_plt2['BASIN'].unique(),fontsize=14,rotation=30)\n",
    "ax5a.set_xlabel(None)\n",
    "ax5b.set_xticklabels(report_plt2['BASIN'].unique(),fontsize=14,rotation=30)\n",
    "ax5b.set_xlabel(None)\n",
    "ax5a.grid()\n",
    "ax5b.grid()\n",
    "ax5a.legend(fontsize=13)\n",
    "ax5b.legend(fontsize=13)\n",
    "fig5.suptitle('Precision, Recall, and F1 Scores, Averaged Over Bootstrapped Samples',fontsize=20)\n",
    "fig5.tight_layout()\n",
    "fig5.savefig(save_dir+'figs/Scores_averaged_RI_non_RI'+save_ext_figs,\n",
    "            format='png',dpi=250,bbox_inches='tight')\n"
   ]
  },
  {
   "cell_type": "code",
   "execution_count": null,
   "id": "80ffcc2a",
   "metadata": {
    "scrolled": false
   },
   "outputs": [],
   "source": [
    "#sns.heatmap(data=cm_ALL,x='Category',y='Misses')\n",
    "#cm_ALL['BIAS'] = (cm_ALL['Hits']+cm_ALL['False Alarms'])/(cm_ALL['Hits'] + cm_ALL['Misses'])\n",
    "\n",
    "fig6,((ax6a,ax6b),(ax6c,ax6d)) = plt.subplots(2,2,figsize=(14,10))\n",
    "sns.boxplot(data=cm_ALL,x='BASIN',y='Misses',hue='Category Names',palette='mako',ax=ax6a)\n",
    "ax6a.set_ylabel('Misses',fontsize=15)\n",
    "ax6a.legend(fontsize=12)\n",
    "ax6a.set_xticklabels(cm_ALL['BASIN'].unique(),fontsize=14,rotation=30)\n",
    "ax6a.set_title('Misses',fontsize=19)\n",
    "ax6a.set_xlabel(None)\n",
    "#\n",
    "sns.boxplot(data=cm_ALL,x='BASIN',y='Hits',hue='Category Names',palette='mako',ax=ax6b)\n",
    "ax6b.set_ylabel('Hits',fontsize=15)\n",
    "ax6b.legend(fontsize=12)\n",
    "ax6b.set_xticklabels(cm_ALL['BASIN'].unique(),fontsize=14,rotation=30)\n",
    "ax6b.set_title('Hits',fontsize=19)\n",
    "ax6b.set_xlabel(None)\n",
    "#\n",
    "sns.boxplot(data=cm_ALL,x='BASIN',y='POD',hue='Category Names',palette='mako',ax=ax6c)\n",
    "ax6c.set_ylabel('POD',fontsize=15)\n",
    "ax6c.legend(fontsize=12)\n",
    "ax6c.set_xticklabels(cm_ALL['BASIN'].unique(),fontsize=14,rotation=30)\n",
    "ax6c.set_title('Probability of Detection',fontsize=19)\n",
    "ax6c.set_xlabel(None)\n",
    "#\n",
    "#\n",
    "sns.boxplot(data=cm_ALL,x='BASIN',y='Threat',hue='Category Names',palette='mako',ax=ax6d)\n",
    "ax6d.set_ylabel('Threat Score',fontsize=15)\n",
    "ax6d.legend(fontsize=12)\n",
    "ax6d.set_xticklabels(cm_ALL['BASIN'].unique(),fontsize=14,rotation=30)\n",
    "ax6d.set_title('Threat Score',fontsize=19)\n",
    "ax6d.set_xlabel(None)\n",
    "#\n",
    "\n",
    "fig6.suptitle('{solver} Model'.format(solver=solver),fontsize=21)\n",
    "fig6.tight_layout()\n",
    "fig6.savefig(save_dir+'figs/CM_results_RI_not_RI'+save_ext_figs,\n",
    "            format='png',dpi=250,bbox_inches='tight')"
   ]
  },
  {
   "cell_type": "code",
   "execution_count": null,
   "id": "1e5381bd",
   "metadata": {},
   "outputs": [],
   "source": [
    "# fi_plt_plt"
   ]
  },
  {
   "cell_type": "code",
   "execution_count": null,
   "id": "a5d527f8",
   "metadata": {
    "scrolled": false
   },
   "outputs": [],
   "source": [
    "fig7,ax7 = plt.subplots(1,1,figsize=(15,10))\n",
    "fi_plt = fi_pred_ALL.reset_index().sort_values(['BASIN','mean importance'],ascending=False)\n",
    "fi_plt['mean mean'] = fi_plt.groupby(['BASIN','index'])['mean importance'].transform('mean')\n",
    "fi_plt['max mean'] = fi_plt.groupby(['BASIN','index'])['mean importance'].transform('max')\n",
    "fi_plt_plt = fi_plt.sort_values(['BASIN','mean mean','max mean'],ascending=[True,False,False])\n",
    "sns.barplot(data=fi_plt_plt,x='index',y='mean importance',hue='BASIN',\n",
    "            palette='twilight',ax=ax7)\n",
    "ax7.set_xticklabels(fi_plt_plt['index'].unique(),fontsize=14,rotation=50)\n",
    "ax7.set_ylabel('Mean Importance',fontsize=17)\n",
    "ax7.set_xlabel(None)\n",
    "ax7.tick_params(axis='y',labelsize=14)\n",
    "ax7.grid()\n",
    "ax7.legend(fontsize=13)\n",
    "ax7.set_title('Feature Importances, not-RI vs RI, {solver}'.format(solver=solver),fontsize=21)\n",
    "fig7.tight_layout()\n",
    "fig7.savefig(save_dir+'figs/Feat_Imp_RI_not_RI'+save_ext_figs,\n",
    "            format='png',dpi=250,bbox_inches='tight')"
   ]
  },
  {
   "cell_type": "markdown",
   "id": "0fe10a9a",
   "metadata": {},
   "source": [
    "#### Each basin separately"
   ]
  },
  {
   "cell_type": "code",
   "execution_count": null,
   "id": "7abe684e",
   "metadata": {
    "scrolled": true
   },
   "outputs": [],
   "source": [
    "for basin_sel in BASIN_all:\n",
    "#basin_sel = 'ATLANTIC'\n",
    "    i_plt = fi_pred_ALL.reset_index().set_index(['BASIN']).xs(basin_sel).sort_values(['mean importance'],ascending=False)\n",
    "    i_plt['mean mean'] = i_plt.groupby(['index'])['mean importance'].transform('mean')\n",
    "    i_plt['max mean'] = i_plt.groupby(['index'])['mean importance'].transform('max')\n",
    "    i_plt_plt = i_plt.sort_values(['mean mean','max mean'],ascending=[False,False])\n",
    "    fig7,ax7 = plt.subplots(1,1,figsize=(15,10))\n",
    "\n",
    "    sns.barplot(data=i_plt_plt,x='index',y='mean importance',\n",
    "                palette='twilight',ax=ax7)\n",
    "    ax7.set_xticklabels(i_plt_plt['index'].unique(),fontsize=14,rotation=50)\n",
    "    ax7.set_ylabel('Mean Importance',fontsize=17)\n",
    "    ax7.tick_params(axis='y',labelsize=14)\n",
    "    ax7.set_xlabel(None)\n",
    "    ax7.grid()\n",
    "    #ax7.legend(fontsize=13)\n",
    "    ax7.set_title('Feature Importances, not-RI vs RI, {solver}, {basin}'.format(solver=solver,basin=basin_sel),fontsize=21)\n",
    "    fig7.tight_layout()\n",
    "    fig7.savefig(save_dir+'figs/Feat_Imp_RI_not_RI_{basin_sel}'.format(basin_sel=basin_sel)+save_ext_figs,\n",
    "                format='png',dpi=250,bbox_inches='tight')\n"
   ]
  },
  {
   "cell_type": "code",
   "execution_count": null,
   "id": "8cae425d",
   "metadata": {},
   "outputs": [],
   "source": [
    "fig7,ax7 = plt.subplots(1,1,figsize=(15,10))\n",
    "fi_plt = fi_pred_train_ALL.reset_index().sort_values(['BASIN','mean importance'],ascending=False)\n",
    "fi_plt['mean mean'] = fi_plt.groupby(['BASIN','index'])['mean importance'].transform('mean')\n",
    "fi_plt['max mean'] = fi_plt.groupby(['BASIN','index'])['mean importance'].transform('max')\n",
    "fi_plt_plt = fi_plt.sort_values(['BASIN','mean mean','max mean'],ascending=[True,False,False])\n",
    "sns.barplot(data=fi_plt_plt,x='index',y='mean importance',hue='BASIN',\n",
    "            palette='twilight',ax=ax7)\n",
    "ax7.set_xticklabels(fi_plt_plt['index'].unique(),fontsize=14,rotation=50)\n",
    "ax7.set_ylabel('Mean Importance',fontsize=17)\n",
    "ax7.set_xlabel(None)\n",
    "ax7.grid()\n",
    "ax7.tick_params(axis='y',labelsize=14)\n",
    "ax7.legend(fontsize=13)\n",
    "ax7.set_title('Feature Importances, TRAINING DATA, not-RI vs RI, {solver}'.format(solver=solver),fontsize=21)\n",
    "fig7.tight_layout()\n",
    "fig7.savefig(save_dir+'figs/Feat_Imp_TRAIN_RI_not_RI'+save_ext_figs,\n",
    "            format='png',dpi=250,bbox_inches='tight')"
   ]
  },
  {
   "cell_type": "markdown",
   "id": "97da32a2",
   "metadata": {},
   "source": [
    "#### Each basin separately"
   ]
  },
  {
   "cell_type": "code",
   "execution_count": null,
   "id": "a0aed19c",
   "metadata": {},
   "outputs": [],
   "source": [
    "for basin_sel in BASIN_all:\n",
    "#basin_sel = 'ATLANTIC'\n",
    "    i_plt = fi_pred_train_ALL.reset_index().set_index(['BASIN']).xs(basin_sel).sort_values(['mean importance'],ascending=False)\n",
    "    i_plt['mean mean'] = i_plt.groupby(['index'])['mean importance'].transform('mean')\n",
    "    i_plt['max mean'] = i_plt.groupby(['index'])['mean importance'].transform('max')\n",
    "    i_plt_plt = i_plt.sort_values(['mean mean','max mean'],ascending=[False,False])\n",
    "    fig7,ax7 = plt.subplots(1,1,figsize=(15,10))\n",
    "\n",
    "    sns.barplot(data=i_plt_plt,x='index',y='mean importance',\n",
    "                palette='twilight',ax=ax7)\n",
    "    ax7.set_xticklabels(i_plt_plt['index'].unique(),fontsize=14,rotation=50)\n",
    "    ax7.set_ylabel('Mean Importance',fontsize=17)\n",
    "    ax7.tick_params(axis='y',labelsize=14)\n",
    "    ax7.set_xlabel(None)\n",
    "    ax7.grid()\n",
    "    #ax7.legend(fontsize=13)\n",
    "    ax7.set_title('Feature Importances, TRAINING DATA, not-RI vs RI, {solver}, {basin}'.format(solver=solver,basin=basin_sel),fontsize=21)\n",
    "    fig7.tight_layout()\n",
    "    fig7.savefig(save_dir+'figs/Feat_Imp_RI_not_RI_TRAINING_{basin_sel}'.format(basin_sel=basin_sel)+save_ext_figs,\n",
    "                format='png',dpi=250,bbox_inches='tight')\n"
   ]
  },
  {
   "cell_type": "code",
   "execution_count": null,
   "id": "5824999c",
   "metadata": {
    "scrolled": true
   },
   "outputs": [],
   "source": [
    "fi_pred_ALL.reset_index().sort_values('mean importance',ascending=False).head(20)\n",
    "cm_ALL.groupby(['Category Names','BASIN','C']).count()"
   ]
  },
  {
   "cell_type": "markdown",
   "id": "7b573ff0",
   "metadata": {},
   "source": [
    "##### What do we need for a performance diagram?\n",
    "* Success ratio\n",
    "* Probability of detection\n",
    "* Bias\n",
    "* Threat score / Critical Success Index \n",
    "* Uncertainy for POD and success ratio\n",
    "\n",
    "1. X/Y axis is in POD / Success ratio space\n",
    "2. Then we have dashed lines showing bias scores, and solid contours labeling CSI "
   ]
  },
  {
   "cell_type": "code",
   "execution_count": null,
   "id": "872328ae",
   "metadata": {},
   "outputs": [],
   "source": []
  },
  {
   "cell_type": "code",
   "execution_count": null,
   "id": "74437cb2",
   "metadata": {
    "scrolled": true
   },
   "outputs": [],
   "source": [
    "fig12,ax12 = plt.subplots(1,1,figsize=(12,8))\n",
    "SHIPS_plotting.make_performance_diagram_background(ax12)\n",
    "\n",
    "#ax12.errorbar(cm_ALL_PD_sel.reset_index()['SR'],cm_ALL_PD_sel.reset_index()['POD'],yerr=cm_ALL_yerr,xerr=cm_ALL_xerr,\n",
    " #           linestyle='none',linewidth=2,color='k')\n",
    "#sns.scatterplot(data=cm_ALL_PD_sel.reset_index(),x='SR',y='POD',hue='BASIN',ax=ax12,palette=sns.set_palette(pal_sel),\n",
    "  #              s=180,zorder=10)\n",
    "ax12.set_title('Classifying RI Cases, {solver}'.format(solver=solver),fontsize=22)\n",
    "SHIPS_plotting.add_model_results(ax12,cm_ALL)\n",
    "fig12.savefig(save_dir+'figs/Performance_Diagram'+save_ext_figs,\n",
    "            format='png',dpi=250,bbox_inches='tight')"
   ]
  },
  {
   "cell_type": "markdown",
   "id": "5abfa1d1",
   "metadata": {},
   "source": [
    "#### Performance Diagram curves: PoD vs Success Ratio\n",
    "\n",
    "1. PoD vs Success Ratio curves.  Each fold shown separately, and then averaged across all folds.  Each basin will be separate.\n",
    "2. AUPD (area under performance diagram) scores. Calculated for each fold and shown as a swarm or box plot, all basins on one plot\n",
    "3. Max CSI. Calculated for each fold / basin and shown as swarm or box plot, all basins on one plot. \n",
    "4. CSI vs Bias.  Calculated for each fold / basin and shown as scatterplot, all basins on one plot. Also show mean across all folds. \n"
   ]
  },
  {
   "cell_type": "code",
   "execution_count": null,
   "id": "820422cf",
   "metadata": {
    "scrolled": false
   },
   "outputs": [],
   "source": [
    "pd_curves = SHIPS_ML_model_funcs.calculate_PD_curves(p_vs_r_ALL)\n",
    "fig15,ax15 = plt.subplots(1,1,figsize=(10,6))\n",
    "max_CSI_ind = p_vs_r_ALL.groupby(['BASIN','Fold'])[['CSI','Bias']].agg({'CSI':'max'}).reset_index()\n",
    "SHIPS_plotting.plot_basic_score_basin(ax15,max_CSI_ind,'CSI',False)\n",
    "ax15.set_title('Maximum CSI Scores for RI Cases, {solver}'.format(solver=solver),fontsize=20)\n",
    "ax15.set_ylabel('Maximum CSI Score',fontsize=16)\n",
    "ax15.set_ylim([0,0.6])\n",
    "fig15.savefig(save_dir+'figs/Max_CSI_RI_vs_basin'+save_ext_figs,\n",
    "            format='png',dpi=250,bbox_inches='tight')"
   ]
  },
  {
   "cell_type": "code",
   "execution_count": null,
   "id": "00ca8e98",
   "metadata": {
    "scrolled": true
   },
   "outputs": [],
   "source": [
    "#sns.swarmplot(data=foo2.reset_index(),x='BASIN',y='CSI')\n",
    "fig30,ax30 = plt.subplots(1,1,figsize=(10,6))\n",
    "SHIPS_plotting.plot_CSI_vs_bias(p_vs_r_ALL,ax30)\n",
    "ax30.set_title('Bias at Maximum CSI for RI cases, {solver}'.format(solver=solver),fontsize=21)\n",
    "fig30.savefig(save_dir+'figs/CSI_vs_bias_RI'+save_ext_figs,\n",
    "            format='png',dpi=250,bbox_inches='tight')"
   ]
  },
  {
   "cell_type": "code",
   "execution_count": null,
   "id": "3773fdcc",
   "metadata": {},
   "outputs": [],
   "source": [
    "b_c_max = p_vs_r_ALL.sort_values(['CSI'], ascending=[False]).groupby(['BASIN','Model','Fold']).first()\n",
    "sns.scatterplot(data=b_c_max.reset_index(),x='Bias',y='CSI',hue='BASIN',style='Model',alpha=0.4,legend=False)"
   ]
  },
  {
   "cell_type": "markdown",
   "id": "08a70464",
   "metadata": {},
   "source": [
    "##### Area under PD Curve"
   ]
  },
  {
   "cell_type": "code",
   "execution_count": null,
   "id": "ed7c5da2",
   "metadata": {
    "scrolled": false
   },
   "outputs": [],
   "source": [
    "aupd_scores = SHIPS_ML_model_funcs.calc_AUPD(p_vs_r_ALL)\n",
    "aupd_plt = aupd_scores.reset_index().rename(columns={0:'AUPD'})\n",
    "fig14,ax14 = plt.subplots(1,1,figsize=(10,6))\n",
    "SHIPS_plotting.plot_basic_score_basin(ax14,aupd_plt,'AUPD',True)\n",
    "ax14.set_ylabel('Area Under PD Curve',fontsize=16)\n",
    "ax14.set_title('Area Under Performance Diagram, RI Cases, {solver}'.format(solver=solver),fontsize=21)\n",
    "ax14.set_ylim([0,0.55])\n",
    "fig14.savefig(save_dir+'figs/AUPD_calculation_RI_cases'+save_ext_figs,\n",
    "            format='png',dpi=250,bbox_inches='tight')"
   ]
  },
  {
   "cell_type": "code",
   "execution_count": null,
   "id": "3964515c",
   "metadata": {},
   "outputs": [],
   "source": [
    "import warnings\n",
    "warnings.filterwarnings(\"ignore\")"
   ]
  },
  {
   "cell_type": "code",
   "execution_count": null,
   "id": "7e6d7e05",
   "metadata": {
    "scrolled": false
   },
   "outputs": [],
   "source": [
    "for basin_sel in BASIN_all:\n",
    "    fig23,ax23 = plt.subplots(1,1,figsize=(12,8))\n",
    "    SHIPS_plotting.make_performance_diagram_background(ax23)\n",
    "    SHIPS_plotting.plot_PD_curves(p_vs_r_ALL,ax23,basin_sel)\n",
    "    ax23.set_title('RI Cases, {basin_sel}, {solver}'.format(basin_sel=basin_sel,solver=solver),fontsize=22)\n",
    "    f23_save = save_dir+'figs/Performance_Diagram_CURVES_{basin_sel}'.format(basin_sel=basin_sel)\n",
    "    fig23.savefig(f23_save+save_ext_figs,\n",
    "                format='png',dpi=250,bbox_inches='tight')"
   ]
  },
  {
   "cell_type": "code",
   "execution_count": null,
   "id": "6f3ca465",
   "metadata": {},
   "outputs": [],
   "source": []
  }
 ],
 "metadata": {
  "kernelspec": {
   "display_name": "SHIPS",
   "language": "python",
   "name": "ships"
  },
  "language_info": {
   "codemirror_mode": {
    "name": "ipython",
    "version": 3
   },
   "file_extension": ".py",
   "mimetype": "text/x-python",
   "name": "python",
   "nbconvert_exporter": "python",
   "pygments_lexer": "ipython3",
   "version": "3.9.5"
  }
 },
 "nbformat": 4,
 "nbformat_minor": 5
}
