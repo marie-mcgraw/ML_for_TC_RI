{
 "cells": [
  {
   "cell_type": "code",
   "execution_count": 1,
   "id": "7e24683c",
   "metadata": {},
   "outputs": [],
   "source": [
    "import numpy as np\n",
    "import matplotlib.pyplot as plt\n",
    "import pandas as pd\n",
    "import os, glob\n",
    "import seaborn as sns"
   ]
  },
  {
   "cell_type": "markdown",
   "id": "6a85c9bf",
   "metadata": {},
   "source": [
    "Load edeck files (organized by year, and by basin)"
   ]
  },
  {
   "cell_type": "code",
   "execution_count": 2,
   "id": "8655c040",
   "metadata": {},
   "outputs": [],
   "source": [
    "year_sel = 2021\n",
    "etracks_dir = 'VALIDATION_data/edecks/{year_sel}/'.format(year_sel=year_sel)\n",
    "fnames_all = [os.path.join(etracks_dir, f) for f in os.listdir(etracks_dir) if f.endswith('.dat')]"
   ]
  },
  {
   "cell_type": "code",
   "execution_count": 3,
   "id": "fa9833b1",
   "metadata": {
    "scrolled": true
   },
   "outputs": [
    {
     "data": {
      "text/plain": [
       "['VALIDATION_data/edecks/2021/eal082021.dat',\n",
       " 'VALIDATION_data/edecks/2021/eal992021.dat',\n",
       " 'VALIDATION_data/edecks/2021/eep012021.dat',\n",
       " 'VALIDATION_data/edecks/2021/eep922021.dat',\n",
       " 'VALIDATION_data/edecks/2021/eep032021.dat',\n",
       " 'VALIDATION_data/edecks/2021/eal152021.dat',\n",
       " 'VALIDATION_data/edecks/2021/eep992021.dat',\n",
       " 'VALIDATION_data/edecks/2021/eep132021.dat',\n",
       " 'VALIDATION_data/edecks/2021/eep062021.dat',\n",
       " 'VALIDATION_data/edecks/2021/eep942021.dat',\n",
       " 'VALIDATION_data/edecks/2021/eep912021.dat',\n",
       " 'VALIDATION_data/edecks/2021/eep122021.dat',\n",
       " 'VALIDATION_data/edecks/2021/ecp912021.dat',\n",
       " 'VALIDATION_data/edecks/2021/eal162021.dat',\n",
       " 'VALIDATION_data/edecks/2021/eal142021.dat',\n",
       " 'VALIDATION_data/edecks/2021/eep092021.dat',\n",
       " 'VALIDATION_data/edecks/2021/eep142021.dat',\n",
       " 'VALIDATION_data/edecks/2021/eal982021.dat',\n",
       " 'VALIDATION_data/edecks/2021/eal112021.dat',\n",
       " 'VALIDATION_data/edecks/2021/eep902021.dat',\n",
       " 'VALIDATION_data/edecks/2021/eep022021.dat',\n",
       " 'VALIDATION_data/edecks/2021/eal102021.dat',\n",
       " 'VALIDATION_data/edecks/2021/eal182021.dat',\n",
       " 'VALIDATION_data/edecks/2021/eep082021.dat',\n",
       " 'VALIDATION_data/edecks/2021/eal122021.dat',\n",
       " 'VALIDATION_data/edecks/2021/eal912021.dat',\n",
       " 'VALIDATION_data/edecks/2021/eep182021.dat',\n",
       " 'VALIDATION_data/edecks/2021/eal092021.dat',\n",
       " 'VALIDATION_data/edecks/2021/eal192021.dat',\n",
       " 'VALIDATION_data/edecks/2021/eal942021.dat',\n",
       " 'VALIDATION_data/edecks/2021/ecp902021.dat',\n",
       " 'VALIDATION_data/edecks/2021/eal972021.dat',\n",
       " 'VALIDATION_data/edecks/2021/eep042021.dat',\n",
       " 'VALIDATION_data/edecks/2021/eal072021.dat',\n",
       " 'VALIDATION_data/edecks/2021/eal022021.dat',\n",
       " 'VALIDATION_data/edecks/2021/eal202021.dat',\n",
       " 'VALIDATION_data/edecks/2021/eal052021.dat',\n",
       " 'VALIDATION_data/edecks/2021/eal012021.dat',\n",
       " 'VALIDATION_data/edecks/2021/eal902021.dat',\n",
       " 'VALIDATION_data/edecks/2021/eal062021.dat',\n",
       " 'VALIDATION_data/edecks/2021/eal032021.dat',\n",
       " 'VALIDATION_data/edecks/2021/eep102021.dat',\n",
       " 'VALIDATION_data/edecks/2021/eep192021.dat',\n",
       " 'VALIDATION_data/edecks/2021/eep152021.dat',\n",
       " 'VALIDATION_data/edecks/2021/eal952021.dat',\n",
       " 'VALIDATION_data/edecks/2021/eep052021.dat',\n",
       " 'VALIDATION_data/edecks/2021/eal932021.dat',\n",
       " 'VALIDATION_data/edecks/2021/eep972021.dat',\n",
       " 'VALIDATION_data/edecks/2021/eal212021.dat',\n",
       " 'VALIDATION_data/edecks/2021/eep932021.dat',\n",
       " 'VALIDATION_data/edecks/2021/eep072021.dat',\n",
       " 'VALIDATION_data/edecks/2021/eep962021.dat',\n",
       " 'VALIDATION_data/edecks/2021/eep982021.dat',\n",
       " 'VALIDATION_data/edecks/2021/eep172021.dat',\n",
       " 'VALIDATION_data/edecks/2021/eep162021.dat',\n",
       " 'VALIDATION_data/edecks/2021/eal042021.dat',\n",
       " 'VALIDATION_data/edecks/2021/eep952021.dat',\n",
       " 'VALIDATION_data/edecks/2021/eal962021.dat',\n",
       " 'VALIDATION_data/edecks/2021/eal922021.dat',\n",
       " 'VALIDATION_data/edecks/2021/eal172021.dat',\n",
       " 'VALIDATION_data/edecks/2021/eep112021.dat',\n",
       " 'VALIDATION_data/edecks/2021/eal132021.dat']"
      ]
     },
     "execution_count": 3,
     "metadata": {},
     "output_type": "execute_result"
    }
   ],
   "source": [
    "fnames_all"
   ]
  },
  {
   "cell_type": "markdown",
   "id": "b302598c",
   "metadata": {},
   "source": [
    "#### General Format of Files\n",
    "BASIN  CYCLONE NUMBER  DATE (YYYYMMDDHH)   ProbFormat   Tech   TAU    LAT N/S    Lon E/W    PROB\n",
    "\n",
    "ProbFormat: \n",
    "* TR: track\n",
    "* IN: intensity\n",
    "* RI: rapid intensification\n",
    "* RW: rapid weakening\n",
    "* WR: wind radii\n",
    "* PR: pressure\n",
    "* GN: TC genesis probability\n",
    "* GS: TC genesis shape\n",
    "* ER: eyewall replacement\n",
    "\n",
    "Tech: objective technique\n",
    "\n",
    "TAU: forecast period (0-168 hrs)\n",
    "\n",
    "Lat N/S: 0-900 [tenths of degrees]\n",
    "\n",
    "Lon E/W: 0-1800 [tenths of degrees]\n",
    "\n",
    "Prob:  probability of ProbItem, 0-100%\n",
    "\n",
    "##### Intensity Probability\n",
    "* ProbItem: Wind speed (bias adjusted), 0-300 kts\n",
    "* TY:  level of TC development; currently unused\n",
    "* Half_Range: Half the probability range (radius), 0-50 kts\n",
    "\n",
    "###### Rapid Intensification Probability / Rapid Weakening Probability\n",
    "* ProbItem: Intensity change, 0-300 kts\n",
    "* V: final intensity, 0-300 kts\n",
    "* Initials: forecaster initials\n",
    "* RIstartTAU: RI start time, 0-168 hours\n",
    "* RIstopTAU: RI stop time, 0-168 hrs"
   ]
  },
  {
   "cell_type": "markdown",
   "id": "99e43f7d",
   "metadata": {},
   "source": [
    "Create empty dataframes so we can reformat and save data as csv file"
   ]
  },
  {
   "cell_type": "code",
   "execution_count": 5,
   "id": "a70a2739",
   "metadata": {},
   "outputs": [],
   "source": [
    "#\n",
    "IN_valid_names = {'BASIN':[],'CYCLONE NO':[],'DATE':[],'ProbFormat':[],\n",
    "                'Tech':[],'TAU':[],'LAT':[],'LON':[],'ProbItem':[],'TY':[],\n",
    "                            'foo':[],'HalfRange':[]}\n",
    "RI_valid_names = {'BASIN':[],'CYCLONE NO':[],'DATE':[],'ProbFormat':[],\n",
    "                'Tech':[],'TAU':[],'LAT':[],'LON':[],'ProbItem':[],'Intensity Change':[],\n",
    "                            'V':[],'Initials':[],'RIstartTAU':[],'RIstopTAU':[]}\n",
    "etracks_valid_RI = pd.DataFrame.from_dict(RI_valid_names,orient='columns')\n",
    "etracks_valid_IN = pd.DataFrame.from_dict(IN_valid_names,orient='columns')\n",
    "etracks_valid_RW = pd.DataFrame.from_dict(RI_valid_names,orient='columns')\n"
   ]
  },
  {
   "cell_type": "code",
   "execution_count": null,
   "id": "ab85c8ef",
   "metadata": {
    "scrolled": false
   },
   "outputs": [],
   "source": []
  },
  {
   "cell_type": "code",
   "execution_count": 7,
   "id": "e8977f5a",
   "metadata": {},
   "outputs": [],
   "source": [
    "#for i in np.arange(0,len(fnames_all)):\n",
    "i = 30\n",
    "fname = fnames_all[i]\n",
    "#i_basin = BASIN[i]\n",
    "fname_full = open(fname)\n",
    "lines = fname_full.readlines()\n",
    "\n",
    "for iline in np.arange(0,len(lines)):\n",
    "    #iline = 37\n",
    "    line_sel = lines[iline].split()\n",
    "    i_pf = line_sel[3]\n",
    "    #print(i_pf)\n",
    "    if i_pf == 'RI,':\n",
    "        #print('RI!')\n",
    "        etracks_valid_RI = etracks_valid_RI.append(pd.Series(line_sel, index = etracks_valid_RI.columns),ignore_index=True)\n",
    "    elif i_pf == 'IN,':\n",
    "        #print('Intensity')\n",
    "        etracks_valid_IN = etracks_valid_IN.append(pd.Series(line_sel, index = etracks_valid_IN.columns),ignore_index=True)\n",
    "    #\n",
    "    elif i_pf == 'RW,':\n",
    "        print('RW')\n",
    "        etracks_valid_RW = etracks_valid_RW.append(pd.Series(line_sel, index = etracks_valid_RW.columns),ignore_index=True)\n"
   ]
  },
  {
   "cell_type": "code",
   "execution_count": 6,
   "id": "9dbce3ed",
   "metadata": {},
   "outputs": [
    {
     "data": {
      "text/plain": [
       "'VALIDATION_data/edecks/2021/eal132021.dat'"
      ]
     },
     "execution_count": 6,
     "metadata": {},
     "output_type": "execute_result"
    }
   ],
   "source": [
    "fname"
   ]
  },
  {
   "cell_type": "code",
   "execution_count": 7,
   "id": "f186d33b",
   "metadata": {},
   "outputs": [
    {
     "data": {
      "text/html": [
       "<div>\n",
       "<style scoped>\n",
       "    .dataframe tbody tr th:only-of-type {\n",
       "        vertical-align: middle;\n",
       "    }\n",
       "\n",
       "    .dataframe tbody tr th {\n",
       "        vertical-align: top;\n",
       "    }\n",
       "\n",
       "    .dataframe thead th {\n",
       "        text-align: right;\n",
       "    }\n",
       "</style>\n",
       "<table border=\"1\" class=\"dataframe\">\n",
       "  <thead>\n",
       "    <tr style=\"text-align: right;\">\n",
       "      <th></th>\n",
       "      <th>BASIN</th>\n",
       "      <th>CYCLONE NO</th>\n",
       "      <th>DATE</th>\n",
       "      <th>ProbFormat</th>\n",
       "      <th>Tech</th>\n",
       "      <th>TAU</th>\n",
       "      <th>LAT</th>\n",
       "      <th>LON</th>\n",
       "      <th>ProbItem</th>\n",
       "      <th>TY</th>\n",
       "      <th>foo</th>\n",
       "      <th>HalfRange</th>\n",
       "    </tr>\n",
       "  </thead>\n",
       "  <tbody>\n",
       "    <tr>\n",
       "      <th>0</th>\n",
       "      <td>AL,</td>\n",
       "      <td>08,</td>\n",
       "      <td>2021081500,</td>\n",
       "      <td>IN,</td>\n",
       "      <td>IVCN,</td>\n",
       "      <td>12,</td>\n",
       "      <td>,</td>\n",
       "      <td>,</td>\n",
       "      <td>68,</td>\n",
       "      <td>30,</td>\n",
       "      <td>,</td>\n",
       "      <td>4,</td>\n",
       "    </tr>\n",
       "    <tr>\n",
       "      <th>1</th>\n",
       "      <td>AL,</td>\n",
       "      <td>08,</td>\n",
       "      <td>2021081500,</td>\n",
       "      <td>IN,</td>\n",
       "      <td>IVCN,</td>\n",
       "      <td>24,</td>\n",
       "      <td>,</td>\n",
       "      <td>,</td>\n",
       "      <td>68,</td>\n",
       "      <td>34,</td>\n",
       "      <td>,</td>\n",
       "      <td>6,</td>\n",
       "    </tr>\n",
       "    <tr>\n",
       "      <th>2</th>\n",
       "      <td>AL,</td>\n",
       "      <td>08,</td>\n",
       "      <td>2021081500,</td>\n",
       "      <td>IN,</td>\n",
       "      <td>IVCN,</td>\n",
       "      <td>36,</td>\n",
       "      <td>,</td>\n",
       "      <td>,</td>\n",
       "      <td>68,</td>\n",
       "      <td>38,</td>\n",
       "      <td>,</td>\n",
       "      <td>8,</td>\n",
       "    </tr>\n",
       "    <tr>\n",
       "      <th>3</th>\n",
       "      <td>AL,</td>\n",
       "      <td>08,</td>\n",
       "      <td>2021081500,</td>\n",
       "      <td>IN,</td>\n",
       "      <td>IVCN,</td>\n",
       "      <td>48,</td>\n",
       "      <td>,</td>\n",
       "      <td>,</td>\n",
       "      <td>68,</td>\n",
       "      <td>43,</td>\n",
       "      <td>,</td>\n",
       "      <td>12,</td>\n",
       "    </tr>\n",
       "    <tr>\n",
       "      <th>4</th>\n",
       "      <td>AL,</td>\n",
       "      <td>08,</td>\n",
       "      <td>2021081500,</td>\n",
       "      <td>IN,</td>\n",
       "      <td>IVCN,</td>\n",
       "      <td>60,</td>\n",
       "      <td>,</td>\n",
       "      <td>,</td>\n",
       "      <td>68,</td>\n",
       "      <td>45,</td>\n",
       "      <td>,</td>\n",
       "      <td>14,</td>\n",
       "    </tr>\n",
       "    <tr>\n",
       "      <th>...</th>\n",
       "      <td>...</td>\n",
       "      <td>...</td>\n",
       "      <td>...</td>\n",
       "      <td>...</td>\n",
       "      <td>...</td>\n",
       "      <td>...</td>\n",
       "      <td>...</td>\n",
       "      <td>...</td>\n",
       "      <td>...</td>\n",
       "      <td>...</td>\n",
       "      <td>...</td>\n",
       "      <td>...</td>\n",
       "    </tr>\n",
       "    <tr>\n",
       "      <th>17496</th>\n",
       "      <td>AL,</td>\n",
       "      <td>13,</td>\n",
       "      <td>2021091000,</td>\n",
       "      <td>IN,</td>\n",
       "      <td>IVCN,</td>\n",
       "      <td>48,</td>\n",
       "      <td>,</td>\n",
       "      <td>,</td>\n",
       "      <td>68,</td>\n",
       "      <td>23,</td>\n",
       "      <td>,</td>\n",
       "      <td>7,</td>\n",
       "    </tr>\n",
       "    <tr>\n",
       "      <th>17497</th>\n",
       "      <td>AL,</td>\n",
       "      <td>13,</td>\n",
       "      <td>2021091000,</td>\n",
       "      <td>IN,</td>\n",
       "      <td>IVCN,</td>\n",
       "      <td>60,</td>\n",
       "      <td>,</td>\n",
       "      <td>,</td>\n",
       "      <td>68,</td>\n",
       "      <td>22,</td>\n",
       "      <td>,</td>\n",
       "      <td>9,</td>\n",
       "    </tr>\n",
       "    <tr>\n",
       "      <th>17498</th>\n",
       "      <td>AL,</td>\n",
       "      <td>13,</td>\n",
       "      <td>2021091000,</td>\n",
       "      <td>IN,</td>\n",
       "      <td>IVCN,</td>\n",
       "      <td>72,</td>\n",
       "      <td>,</td>\n",
       "      <td>,</td>\n",
       "      <td>68,</td>\n",
       "      <td>20,</td>\n",
       "      <td>,</td>\n",
       "      <td>12,</td>\n",
       "    </tr>\n",
       "    <tr>\n",
       "      <th>17499</th>\n",
       "      <td>AL,</td>\n",
       "      <td>13,</td>\n",
       "      <td>2021091000,</td>\n",
       "      <td>IN,</td>\n",
       "      <td>IVCN,</td>\n",
       "      <td>96,</td>\n",
       "      <td>,</td>\n",
       "      <td>,</td>\n",
       "      <td>68,</td>\n",
       "      <td>24,</td>\n",
       "      <td>,</td>\n",
       "      <td>11,</td>\n",
       "    </tr>\n",
       "    <tr>\n",
       "      <th>17500</th>\n",
       "      <td>AL,</td>\n",
       "      <td>13,</td>\n",
       "      <td>2021091000,</td>\n",
       "      <td>IN,</td>\n",
       "      <td>IVCN,</td>\n",
       "      <td>120,</td>\n",
       "      <td>,</td>\n",
       "      <td>,</td>\n",
       "      <td>68,</td>\n",
       "      <td>24,</td>\n",
       "      <td>,</td>\n",
       "      <td>9,</td>\n",
       "    </tr>\n",
       "  </tbody>\n",
       "</table>\n",
       "<p>17501 rows × 12 columns</p>\n",
       "</div>"
      ],
      "text/plain": [
       "      BASIN CYCLONE NO         DATE ProbFormat   Tech   TAU LAT LON ProbItem  \\\n",
       "0       AL,        08,  2021081500,        IN,  IVCN,   12,   ,   ,      68,   \n",
       "1       AL,        08,  2021081500,        IN,  IVCN,   24,   ,   ,      68,   \n",
       "2       AL,        08,  2021081500,        IN,  IVCN,   36,   ,   ,      68,   \n",
       "3       AL,        08,  2021081500,        IN,  IVCN,   48,   ,   ,      68,   \n",
       "4       AL,        08,  2021081500,        IN,  IVCN,   60,   ,   ,      68,   \n",
       "...     ...        ...          ...        ...    ...   ...  ..  ..      ...   \n",
       "17496   AL,        13,  2021091000,        IN,  IVCN,   48,   ,   ,      68,   \n",
       "17497   AL,        13,  2021091000,        IN,  IVCN,   60,   ,   ,      68,   \n",
       "17498   AL,        13,  2021091000,        IN,  IVCN,   72,   ,   ,      68,   \n",
       "17499   AL,        13,  2021091000,        IN,  IVCN,   96,   ,   ,      68,   \n",
       "17500   AL,        13,  2021091000,        IN,  IVCN,  120,   ,   ,      68,   \n",
       "\n",
       "        TY foo HalfRange  \n",
       "0      30,   ,        4,  \n",
       "1      34,   ,        6,  \n",
       "2      38,   ,        8,  \n",
       "3      43,   ,       12,  \n",
       "4      45,   ,       14,  \n",
       "...    ...  ..       ...  \n",
       "17496  23,   ,        7,  \n",
       "17497  22,   ,        9,  \n",
       "17498  20,   ,       12,  \n",
       "17499  24,   ,       11,  \n",
       "17500  24,   ,        9,  \n",
       "\n",
       "[17501 rows x 12 columns]"
      ]
     },
     "execution_count": 7,
     "metadata": {},
     "output_type": "execute_result"
    }
   ],
   "source": [
    "etracks_valid_IN#.sort_values('CYCLONE NO')['CYCLONE NO'].unique()\n",
    "#fnames_all"
   ]
  },
  {
   "cell_type": "markdown",
   "id": "857c69a0",
   "metadata": {},
   "source": [
    "### Clean up data a bit.  \n",
    "* Remove extraneous commas\n",
    "* Replace basin names with full names\n",
    "* Convert dates into datetime format"
   ]
  },
  {
   "cell_type": "code",
   "execution_count": 8,
   "id": "8f49487f",
   "metadata": {},
   "outputs": [],
   "source": [
    "# Remove commas\n",
    "etracks_valid_RI = etracks_valid_RI.replace(\",\", \"\", regex=True)\n",
    "etracks_valid_RW = etracks_valid_RW.replace(\",\", \"\", regex=True)\n",
    "etracks_valid_IN = etracks_valid_IN.replace(\",\",\"\",regex = True)"
   ]
  },
  {
   "cell_type": "code",
   "execution_count": null,
   "id": "8707fc31",
   "metadata": {},
   "outputs": [],
   "source": []
  },
  {
   "cell_type": "code",
   "execution_count": 9,
   "id": "9b001735",
   "metadata": {
    "scrolled": true
   },
   "outputs": [
    {
     "data": {
      "text/plain": [
       "0         2021081500\n",
       "1         2021081500\n",
       "2         2021081500\n",
       "3         2021081500\n",
       "4         2021081500\n",
       "             ...    \n",
       "102687    2021091000\n",
       "102688    2021091000\n",
       "102689    2021091000\n",
       "102690    2021091000\n",
       "102691    2021091000\n",
       "Name: DATE, Length: 102692, dtype: object"
      ]
     },
     "execution_count": 9,
     "metadata": {},
     "output_type": "execute_result"
    }
   ],
   "source": [
    "etracks_valid_RI['DATE']"
   ]
  },
  {
   "cell_type": "code",
   "execution_count": 10,
   "id": "9e194b01",
   "metadata": {},
   "outputs": [],
   "source": [
    "# Dates\n",
    "etracks_valid_RI['DATE'] = pd.to_datetime(etracks_valid_RI['DATE'].astype(str),format='%Y%m%d%H')\n",
    "etracks_valid_RW['DATE'] = pd.to_datetime(etracks_valid_RW['DATE'].astype(str),format='%Y%m%d%H')\n",
    "etracks_valid_IN['DATE'] = pd.to_datetime(etracks_valid_IN['DATE'].astype(str),format='%Y%m%d%H')\n"
   ]
  },
  {
   "cell_type": "code",
   "execution_count": 11,
   "id": "ee1fefe8",
   "metadata": {},
   "outputs": [],
   "source": [
    "# Change basin names\n",
    "etracks_valid_RI = etracks_valid_RI.replace(\"AL\",\"ATLANTIC\",regex=True)\n",
    "etracks_valid_RI = etracks_valid_RI.replace(\"EP\",\"EAST_PACIFIC\",regex=True)\n",
    "etracks_valid_RI = etracks_valid_RI.replace(\"CP\",\"CENTRAL_PACIFIC\",regex=True)\n",
    "#\n",
    "etracks_valid_RW = etracks_valid_RW.replace(\"AL\",\"ATLANTIC\",regex=True)\n",
    "etracks_valid_RW = etracks_valid_RW.replace(\"EP\",\"EAST_PACIFIC\",regex=True)\n",
    "etracks_valid_RW = etracks_valid_RW.replace(\"CP\",\"CENTRAL_PACIFIC\",regex=True)\n",
    "#\n",
    "etracks_valid_IN = etracks_valid_IN.replace(\"AL\",\"ATLANTIC\",regex=True)\n",
    "etracks_valid_IN = etracks_valid_IN.replace(\"EP\",\"EAST_PACIFIC\",regex=True)\n",
    "etracks_valid_IN = etracks_valid_IN.replace(\"CP\",\"CENTRAL_PACIFIC\",regex=True)\n"
   ]
  },
  {
   "cell_type": "code",
   "execution_count": 12,
   "id": "783ae5cd",
   "metadata": {},
   "outputs": [],
   "source": [
    "etracks_valid_RI.to_csv('VALIDATION_data/edecks/etracks_RI_{year_sel}.csv'.format(year_sel=year_sel))\n",
    "etracks_valid_IN.to_csv('VALIDATION_data/edecks/etracks_IN_{year_sel}.csv'.format(year_sel=year_sel))\n",
    "#etracks_valid_RI.to_csv('etracks_RI.csv')\n"
   ]
  },
  {
   "cell_type": "code",
   "execution_count": 13,
   "id": "8413f77c",
   "metadata": {},
   "outputs": [
    {
     "data": {
      "text/plain": [
       "array(['ATLANTIC', 'EAST_PACIFIC', 'CENTRAL_PACIFIC'], dtype=object)"
      ]
     },
     "execution_count": 13,
     "metadata": {},
     "output_type": "execute_result"
    }
   ],
   "source": [
    "etracks_valid_IN['BASIN'].unique()"
   ]
  },
  {
   "cell_type": "code",
   "execution_count": 14,
   "id": "2fdbbe12",
   "metadata": {
    "scrolled": true
   },
   "outputs": [
    {
     "data": {
      "text/plain": [
       "<AxesSubplot:xlabel='ProbItem', ylabel='Density'>"
      ]
     },
     "execution_count": 14,
     "metadata": {},
     "output_type": "execute_result"
    },
    {
     "data": {
      "image/png": "[encoded data removed]",
      "text/plain": [
       "<Figure size 432x288 with 1 Axes>"
      ]
     },
     "metadata": {
      "needs_background": "light"
     },
     "output_type": "display_data"
    }
   ],
   "source": [
    "import seaborn as sns\n",
    "etracks_test = etracks_valid_RI.copy()\n",
    "etracks_test['ProbItem'] = etracks_test['ProbItem'].astype(int)\n",
    "sns.kdeplot(data=etracks_test,x='ProbItem',hue='BASIN')"
   ]
  },
  {
   "cell_type": "code",
   "execution_count": 15,
   "id": "6f06afd2",
   "metadata": {},
   "outputs": [],
   "source": [
    "foo = etracks_test.where((etracks_test['RIstopTAU'].astype(int) <= 24)\n",
    "                        & (etracks_test['Intensity Change'].astype(int) > 0)).dropna(how='all')"
   ]
  },
  {
   "cell_type": "code",
   "execution_count": 16,
   "id": "4c697d27",
   "metadata": {},
   "outputs": [
    {
     "data": {
      "text/plain": [
       "<AxesSubplot:xlabel='ProbItem', ylabel='Count'>"
      ]
     },
     "execution_count": 16,
     "metadata": {},
     "output_type": "execute_result"
    },
    {
     "data": {
      "image/png": "[encoded data removed]",
      "text/plain": [
       "<Figure size 432x288 with 1 Axes>"
      ]
     },
     "metadata": {
      "needs_background": "light"
     },
     "output_type": "display_data"
    }
   ],
   "source": [
    "sns.histplot(data=foo,x='ProbItem',binwidth=10)"
   ]
  },
  {
   "cell_type": "code",
   "execution_count": 17,
   "id": "63430d0e",
   "metadata": {},
   "outputs": [
    {
     "data": {
      "text/plain": [
       "(array([55007,  5584,  2057,   812,   476,   282,   169,    82,    36,\n",
       "           20]),\n",
       " array([  0.,  10.,  20.,  30.,  40.,  50.,  60.,  70.,  80.,  90., 100.]))"
      ]
     },
     "execution_count": 17,
     "metadata": {},
     "output_type": "execute_result"
    }
   ],
   "source": [
    "np.histogram(foo['ProbItem'],)"
   ]
  },
  {
   "cell_type": "code",
   "execution_count": 19,
   "id": "38013db6",
   "metadata": {},
   "outputs": [
    {
     "data": {
      "text/html": [
       "<div>\n",
       "<style scoped>\n",
       "    .dataframe tbody tr th:only-of-type {\n",
       "        vertical-align: middle;\n",
       "    }\n",
       "\n",
       "    .dataframe tbody tr th {\n",
       "        vertical-align: top;\n",
       "    }\n",
       "\n",
       "    .dataframe thead th {\n",
       "        text-align: right;\n",
       "    }\n",
       "</style>\n",
       "<table border=\"1\" class=\"dataframe\">\n",
       "  <thead>\n",
       "    <tr style=\"text-align: right;\">\n",
       "      <th></th>\n",
       "      <th></th>\n",
       "      <th></th>\n",
       "      <th>CYCLONE NO</th>\n",
       "      <th>ProbFormat</th>\n",
       "      <th>TAU</th>\n",
       "      <th>LAT</th>\n",
       "      <th>LON</th>\n",
       "      <th>ProbItem</th>\n",
       "      <th>Intensity Change</th>\n",
       "      <th>V</th>\n",
       "      <th>Initials</th>\n",
       "      <th>RIstartTAU</th>\n",
       "      <th>RIstopTAU</th>\n",
       "    </tr>\n",
       "    <tr>\n",
       "      <th>BASIN</th>\n",
       "      <th>DATE</th>\n",
       "      <th>Tech</th>\n",
       "      <th></th>\n",
       "      <th></th>\n",
       "      <th></th>\n",
       "      <th></th>\n",
       "      <th></th>\n",
       "      <th></th>\n",
       "      <th></th>\n",
       "      <th></th>\n",
       "      <th></th>\n",
       "      <th></th>\n",
       "      <th></th>\n",
       "    </tr>\n",
       "  </thead>\n",
       "  <tbody>\n",
       "    <tr>\n",
       "      <th rowspan=\"11\" valign=\"top\">ATLANTIC</th>\n",
       "      <th rowspan=\"5\" valign=\"top\">2021-08-15</th>\n",
       "      <th>EIOB</th>\n",
       "      <td>08</td>\n",
       "      <td>RI</td>\n",
       "      <td>12</td>\n",
       "      <td>360N</td>\n",
       "      <td>635W</td>\n",
       "      <td>0</td>\n",
       "      <td>20</td>\n",
       "      <td>45</td>\n",
       "      <td></td>\n",
       "      <td>0</td>\n",
       "      <td>12</td>\n",
       "    </tr>\n",
       "    <tr>\n",
       "      <th>EIOB</th>\n",
       "      <td>08</td>\n",
       "      <td>RI</td>\n",
       "      <td>24</td>\n",
       "      <td>360N</td>\n",
       "      <td>635W</td>\n",
       "      <td>0</td>\n",
       "      <td>25</td>\n",
       "      <td>50</td>\n",
       "      <td></td>\n",
       "      <td>0</td>\n",
       "      <td>24</td>\n",
       "    </tr>\n",
       "    <tr>\n",
       "      <th>EIOB</th>\n",
       "      <td>08</td>\n",
       "      <td>RI</td>\n",
       "      <td>24</td>\n",
       "      <td>360N</td>\n",
       "      <td>635W</td>\n",
       "      <td>0</td>\n",
       "      <td>30</td>\n",
       "      <td>55</td>\n",
       "      <td></td>\n",
       "      <td>0</td>\n",
       "      <td>24</td>\n",
       "    </tr>\n",
       "    <tr>\n",
       "      <th>EIOB</th>\n",
       "      <td>08</td>\n",
       "      <td>RI</td>\n",
       "      <td>24</td>\n",
       "      <td>360N</td>\n",
       "      <td>635W</td>\n",
       "      <td>0</td>\n",
       "      <td>35</td>\n",
       "      <td>60</td>\n",
       "      <td></td>\n",
       "      <td>0</td>\n",
       "      <td>24</td>\n",
       "    </tr>\n",
       "    <tr>\n",
       "      <th>EIOB</th>\n",
       "      <td>08</td>\n",
       "      <td>RI</td>\n",
       "      <td>24</td>\n",
       "      <td>360N</td>\n",
       "      <td>635W</td>\n",
       "      <td>0</td>\n",
       "      <td>40</td>\n",
       "      <td>65</td>\n",
       "      <td></td>\n",
       "      <td>0</td>\n",
       "      <td>24</td>\n",
       "    </tr>\n",
       "    <tr>\n",
       "      <th>...</th>\n",
       "      <th>...</th>\n",
       "      <td>...</td>\n",
       "      <td>...</td>\n",
       "      <td>...</td>\n",
       "      <td>...</td>\n",
       "      <td>...</td>\n",
       "      <td>...</td>\n",
       "      <td>...</td>\n",
       "      <td>...</td>\n",
       "      <td>...</td>\n",
       "      <td>...</td>\n",
       "      <td>...</td>\n",
       "    </tr>\n",
       "    <tr>\n",
       "      <th rowspan=\"5\" valign=\"top\">2021-09-10</th>\n",
       "      <th>RIOL</th>\n",
       "      <td>13</td>\n",
       "      <td>RI</td>\n",
       "      <td>24</td>\n",
       "      <td>322N</td>\n",
       "      <td>761W</td>\n",
       "      <td>1</td>\n",
       "      <td>30</td>\n",
       "      <td>60</td>\n",
       "      <td></td>\n",
       "      <td>0</td>\n",
       "      <td>24</td>\n",
       "    </tr>\n",
       "    <tr>\n",
       "      <th>RIOL</th>\n",
       "      <td>13</td>\n",
       "      <td>RI</td>\n",
       "      <td>24</td>\n",
       "      <td>322N</td>\n",
       "      <td>761W</td>\n",
       "      <td>0</td>\n",
       "      <td>35</td>\n",
       "      <td>65</td>\n",
       "      <td></td>\n",
       "      <td>0</td>\n",
       "      <td>24</td>\n",
       "    </tr>\n",
       "    <tr>\n",
       "      <th>RIOL</th>\n",
       "      <td>13</td>\n",
       "      <td>RI</td>\n",
       "      <td>24</td>\n",
       "      <td>322N</td>\n",
       "      <td>761W</td>\n",
       "      <td>0</td>\n",
       "      <td>40</td>\n",
       "      <td>70</td>\n",
       "      <td></td>\n",
       "      <td>0</td>\n",
       "      <td>24</td>\n",
       "    </tr>\n",
       "    <tr>\n",
       "      <th>RIOL</th>\n",
       "      <td>13</td>\n",
       "      <td>RI</td>\n",
       "      <td>36</td>\n",
       "      <td>322N</td>\n",
       "      <td>761W</td>\n",
       "      <td>0</td>\n",
       "      <td>45</td>\n",
       "      <td>75</td>\n",
       "      <td></td>\n",
       "      <td>0</td>\n",
       "      <td>36</td>\n",
       "    </tr>\n",
       "    <tr>\n",
       "      <th>RIOL</th>\n",
       "      <td>13</td>\n",
       "      <td>RI</td>\n",
       "      <td>48</td>\n",
       "      <td>322N</td>\n",
       "      <td>761W</td>\n",
       "      <td>0</td>\n",
       "      <td>55</td>\n",
       "      <td>85</td>\n",
       "      <td></td>\n",
       "      <td>0</td>\n",
       "      <td>48</td>\n",
       "    </tr>\n",
       "  </tbody>\n",
       "</table>\n",
       "<p>102692 rows × 11 columns</p>\n",
       "</div>"
      ],
      "text/plain": [
       "                         CYCLONE NO ProbFormat TAU   LAT   LON  ProbItem  \\\n",
       "BASIN    DATE       Tech                                                   \n",
       "ATLANTIC 2021-08-15 EIOB         08         RI  12  360N  635W         0   \n",
       "                    EIOB         08         RI  24  360N  635W         0   \n",
       "                    EIOB         08         RI  24  360N  635W         0   \n",
       "                    EIOB         08         RI  24  360N  635W         0   \n",
       "                    EIOB         08         RI  24  360N  635W         0   \n",
       "...                             ...        ...  ..   ...   ...       ...   \n",
       "         2021-09-10 RIOL         13         RI  24  322N  761W         1   \n",
       "                    RIOL         13         RI  24  322N  761W         0   \n",
       "                    RIOL         13         RI  24  322N  761W         0   \n",
       "                    RIOL         13         RI  36  322N  761W         0   \n",
       "                    RIOL         13         RI  48  322N  761W         0   \n",
       "\n",
       "                         Intensity Change   V Initials RIstartTAU RIstopTAU  \n",
       "BASIN    DATE       Tech                                                     \n",
       "ATLANTIC 2021-08-15 EIOB               20  45                   0        12  \n",
       "                    EIOB               25  50                   0        24  \n",
       "                    EIOB               30  55                   0        24  \n",
       "                    EIOB               35  60                   0        24  \n",
       "                    EIOB               40  65                   0        24  \n",
       "...                                   ...  ..      ...        ...       ...  \n",
       "         2021-09-10 RIOL               30  60                   0        24  \n",
       "                    RIOL               35  65                   0        24  \n",
       "                    RIOL               40  70                   0        24  \n",
       "                    RIOL               45  75                   0        36  \n",
       "                    RIOL               55  85                   0        48  \n",
       "\n",
       "[102692 rows x 11 columns]"
      ]
     },
     "execution_count": 19,
     "metadata": {},
     "output_type": "execute_result"
    }
   ],
   "source": [
    "etracks_test.set_index(['BASIN','DATE','Tech'])#.xs(('EAST_PACIFIC','2020-07-22 06:00:00','RIOD'))"
   ]
  },
  {
   "cell_type": "code",
   "execution_count": 20,
   "id": "e3aca97a",
   "metadata": {
    "scrolled": false
   },
   "outputs": [
    {
     "data": {
      "text/html": [
       "<div>\n",
       "<style scoped>\n",
       "    .dataframe tbody tr th:only-of-type {\n",
       "        vertical-align: middle;\n",
       "    }\n",
       "\n",
       "    .dataframe tbody tr th {\n",
       "        vertical-align: top;\n",
       "    }\n",
       "\n",
       "    .dataframe thead th {\n",
       "        text-align: right;\n",
       "    }\n",
       "</style>\n",
       "<table border=\"1\" class=\"dataframe\">\n",
       "  <thead>\n",
       "    <tr style=\"text-align: right;\">\n",
       "      <th></th>\n",
       "      <th>BASIN</th>\n",
       "      <th>CYCLONE NO</th>\n",
       "      <th>DATE</th>\n",
       "      <th>ProbFormat</th>\n",
       "      <th>Tech</th>\n",
       "      <th>TAU</th>\n",
       "      <th>LAT</th>\n",
       "      <th>LON</th>\n",
       "      <th>ProbItem</th>\n",
       "      <th>Intensity Change</th>\n",
       "      <th>V</th>\n",
       "      <th>Initials</th>\n",
       "      <th>RIstartTAU</th>\n",
       "      <th>RIstopTAU</th>\n",
       "    </tr>\n",
       "  </thead>\n",
       "  <tbody>\n",
       "    <tr>\n",
       "      <th>91936</th>\n",
       "      <td>EAST_PACIFIC</td>\n",
       "      <td>17</td>\n",
       "      <td>2021-10-23 06:00:00</td>\n",
       "      <td>RI</td>\n",
       "      <td>EIOD</td>\n",
       "      <td>24</td>\n",
       "      <td>137N</td>\n",
       "      <td>1013W</td>\n",
       "      <td>72</td>\n",
       "      <td>40</td>\n",
       "      <td>95</td>\n",
       "      <td></td>\n",
       "      <td>0</td>\n",
       "      <td>24</td>\n",
       "    </tr>\n",
       "  </tbody>\n",
       "</table>\n",
       "</div>"
      ],
      "text/plain": [
       "              BASIN CYCLONE NO                DATE ProbFormat  Tech TAU   LAT  \\\n",
       "91936  EAST_PACIFIC         17 2021-10-23 06:00:00         RI  EIOD  24  137N   \n",
       "\n",
       "         LON  ProbItem Intensity Change   V Initials RIstartTAU RIstopTAU  \n",
       "91936  1013W        72               40  95                   0        24  "
      ]
     },
     "execution_count": 20,
     "metadata": {},
     "output_type": "execute_result"
    }
   ],
   "source": [
    "etracks_test[(etracks_test['ProbItem'] > 70) & (etracks_test['Intensity Change'].astype(int)==40)]"
   ]
  },
  {
   "cell_type": "code",
   "execution_count": null,
   "id": "0f6ddca6",
   "metadata": {},
   "outputs": [],
   "source": [
    "# etracks_"
   ]
  }
 ],
 "metadata": {
  "kernelspec": {
   "display_name": "SHIPS",
   "language": "python",
   "name": "ships"
  },
  "language_info": {
   "codemirror_mode": {
    "name": "ipython",
    "version": 3
   },
   "file_extension": ".py",
   "mimetype": "text/x-python",
   "name": "python",
   "nbconvert_exporter": "python",
   "pygments_lexer": "ipython3",
   "version": "3.9.5"
  }
 },
 "nbformat": 4,
 "nbformat_minor": 5
}
