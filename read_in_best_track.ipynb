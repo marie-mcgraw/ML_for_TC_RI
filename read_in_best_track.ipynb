{
 "cells": [
  {
   "cell_type": "code",
   "execution_count": 1,
   "id": "5ea6e43a",
   "metadata": {},
   "outputs": [],
   "source": [
    "import numpy as np\n",
    "import os, glob\n",
    "import matplotlib.pyplot as plt\n",
    "import pandas as pd\n",
    "import seaborn as sns"
   ]
  },
  {
   "cell_type": "markdown",
   "id": "c438a9d0",
   "metadata": {},
   "source": [
    "Get names for best track (b-deck) files, organized by year"
   ]
  },
  {
   "cell_type": "code",
   "execution_count": 2,
   "id": "7f1396a9",
   "metadata": {},
   "outputs": [],
   "source": [
    "year_sel = 2019\n",
    "bdeck_dir = 'VALIDATION_data/bdecks/{year_sel}/'.format(year_sel=year_sel)\n",
    "fnames_all = [os.path.join(bdeck_dir, f) for f in os.listdir(bdeck_dir) if f.endswith('.dat')]"
   ]
  },
  {
   "cell_type": "markdown",
   "id": "f1ca09f2",
   "metadata": {},
   "source": [
    "#### Format for b-deck files\n",
    "B-deck is the best track information for tropical cyclones.  File names are bBBCCYYYY.dat.  \n",
    "* b: b-deck\n",
    "* BB: basin (al is Atlantic, ep is East Pacific, cp is Central Pacific, sl is South Atlantic)\n",
    "* CC: storm number. 01-30, numbered storms, not recycled.  80-89: internal training, IGNORE. 90-99: invest, areas of interest, redeployed as needed. A0-Z9: recycled invest series (?). Come on NOAA god\n",
    "* YYYY: Year. \n",
    "\n",
    "\n",
    "Full README is at: https://www.nrlmry.navy.mil/atcf_web/docs/database/new/database.html\n"
   ]
  },
  {
   "cell_type": "markdown",
   "id": "a298e575",
   "metadata": {},
   "source": [
    "##### What's in the file?\n",
    "BASIN, CY, DATE [YYYYMMDDHH], TECNHUM/MIN, TECH, TAU, LAT N/S, LON E/W, VMAX, MSLP, TY, RAD, WINDCODE, RAD1, RAD2, RAD3, RAD4, POUTER, ROUTER, RMW, GUSTS, EYE, SUBREGION, MAXSEAS, INITIALS, DIR, SPEED, STORMNAME, DEPTH, SEAS, SEASCODE, SEAS1, SEAS2, SEAS3, SEAS4, USERDEFINED, userdata\n",
    "\n",
    "<b>Parameters we care about:</b>\n",
    "* BASIN: Basin (EP, AL, CP)\n",
    "* CY: cyclone number, restarts every year\n",
    "* DATE: date, in YYYYMMDDHH\n",
    "* TECH: acronym for objective technique\n",
    "* TAU: forecast period -24-240 hours\n",
    "* LAT N/S: Latitude, 0-900 (0.1 degrees); N/S for hemisphere\n",
    "* LON E/W: Longitude, 0-1800 (0.1 degrees); E/W for hemisphere\n",
    "* VMAX: maximum sustained wind speed, 0-300 kts\n",
    "* MSLP: minimum sea level pressure (850-1050 mb)\n",
    "* TY: highest level of TC disturbance\n",
    "* STORMNAME: literal storm name, number, NONAME or INVEST, or TCcyx where: cy = Annual cyclone number 01 - 99; x  = Subregion code: W,A,B,S,P,C,E,L,Q."
   ]
  },
  {
   "cell_type": "markdown",
   "id": "c135b689",
   "metadata": {},
   "source": [
    "<b>Parameters we (probably) don't care about as much: </b>\n",
    "* TECHNUM/MIN: objective technique sorting number, minutes for best track: 00 - 9\n",
    "* RAD: wind intensity for radii defined in this record (34, 50, 64 kt)\n",
    "* WINDCODE: Radius code, AA - full circle; NEQ, SEQ, SWQ, NWQ - quadrant \n",
    "* RAD1: If full circle, radius of specified wind intensity, or radius of first quadrant wind intensity as specified by WINDCODE.  0 - 999 n mi\n",
    "* RAD2: If full circle this field not used, or radius of 2nd quadrant wind intensity as specified by WINDCODE.  0 - 999 n mi.\n",
    "* RAD3: If full circle this field not used, or radius of 3rd quadrant wind intensity as specified by WINDCODE.  0 - 999 n mi.\n",
    "* RAD4: If full circle this field not used, or radius of 4th quadrant wind intensity as specified by WINDCODE.  0 - 999 n mi.\n",
    "* POUTER: pressure in millibars of the last closed isobar, 900 - 1050 mb.\n",
    "* ROUTER: radius of the last closed isobar, 0 - 999 n mi.\n",
    "* RMW: radius of max winds, 0 - 999 n mi.\n",
    "* GUSTS: gusts, 0 - 999 kt.\n",
    "* EYE: eye diameter, 0 - 120 n mi.\n",
    "* SUBREGION: subregion code: W,A,B,S,P,C,E,L,Q. A: Arabian Sea, B: Bay of Bengal, C: Central Pacific, E: East Pacific, L: Atlantic, P: South Pacific, Q: South Atlantic, S: South Indian Ocean, W: West Pacific\n",
    "* MAXSEAS: max seas, 0 - 999 ft.\n",
    "* INITIALS: Forecaster's initials used for tau 0 WRNG or OFCL, up to 3 chars.\n",
    "* DIR: storm direction, 0 - 359 degrees.\n",
    "* SPEED: storm speed, 0 - 999 kts.\n",
    "* DEPTH: system depth, D - deep, M - medium, S - shallow, X - unknown\n",
    "* SEAS: Wave height for radii defined in SEAS1 - SEAS4, 0 - 99 ft.\n",
    "* SEASCODE: Radius code: AAA - full circle; NEQ, SEQ, SWQ, NWQ - quadrant \n",
    "* SEAS1: first quadrant seas radius as defined by SEASCODE,  0 - 999 n mi.\n",
    "* SEAS2: second quadrant seas radius as defined by SEASCODE, 0 - 999 n mi.\n",
    "* SEAS3: third quadrant seas radius as defined by SEASCODE,  0 - 999 n mi.\n",
    "* SEAS4: fourth quadrant seas radius as defined by SEASCODE, 0 - 999 n mi."
   ]
  },
  {
   "cell_type": "code",
   "execution_count": 3,
   "id": "fdcdc3ca",
   "metadata": {},
   "outputs": [],
   "source": [
    "b_deck_ALL = pd.DataFrame()"
   ]
  },
  {
   "cell_type": "code",
   "execution_count": 4,
   "id": "cb08ed9d",
   "metadata": {},
   "outputs": [
    {
     "name": "stdout",
     "output_type": "stream",
     "text": [
      "reading  VALIDATION_data/bdecks/2019/bepA42019.dat\n",
      "reading  VALIDATION_data/bdecks/2019/bal012019.dat\n",
      "reading  VALIDATION_data/bdecks/2019/bal082019.dat\n",
      "reading  VALIDATION_data/bdecks/2019/bep192019.dat\n",
      "reading  VALIDATION_data/bdecks/2019/bepA32019.dat\n",
      "reading  VALIDATION_data/bdecks/2019/balD22019.dat\n",
      "reading  VALIDATION_data/bdecks/2019/balC02019.dat\n",
      "reading  VALIDATION_data/bdecks/2019/bep052019.dat\n",
      "reading  VALIDATION_data/bdecks/2019/balE62019.dat\n",
      "reading  VALIDATION_data/bdecks/2019/bepC52019.dat\n",
      "reading  VALIDATION_data/bdecks/2019/balB92019.dat\n",
      "reading  VALIDATION_data/bdecks/2019/bep162019.dat\n",
      "reading  VALIDATION_data/bdecks/2019/bepC72019.dat\n",
      "reading  VALIDATION_data/bdecks/2019/bepC22019.dat\n",
      "reading  VALIDATION_data/bdecks/2019/bal162019.dat\n",
      "reading  VALIDATION_data/bdecks/2019/bep062019.dat\n",
      "reading  VALIDATION_data/bdecks/2019/balA92019.dat\n",
      "reading  VALIDATION_data/bdecks/2019/bep032019.dat\n",
      "reading  VALIDATION_data/bdecks/2019/bep112019.dat\n",
      "reading  VALIDATION_data/bdecks/2019/balB02019.dat\n",
      "reading  VALIDATION_data/bdecks/2019/balC52019.dat\n",
      "reading  VALIDATION_data/bdecks/2019/bepC32019.dat\n",
      "reading  VALIDATION_data/bdecks/2019/balA22019.dat\n",
      "reading  VALIDATION_data/bdecks/2019/bep182019.dat\n",
      "reading  VALIDATION_data/bdecks/2019/bepA62019.dat\n",
      "reading  VALIDATION_data/bdecks/2019/bepB92019.dat\n",
      "reading  VALIDATION_data/bdecks/2019/bepA72019.dat\n",
      "reading  VALIDATION_data/bdecks/2019/bal152019.dat\n",
      "reading  VALIDATION_data/bdecks/2019/bep092019.dat\n",
      "reading  VALIDATION_data/bdecks/2019/bepB22019.dat\n",
      "reading  VALIDATION_data/bdecks/2019/balC62019.dat\n",
      "reading  VALIDATION_data/bdecks/2019/bal142019.dat\n",
      "reading  VALIDATION_data/bdecks/2019/bepC92019.dat\n",
      "reading  VALIDATION_data/bdecks/2019/bep142019.dat\n",
      "reading  VALIDATION_data/bdecks/2019/bal072019.dat\n",
      "reading  VALIDATION_data/bdecks/2019/balD62019.dat\n",
      "reading  VALIDATION_data/bdecks/2019/bep212019.dat\n",
      "reading  VALIDATION_data/bdecks/2019/bepA02019.dat\n",
      "reading  VALIDATION_data/bdecks/2019/bep042019.dat\n",
      "reading  VALIDATION_data/bdecks/2019/balA12019.dat\n",
      "reading  VALIDATION_data/bdecks/2019/balC12019.dat\n",
      "reading  VALIDATION_data/bdecks/2019/bal052019.dat\n",
      "reading  VALIDATION_data/bdecks/2019/bal192019.dat\n",
      "reading  VALIDATION_data/bdecks/2019/balA62019.dat\n",
      "reading  VALIDATION_data/bdecks/2019/bep202019.dat\n",
      "reading  VALIDATION_data/bdecks/2019/bepA22019.dat\n",
      "reading  VALIDATION_data/bdecks/2019/bal172019.dat\n",
      "reading  VALIDATION_data/bdecks/2019/balB32019.dat\n",
      "reading  VALIDATION_data/bdecks/2019/bepD82019.dat\n",
      "reading  VALIDATION_data/bdecks/2019/bepC82019.dat\n",
      "reading  VALIDATION_data/bdecks/2019/bepD12019.dat\n",
      "reading  VALIDATION_data/bdecks/2019/bepB52019.dat\n",
      "reading  VALIDATION_data/bdecks/2019/bepA82019.dat\n",
      "reading  VALIDATION_data/bdecks/2019/balC72019.dat\n",
      "reading  VALIDATION_data/bdecks/2019/bep072019.dat\n",
      "reading  VALIDATION_data/bdecks/2019/bepD32019.dat\n",
      "reading  VALIDATION_data/bdecks/2019/bep122019.dat\n",
      "reading  VALIDATION_data/bdecks/2019/balC42019.dat\n",
      "reading  VALIDATION_data/bdecks/2019/balA42019.dat\n",
      "reading  VALIDATION_data/bdecks/2019/balC92019.dat\n",
      "reading  VALIDATION_data/bdecks/2019/balA82019.dat\n",
      "reading  VALIDATION_data/bdecks/2019/balB22019.dat\n",
      "reading  VALIDATION_data/bdecks/2019/bep012019.dat\n",
      "reading  VALIDATION_data/bdecks/2019/bal112019.dat\n",
      "reading  VALIDATION_data/bdecks/2019/bep152019.dat\n",
      "reading  VALIDATION_data/bdecks/2019/bepA92019.dat\n",
      "reading  VALIDATION_data/bdecks/2019/bepB12019.dat\n",
      "reading  VALIDATION_data/bdecks/2019/bepD42019.dat\n",
      "reading  VALIDATION_data/bdecks/2019/balA52019.dat\n",
      "reading  VALIDATION_data/bdecks/2019/bepF12019.dat\n",
      "reading  VALIDATION_data/bdecks/2019/bal062019.dat\n",
      "reading  VALIDATION_data/bdecks/2019/balB62019.dat\n",
      "reading  VALIDATION_data/bdecks/2019/bepD02019.dat\n",
      "reading  VALIDATION_data/bdecks/2019/bepB82019.dat\n",
      "reading  VALIDATION_data/bdecks/2019/balB12019.dat\n",
      "reading  VALIDATION_data/bdecks/2019/bepB32019.dat\n",
      "reading  VALIDATION_data/bdecks/2019/bepC62019.dat\n",
      "reading  VALIDATION_data/bdecks/2019/bal092019.dat\n",
      "reading  VALIDATION_data/bdecks/2019/balC22019.dat\n",
      "reading  VALIDATION_data/bdecks/2019/balD82019.dat\n",
      "reading  VALIDATION_data/bdecks/2019/balC82019.dat\n",
      "reading  VALIDATION_data/bdecks/2019/bal042019.dat\n",
      "reading  VALIDATION_data/bdecks/2019/bepE12019.dat\n",
      "reading  VALIDATION_data/bdecks/2019/bepA52019.dat\n",
      "reading  VALIDATION_data/bdecks/2019/blsA02019.dat\n",
      "reading  VALIDATION_data/bdecks/2019/bep082019.dat\n",
      "reading  VALIDATION_data/bdecks/2019/bepC42019.dat\n",
      "reading  VALIDATION_data/bdecks/2019/bepC12019.dat\n",
      "reading  VALIDATION_data/bdecks/2019/bepB02019.dat\n",
      "reading  VALIDATION_data/bdecks/2019/balC32019.dat\n",
      "reading  VALIDATION_data/bdecks/2019/bal122019.dat\n",
      "reading  VALIDATION_data/bdecks/2019/bep022019.dat\n",
      "reading  VALIDATION_data/bdecks/2019/balA32019.dat\n",
      "reading  VALIDATION_data/bdecks/2019/bal182019.dat\n",
      "reading  VALIDATION_data/bdecks/2019/balB82019.dat\n",
      "reading  VALIDATION_data/bdecks/2019/bep102019.dat\n",
      "reading  VALIDATION_data/bdecks/2019/balA72019.dat\n",
      "reading  VALIDATION_data/bdecks/2019/bal202019.dat\n",
      "reading  VALIDATION_data/bdecks/2019/bepB72019.dat\n",
      "reading  VALIDATION_data/bdecks/2019/balD02019.dat\n",
      "reading  VALIDATION_data/bdecks/2019/bal032019.dat\n",
      "reading  VALIDATION_data/bdecks/2019/balB52019.dat\n",
      "reading  VALIDATION_data/bdecks/2019/bal132019.dat\n",
      "reading  VALIDATION_data/bdecks/2019/bal102019.dat\n",
      "reading  VALIDATION_data/bdecks/2019/bepB62019.dat\n",
      "reading  VALIDATION_data/bdecks/2019/bepD22019.dat\n",
      "reading  VALIDATION_data/bdecks/2019/bep172019.dat\n",
      "reading  VALIDATION_data/bdecks/2019/balB72019.dat\n",
      "reading  VALIDATION_data/bdecks/2019/balB42019.dat\n",
      "reading  VALIDATION_data/bdecks/2019/bal022019.dat\n",
      "reading  VALIDATION_data/bdecks/2019/bep132019.dat\n",
      "reading  VALIDATION_data/bdecks/2019/balA02019.dat\n",
      "reading  VALIDATION_data/bdecks/2019/bepA12019.dat\n",
      "reading  VALIDATION_data/bdecks/2019/bepC02019.dat\n",
      "reading  VALIDATION_data/bdecks/2019/bepB42019.dat\n"
     ]
    }
   ],
   "source": [
    "for i_line in np.arange(0,len(fnames_all)):\n",
    "    print('reading ',fnames_all[i_line])\n",
    "    lines = open(fnames_all[i_line]).readlines()\n",
    "    b_deck = pd.DataFrame(columns=['BASIN','CYCLONE NO','DATE','TECHNUM','TECH','TAU','LAT','LON','VMAX','MSLP','TYPE',\n",
    "                              'RAD','WINDCODE','RAD1','RAD2','RAD3','RAD4','P Outer','R Outer','RMW','GUSTS','EYE',\n",
    "                              'SUBREGION','MAXSEAS','INITIALS','DIR','SPEED','NAME','DEPTH','SEAS','SEASCODE',\n",
    "                              'SEAS1','SEAS2','SEAS3','SEAS4'],\n",
    "                     index = np.arange(0,len(lines)))\n",
    "    for i_sub in np.arange(0,len(lines)):\n",
    "        #\n",
    "        i_sel = lines[i_sub].split()\n",
    "        max_len = min(len(i_sel),35)\n",
    "        b_deck.iloc[i_sub,0:max_len] = i_sel[0:max_len]\n",
    "    b_deck_ALL = b_deck_ALL.append(b_deck)"
   ]
  },
  {
   "cell_type": "markdown",
   "id": "9719fd4e",
   "metadata": {},
   "source": [
    "Remove superfluous commas"
   ]
  },
  {
   "cell_type": "code",
   "execution_count": 5,
   "id": "397e52b5",
   "metadata": {},
   "outputs": [],
   "source": [
    "b_deck_ALL = b_deck_ALL.reset_index().replace(\",\",\"\",regex=True)"
   ]
  },
  {
   "cell_type": "code",
   "execution_count": 6,
   "id": "fdcf0c29",
   "metadata": {},
   "outputs": [],
   "source": [
    "b_deck_ALL['DATE'] = pd.to_datetime(b_deck_ALL['DATE'].astype(str),format='%Y%m%d%H')\n",
    "#\n",
    "ATCFID = b_deck_ALL['BASIN']+b_deck_ALL['CYCLONE NO']+str(year_sel)\n",
    "b_deck_ALL['ATCF ID'] = ATCFID"
   ]
  },
  {
   "cell_type": "code",
   "execution_count": 7,
   "id": "a68a80f9",
   "metadata": {
    "scrolled": false
   },
   "outputs": [
    {
     "data": {
      "text/plain": [
       "BASIN                          AL\n",
       "CYCLONE NO                     08\n",
       "DATE          2019-09-09 12:00:00\n",
       "TECHNUM                          \n",
       "TECH                         BEST\n",
       "TAU                             0\n",
       "LAT                          384N\n",
       "LON                          480W\n",
       "VMAX                           50\n",
       "MSLP                          997\n",
       "TYPE                           TS\n",
       "RAD                            50\n",
       "WINDCODE                      NEQ\n",
       "RAD1                           20\n",
       "RAD2                           30\n",
       "RAD3                            0\n",
       "RAD4                            0\n",
       "P Outer                      1017\n",
       "R Outer                       180\n",
       "RMW                            40\n",
       "GUSTS                          55\n",
       "EYE                             0\n",
       "SUBREGION                       L\n",
       "MAXSEAS                         0\n",
       "INITIALS                         \n",
       "DIR                             0\n",
       "SPEED                           0\n",
       "NAME                    GABRIELLE\n",
       "DEPTH                           D\n",
       "SEAS                           12\n",
       "SEASCODE                      NEQ\n",
       "SEAS1                         360\n",
       "SEAS2                         210\n",
       "SEAS3                         180\n",
       "SEAS4                         240\n",
       "ATCF ID                  AL082019\n",
       "TIME                           12\n",
       "Name: 50, dtype: object"
      ]
     },
     "execution_count": 7,
     "metadata": {},
     "output_type": "execute_result"
    }
   ],
   "source": [
    "b_deck_ALL['TIME'] = b_deck_ALL['DATE'].dt.hour\n",
    "b_deck_ALL = b_deck_ALL.drop(columns='index')\n",
    "\n",
    "bdeck_save = 'VALIDATION_data/processed/best_tracks_{year_sel}.csv'.format(year_sel=year_sel)\n",
    "b_deck_ALL.to_csv(bdeck_save)\n",
    "\n",
    "b_deck_ALL.iloc[50]"
   ]
  },
  {
   "cell_type": "code",
   "execution_count": null,
   "id": "b7514960",
   "metadata": {},
   "outputs": [],
   "source": []
  },
  {
   "cell_type": "code",
   "execution_count": null,
   "id": "61414800",
   "metadata": {},
   "outputs": [],
   "source": []
  }
 ],
 "metadata": {
  "kernelspec": {
   "display_name": "SHIPS",
   "language": "python",
   "name": "ships"
  },
  "language_info": {
   "codemirror_mode": {
    "name": "ipython",
    "version": 3
   },
   "file_extension": ".py",
   "mimetype": "text/x-python",
   "name": "python",
   "nbconvert_exporter": "python",
   "pygments_lexer": "ipython3",
   "version": "3.9.5"
  }
 },
 "nbformat": 4,
 "nbformat_minor": 5
}
