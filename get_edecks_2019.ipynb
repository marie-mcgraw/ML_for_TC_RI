{
 "cells": [
  {
   "cell_type": "code",
   "execution_count": 1,
   "id": "0f845f37",
   "metadata": {},
   "outputs": [],
   "source": [
    "import numpy as np\n",
    "import xarray as xr\n",
    "import pandas as pd\n",
    "# from google.colab import drive\n",
    "import datetime\n",
    "import glob"
   ]
  },
  {
   "cell_type": "markdown",
   "id": "5288d123",
   "metadata": {},
   "source": [
    "#### Get list of all files for desired year"
   ]
  },
  {
   "cell_type": "code",
   "execution_count": 2,
   "id": "930acabb",
   "metadata": {},
   "outputs": [],
   "source": [
    "yr_sel = 2019\n",
    "fdir = '/mnt/tcnas01/musgrave/ryan_ridata/oper_short_edecks/{yr_sel}/'.format(yr_sel=yr_sel)\n",
    "#fname_test = '20072600AL9220_ships.txt'\n",
    "all_files = glob.glob(fdir+'*.dat')\n",
    "no_files = len(all_files)\n",
    "fname_test = all_files[1]"
   ]
  },
  {
   "cell_type": "code",
   "execution_count": 3,
   "id": "e899b6e1",
   "metadata": {},
   "outputs": [
    {
     "data": {
      "text/plain": [
       "'/mnt/tcnas01/musgrave/ryan_ridata/oper_short_edecks/2019/eal012019_RIOB_2019052106.dat'"
      ]
     },
     "execution_count": 3,
     "metadata": {},
     "output_type": "execute_result"
    }
   ],
   "source": [
    "fname_test"
   ]
  },
  {
   "cell_type": "markdown",
   "id": "ffd9e2cd",
   "metadata": {},
   "source": [
    "#### Read in each file one at a time\n",
    "\n",
    "Relevant information:\n",
    "* TIME\n",
    "* LAND (KM)\n",
    "* Prob of RI for 25 kt RI threshold\n",
    "* Prob of RI for 30 kt RI threshold\n",
    "* Prob of RI for 35 kt RI threshold\n",
    "* LAT (DEG N)\n",
    "* LONG (DEG W)\n",
    "* Name\n",
    "* Case No.\n",
    "* DATE\n",
    "* TIME"
   ]
  },
  {
   "cell_type": "markdown",
   "id": "50ff0ac4",
   "metadata": {},
   "source": [
    "#### Create ultimate dataframe"
   ]
  },
  {
   "cell_type": "code",
   "execution_count": 4,
   "id": "4d4d0432",
   "metadata": {
    "scrolled": true
   },
   "outputs": [],
   "source": [
    "#test_lines\n",
    "# case = test_lines[3].split()[2]\n",
    "# date = test_lines[3].split()[3]\n",
    "# name = test_lines[3].split()[1]\n",
    "#start_time = test_lines[3].split()[4]\n",
    "#for line in test_lines:\n",
    " #   if line.startswith('LAND (KM)'):\n",
    "  #      print(line.split()[2:])"
   ]
  },
  {
   "cell_type": "code",
   "execution_count": 5,
   "id": "e0d3bac4",
   "metadata": {
    "scrolled": false
   },
   "outputs": [
    {
     "name": "stdout",
     "output_type": "stream",
     "text": [
      "AL, 01, 2019052106, RI, RIOB,  12, 298N,  690W,   0,  20,  35,    ,   0,  12\n",
      "\n",
      "AL, 01, 2019052106, RI, RIOB,  24, 298N,  690W,   0,  25,  35,    ,   0,  24\n",
      "\n",
      "AL, 01, 2019052106, RI, RIOB,  24, 298N,  690W,   0,  30,  35,    ,   0,  24\n",
      "\n",
      "AL, 01, 2019052106, RI, RIOB,  24, 298N,  690W,   0,  35,  35,    ,   0,  24\n",
      "\n",
      "AL, 01, 2019052106, RI, RIOB,  24, 298N,  690W,   0,  40,  35,    ,   0,  24\n",
      "\n",
      "AL, 01, 2019052106, RI, RIOB,  36, 298N,  690W,   0,  45,  35,    ,   0,  36\n",
      "\n",
      "AL, 01, 2019052106, RI, RIOB,  48, 298N,  690W,   0,  55,  35,    ,   0,  48\n",
      "\n",
      "AL, 01, 2019052106, RI, RIOB,  72, 298N,  690W,   0,  65,  35,    ,   0,  72\n",
      "\n"
     ]
    }
   ],
   "source": [
    "with open(fname_test) as fn:\n",
    "    for line in fn:\n",
    "        #if line.startswith(\"TIME (HR)\"):\n",
    "        \n",
    "        print(line)"
   ]
  },
  {
   "cell_type": "code",
   "execution_count": 6,
   "id": "d5f4390f",
   "metadata": {
    "scrolled": true
   },
   "outputs": [],
   "source": [
    "RI_prob_df_ALL = pd.DataFrame(columns={'BASIN','Cyclone No','Date_full','Prob Item','Technique','TAU','LAT','LON',\n",
    "                              'Prob(RI)','d_I','V_final','Forecaster ID','RI start time','RI end time'})\n",
    "column_names = ['BASIN','Cyclone No','Date_full','Prob Item','Technique','TAU','LAT','LON',\n",
    "                              'Prob(RI)','d_I','V_final','Forecaster ID','RI start time','RI end time']\n",
    "RI_prob_df_ALL = RI_prob_df_ALL.reindex(columns=column_names)\n",
    "##\n",
    "for i_name in np.arange(0,len(all_files)):\n",
    "    #i_name = 4\n",
    "    i_file = all_files[i_name]\n",
    "    with open(i_file) as fn:\n",
    "        #no_lines = len(fn.readlines())\n",
    "        i_RI_prob = pd.DataFrame(columns={'BASIN','Cyclone No','Date_full','Prob Item','Technique','TAU','LAT','LON',\n",
    "                             'Prob(RI)','d_I','V_final','Forecaster ID','RI start time','RI end time'},\n",
    "                      index=np.arange(0,8))\n",
    "            ## column_names = ['BASIN','Cyclone No','ATCF ID','Prob Item','Technique','TAU','LAT','LON',\n",
    "             #                 'Prob(RI)','d_I','V_final','Forecaster ID','RI start time','RI end time']\n",
    "        i_RI_prob = i_RI_prob.reindex(columns=column_names)\n",
    "        for ifn, line in enumerate(fn):\n",
    "            i_line = line.split()\n",
    "           # print(ifn)\n",
    "           # print(i_line)\n",
    "            # \n",
    "\n",
    "            #i_RI_prob\n",
    "            i_RI_prob.iloc[ifn] = i_line\n",
    "    #\n",
    "        RI_prob_df_ALL = RI_prob_df_ALL.append(i_RI_prob)\n"
   ]
  },
  {
   "cell_type": "code",
   "execution_count": 7,
   "id": "187bbc6c",
   "metadata": {
    "scrolled": true
   },
   "outputs": [
    {
     "data": {
      "text/html": [
       "<div>\n",
       "<style scoped>\n",
       "    .dataframe tbody tr th:only-of-type {\n",
       "        vertical-align: middle;\n",
       "    }\n",
       "\n",
       "    .dataframe tbody tr th {\n",
       "        vertical-align: top;\n",
       "    }\n",
       "\n",
       "    .dataframe thead th {\n",
       "        text-align: right;\n",
       "    }\n",
       "</style>\n",
       "<table border=\"1\" class=\"dataframe\">\n",
       "  <thead>\n",
       "    <tr style=\"text-align: right;\">\n",
       "      <th></th>\n",
       "      <th>BASIN</th>\n",
       "      <th>Cyclone No</th>\n",
       "      <th>Date_full</th>\n",
       "      <th>Prob Item</th>\n",
       "      <th>Technique</th>\n",
       "      <th>TAU</th>\n",
       "      <th>LAT</th>\n",
       "      <th>LON</th>\n",
       "      <th>Prob(RI)</th>\n",
       "      <th>d_I</th>\n",
       "      <th>V_final</th>\n",
       "      <th>Forecaster ID</th>\n",
       "      <th>RI start time</th>\n",
       "      <th>RI end time</th>\n",
       "    </tr>\n",
       "  </thead>\n",
       "  <tbody>\n",
       "    <tr>\n",
       "      <th>0</th>\n",
       "      <td>AL,</td>\n",
       "      <td>01,</td>\n",
       "      <td>2019052018,</td>\n",
       "      <td>RI,</td>\n",
       "      <td>RIOB,</td>\n",
       "      <td>12,</td>\n",
       "      <td>286N,</td>\n",
       "      <td>687W,</td>\n",
       "      <td>2,</td>\n",
       "      <td>20,</td>\n",
       "      <td>35,</td>\n",
       "      <td>,</td>\n",
       "      <td>0,</td>\n",
       "      <td>12</td>\n",
       "    </tr>\n",
       "    <tr>\n",
       "      <th>1</th>\n",
       "      <td>AL,</td>\n",
       "      <td>01,</td>\n",
       "      <td>2019052018,</td>\n",
       "      <td>RI,</td>\n",
       "      <td>RIOB,</td>\n",
       "      <td>24,</td>\n",
       "      <td>286N,</td>\n",
       "      <td>687W,</td>\n",
       "      <td>0,</td>\n",
       "      <td>25,</td>\n",
       "      <td>35,</td>\n",
       "      <td>,</td>\n",
       "      <td>0,</td>\n",
       "      <td>24</td>\n",
       "    </tr>\n",
       "    <tr>\n",
       "      <th>2</th>\n",
       "      <td>AL,</td>\n",
       "      <td>01,</td>\n",
       "      <td>2019052018,</td>\n",
       "      <td>RI,</td>\n",
       "      <td>RIOB,</td>\n",
       "      <td>24,</td>\n",
       "      <td>286N,</td>\n",
       "      <td>687W,</td>\n",
       "      <td>0,</td>\n",
       "      <td>30,</td>\n",
       "      <td>35,</td>\n",
       "      <td>,</td>\n",
       "      <td>0,</td>\n",
       "      <td>24</td>\n",
       "    </tr>\n",
       "    <tr>\n",
       "      <th>3</th>\n",
       "      <td>AL,</td>\n",
       "      <td>01,</td>\n",
       "      <td>2019052018,</td>\n",
       "      <td>RI,</td>\n",
       "      <td>RIOB,</td>\n",
       "      <td>24,</td>\n",
       "      <td>286N,</td>\n",
       "      <td>687W,</td>\n",
       "      <td>0,</td>\n",
       "      <td>35,</td>\n",
       "      <td>35,</td>\n",
       "      <td>,</td>\n",
       "      <td>0,</td>\n",
       "      <td>24</td>\n",
       "    </tr>\n",
       "    <tr>\n",
       "      <th>4</th>\n",
       "      <td>AL,</td>\n",
       "      <td>01,</td>\n",
       "      <td>2019052018,</td>\n",
       "      <td>RI,</td>\n",
       "      <td>RIOB,</td>\n",
       "      <td>24,</td>\n",
       "      <td>286N,</td>\n",
       "      <td>687W,</td>\n",
       "      <td>0,</td>\n",
       "      <td>40,</td>\n",
       "      <td>35,</td>\n",
       "      <td>,</td>\n",
       "      <td>0,</td>\n",
       "      <td>24</td>\n",
       "    </tr>\n",
       "    <tr>\n",
       "      <th>...</th>\n",
       "      <td>...</td>\n",
       "      <td>...</td>\n",
       "      <td>...</td>\n",
       "      <td>...</td>\n",
       "      <td>...</td>\n",
       "      <td>...</td>\n",
       "      <td>...</td>\n",
       "      <td>...</td>\n",
       "      <td>...</td>\n",
       "      <td>...</td>\n",
       "      <td>...</td>\n",
       "      <td>...</td>\n",
       "      <td>...</td>\n",
       "      <td>...</td>\n",
       "    </tr>\n",
       "    <tr>\n",
       "      <th>3</th>\n",
       "      <td>EP,</td>\n",
       "      <td>21,</td>\n",
       "      <td>2019111818,</td>\n",
       "      <td>RI,</td>\n",
       "      <td>RIOL,</td>\n",
       "      <td>24,</td>\n",
       "      <td>124N,</td>\n",
       "      <td>1058W,</td>\n",
       "      <td>1,</td>\n",
       "      <td>35,</td>\n",
       "      <td>20,</td>\n",
       "      <td>,</td>\n",
       "      <td>0,</td>\n",
       "      <td>24</td>\n",
       "    </tr>\n",
       "    <tr>\n",
       "      <th>4</th>\n",
       "      <td>EP,</td>\n",
       "      <td>21,</td>\n",
       "      <td>2019111818,</td>\n",
       "      <td>RI,</td>\n",
       "      <td>RIOL,</td>\n",
       "      <td>24,</td>\n",
       "      <td>124N,</td>\n",
       "      <td>1058W,</td>\n",
       "      <td>0,</td>\n",
       "      <td>40,</td>\n",
       "      <td>20,</td>\n",
       "      <td>,</td>\n",
       "      <td>0,</td>\n",
       "      <td>24</td>\n",
       "    </tr>\n",
       "    <tr>\n",
       "      <th>5</th>\n",
       "      <td>EP,</td>\n",
       "      <td>21,</td>\n",
       "      <td>2019111818,</td>\n",
       "      <td>RI,</td>\n",
       "      <td>RIOL,</td>\n",
       "      <td>36,</td>\n",
       "      <td>124N,</td>\n",
       "      <td>1058W,</td>\n",
       "      <td>2,</td>\n",
       "      <td>45,</td>\n",
       "      <td>20,</td>\n",
       "      <td>,</td>\n",
       "      <td>0,</td>\n",
       "      <td>36</td>\n",
       "    </tr>\n",
       "    <tr>\n",
       "      <th>6</th>\n",
       "      <td>EP,</td>\n",
       "      <td>21,</td>\n",
       "      <td>2019111818,</td>\n",
       "      <td>RI,</td>\n",
       "      <td>RIOL,</td>\n",
       "      <td>48,</td>\n",
       "      <td>124N,</td>\n",
       "      <td>1058W,</td>\n",
       "      <td>2,</td>\n",
       "      <td>55,</td>\n",
       "      <td>20,</td>\n",
       "      <td>,</td>\n",
       "      <td>0,</td>\n",
       "      <td>48</td>\n",
       "    </tr>\n",
       "    <tr>\n",
       "      <th>7</th>\n",
       "      <td>EP,</td>\n",
       "      <td>21,</td>\n",
       "      <td>2019111818,</td>\n",
       "      <td>RI,</td>\n",
       "      <td>RIOL,</td>\n",
       "      <td>72,</td>\n",
       "      <td>124N,</td>\n",
       "      <td>1058W,</td>\n",
       "      <td>8,</td>\n",
       "      <td>65,</td>\n",
       "      <td>20,</td>\n",
       "      <td>,</td>\n",
       "      <td>0,</td>\n",
       "      <td>72</td>\n",
       "    </tr>\n",
       "  </tbody>\n",
       "</table>\n",
       "<p>21504 rows × 14 columns</p>\n",
       "</div>"
      ],
      "text/plain": [
       "   BASIN Cyclone No    Date_full Prob Item Technique  TAU    LAT     LON  \\\n",
       "0    AL,        01,  2019052018,       RI,     RIOB,  12,  286N,   687W,   \n",
       "1    AL,        01,  2019052018,       RI,     RIOB,  24,  286N,   687W,   \n",
       "2    AL,        01,  2019052018,       RI,     RIOB,  24,  286N,   687W,   \n",
       "3    AL,        01,  2019052018,       RI,     RIOB,  24,  286N,   687W,   \n",
       "4    AL,        01,  2019052018,       RI,     RIOB,  24,  286N,   687W,   \n",
       "..   ...        ...          ...       ...       ...  ...    ...     ...   \n",
       "3    EP,        21,  2019111818,       RI,     RIOL,  24,  124N,  1058W,   \n",
       "4    EP,        21,  2019111818,       RI,     RIOL,  24,  124N,  1058W,   \n",
       "5    EP,        21,  2019111818,       RI,     RIOL,  36,  124N,  1058W,   \n",
       "6    EP,        21,  2019111818,       RI,     RIOL,  48,  124N,  1058W,   \n",
       "7    EP,        21,  2019111818,       RI,     RIOL,  72,  124N,  1058W,   \n",
       "\n",
       "   Prob(RI)  d_I V_final Forecaster ID RI start time RI end time  \n",
       "0        2,  20,     35,             ,            0,          12  \n",
       "1        0,  25,     35,             ,            0,          24  \n",
       "2        0,  30,     35,             ,            0,          24  \n",
       "3        0,  35,     35,             ,            0,          24  \n",
       "4        0,  40,     35,             ,            0,          24  \n",
       "..      ...  ...     ...           ...           ...         ...  \n",
       "3        1,  35,     20,             ,            0,          24  \n",
       "4        0,  40,     20,             ,            0,          24  \n",
       "5        2,  45,     20,             ,            0,          36  \n",
       "6        2,  55,     20,             ,            0,          48  \n",
       "7        8,  65,     20,             ,            0,          72  \n",
       "\n",
       "[21504 rows x 14 columns]"
      ]
     },
     "execution_count": 7,
     "metadata": {},
     "output_type": "execute_result"
    }
   ],
   "source": [
    "RI_prob_df_ALL\n",
    "#foo = "
   ]
  },
  {
   "cell_type": "code",
   "execution_count": 8,
   "id": "ee738f95",
   "metadata": {
    "scrolled": true
   },
   "outputs": [],
   "source": [
    "RI_prob_df_ALL = RI_prob_df_ALL.replace(',','',regex=True)\n",
    "RI_prob_df_ALL = RI_prob_df_ALL.drop(columns='Forecaster ID')\n",
    "RI_prob_df_ALL['ATCF ID'] = RI_prob_df_ALL['BASIN']+RI_prob_df_ALL['Cyclone No']+RI_prob_df_ALL['Date_full'].str[:4]\n"
   ]
  },
  {
   "cell_type": "code",
   "execution_count": 9,
   "id": "471a0e8b",
   "metadata": {},
   "outputs": [],
   "source": [
    "RI_prob_df_ALL['BASIN'] = RI_prob_df_ALL['BASIN'].replace('AL','ATLANTIC')\n",
    "RI_prob_df_ALL['BASIN'] = RI_prob_df_ALL['BASIN'].replace('EP','EAST_PACIFIC')"
   ]
  },
  {
   "cell_type": "code",
   "execution_count": 10,
   "id": "356e9310",
   "metadata": {
    "scrolled": true
   },
   "outputs": [],
   "source": [
    "RI_prob_df_ALL['DATE'] = pd.to_datetime(RI_prob_df_ALL['Date_full'],format='%Y%m%d%H')\n",
    "#pd.to_datetime(RI_prob_df_ALL['ATCF ID'])#.dt.strftime('%Y-%m-%d %H')\n"
   ]
  },
  {
   "cell_type": "code",
   "execution_count": 11,
   "id": "c7e09f33",
   "metadata": {
    "scrolled": true
   },
   "outputs": [],
   "source": [
    "RI_prob_df_ALL[['TAU','Prob(RI)','d_I','V_final','RI start time','RI end time']] = RI_prob_df_ALL[['TAU','Prob(RI)','d_I','V_final','RI start time','RI end time']].astype(int)"
   ]
  },
  {
   "cell_type": "code",
   "execution_count": 12,
   "id": "fb79caaa",
   "metadata": {},
   "outputs": [],
   "source": [
    "sel_test = RI_prob_df_ALL[RI_prob_df_ALL['TAU']==24]\n",
    "#sel_test = sel_test[sel_test['RI end time']==24]\n",
    "sel_test = sel_test[sel_test['d_I']==30]\n",
    "sel_test\n",
    "# RI_prob_df_ALL\n",
    "sel_test['Technique'] = sel_test['Technique'].replace('RIOC','Consensus',regex=True)\n",
    "sel_test['Technique'] = sel_test['Technique'].replace('RIOL','RII',regex=True)\n",
    "#\n",
    "sel_test = sel_test.rename(columns={'Prob(RI)':'30/24','Technique':'RI Type','DATE':'Date',\n",
    "                                   'LAT':'LAT_0','LON':'LON_0'})\n",
    "#\n",
    "sel_test = sel_test.mask(sel_test['30/24']>500)"
   ]
  },
  {
   "cell_type": "code",
   "execution_count": 15,
   "id": "7fe372d1",
   "metadata": {},
   "outputs": [
    {
     "data": {
      "text/plain": [
       "2019"
      ]
     },
     "execution_count": 15,
     "metadata": {},
     "output_type": "execute_result"
    }
   ],
   "source": [
    "yr_sel"
   ]
  },
  {
   "cell_type": "code",
   "execution_count": 16,
   "id": "33c77652",
   "metadata": {},
   "outputs": [],
   "source": [
    "fname_save = 'DATA/SHIPS_RII_rapid_intense_probs_{yr}.csv'.format(yr=yr_sel)\n",
    "sel_test.to_csv(fname_save)"
   ]
  },
  {
   "cell_type": "code",
   "execution_count": 13,
   "id": "75b82ca6",
   "metadata": {},
   "outputs": [
    {
     "data": {
      "text/plain": [
       "<AxesSubplot:ylabel='30/24'>"
      ]
     },
     "execution_count": 13,
     "metadata": {},
     "output_type": "execute_result"
    },
    {
     "data": {
      "image/png": "[encoded data removed]",
      "text/plain": [
       "<Figure size 432x288 with 1 Axes>"
      ]
     },
     "metadata": {
      "needs_background": "light"
     },
     "output_type": "display_data"
    }
   ],
   "source": [
    "foo = sel_test.groupby(['BASIN','Cyclone No','Date']).mean().xs(('ATLANTIC')).reset_index()\n",
    "#,'10')).reset_index().plot(x='Date',y='30/24')\n",
    "import seaborn as sns\n",
    "sns.lineplot(data=foo,x=foo.index,y='30/24',hue='Cyclone No',palette='twilight')"
   ]
  },
  {
   "cell_type": "code",
   "execution_count": 14,
   "id": "6f83dee9",
   "metadata": {},
   "outputs": [
    {
     "data": {
      "text/plain": [
       "<AxesSubplot:xlabel='BASIN', ylabel='30/24'>"
      ]
     },
     "execution_count": 14,
     "metadata": {},
     "output_type": "execute_result"
    },
    {
     "data": {
      "image/png": "[encoded data removed]",
      "text/plain": [
       "<Figure size 432x288 with 1 Axes>"
      ]
     },
     "metadata": {
      "needs_background": "light"
     },
     "output_type": "display_data"
    }
   ],
   "source": [
    "sns.boxplot(data=sel_test,x='BASIN',y='30/24',hue='RI Type')"
   ]
  },
  {
   "cell_type": "code",
   "execution_count": null,
   "id": "cab35f78",
   "metadata": {},
   "outputs": [],
   "source": []
  }
 ],
 "metadata": {
  "kernelspec": {
   "display_name": "SHIPS",
   "language": "python",
   "name": "ships"
  },
  "language_info": {
   "codemirror_mode": {
    "name": "ipython",
    "version": 3
   },
   "file_extension": ".py",
   "mimetype": "text/x-python",
   "name": "python",
   "nbconvert_exporter": "python",
   "pygments_lexer": "ipython3",
   "version": "3.9.5"
  }
 },
 "nbformat": 4,
 "nbformat_minor": 5
}
