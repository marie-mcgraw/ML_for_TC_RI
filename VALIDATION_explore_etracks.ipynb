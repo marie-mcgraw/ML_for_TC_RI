{
 "cells": [
  {
   "cell_type": "code",
   "execution_count": 1,
   "id": "80363369",
   "metadata": {},
   "outputs": [],
   "source": [
    "import numpy as np\n",
    "import matplotlib.pyplot as plt\n",
    "import pandas as pd\n",
    "import os, glob\n",
    "import seaborn as sns"
   ]
  },
  {
   "cell_type": "markdown",
   "id": "ed5f97c6",
   "metadata": {},
   "source": [
    "Load edeck files (organized by year, and by basin)"
   ]
  },
  {
   "cell_type": "code",
   "execution_count": 2,
   "id": "fd778281",
   "metadata": {},
   "outputs": [],
   "source": [
    "year_sel = 2018\n",
    "etracks_dir = '../SHIPS_edeck_VALID/{year_sel}/'.format(year_sel=year_sel)\n",
    "fnames_all = [os.path.join(etracks_dir, f) for f in os.listdir(etracks_dir) if f.endswith('.dat')]"
   ]
  },
  {
   "cell_type": "code",
   "execution_count": 3,
   "id": "265cc47e",
   "metadata": {
    "scrolled": true
   },
   "outputs": [
    {
     "data": {
      "text/plain": [
       "['../SHIPS_edeck_VALID/2018/eep122018.dat',\n",
       " '../SHIPS_edeck_VALID/2018/eep082018.dat',\n",
       " '../SHIPS_edeck_VALID/2018/eepB52018.dat',\n",
       " '../SHIPS_edeck_VALID/2018/eal042018.dat',\n",
       " '../SHIPS_edeck_VALID/2018/eep242018.dat',\n",
       " '../SHIPS_edeck_VALID/2018/eepE42018.dat',\n",
       " '../SHIPS_edeck_VALID/2018/eepA62018.dat',\n",
       " '../SHIPS_edeck_VALID/2018/eepD62018.dat',\n",
       " '../SHIPS_edeck_VALID/2018/eepA92018.dat',\n",
       " '../SHIPS_edeck_VALID/2018/ealA22018.dat',\n",
       " '../SHIPS_edeck_VALID/2018/ealB92018.dat',\n",
       " '../SHIPS_edeck_VALID/2018/ealA42018.dat',\n",
       " '../SHIPS_edeck_VALID/2018/eepA22018.dat',\n",
       " '../SHIPS_edeck_VALID/2018/eep042018.dat',\n",
       " '../SHIPS_edeck_VALID/2018/eepA52018.dat',\n",
       " '../SHIPS_edeck_VALID/2018/ealC42018.dat',\n",
       " '../SHIPS_edeck_VALID/2018/eep022018.dat',\n",
       " '../SHIPS_edeck_VALID/2018/eal022018.dat',\n",
       " '../SHIPS_edeck_VALID/2018/ealA72018.dat',\n",
       " '../SHIPS_edeck_VALID/2018/eal142018.dat',\n",
       " '../SHIPS_edeck_VALID/2018/eepB32018.dat',\n",
       " '../SHIPS_edeck_VALID/2018/ealC72018.dat',\n",
       " '../SHIPS_edeck_VALID/2018/eep132018.dat',\n",
       " '../SHIPS_edeck_VALID/2018/eepD22018.dat',\n",
       " '../SHIPS_edeck_VALID/2018/ealB22018.dat',\n",
       " '../SHIPS_edeck_VALID/2018/eepA42018.dat',\n",
       " '../SHIPS_edeck_VALID/2018/eepC42018.dat',\n",
       " '../SHIPS_edeck_VALID/2018/eepE62018.dat',\n",
       " '../SHIPS_edeck_VALID/2018/eep212018.dat',\n",
       " '../SHIPS_edeck_VALID/2018/eep072018.dat',\n",
       " '../SHIPS_edeck_VALID/2018/eal112018.dat',\n",
       " '../SHIPS_edeck_VALID/2018/eepB02018.dat',\n",
       " '../SHIPS_edeck_VALID/2018/ealB12018.dat',\n",
       " '../SHIPS_edeck_VALID/2018/eep192018.dat',\n",
       " '../SHIPS_edeck_VALID/2018/ealA82018.dat',\n",
       " '../SHIPS_edeck_VALID/2018/eal152018.dat',\n",
       " '../SHIPS_edeck_VALID/2018/eepD02018.dat',\n",
       " '../SHIPS_edeck_VALID/2018/eal052018.dat',\n",
       " '../SHIPS_edeck_VALID/2018/eep202018.dat',\n",
       " '../SHIPS_edeck_VALID/2018/eepB92018.dat',\n",
       " '../SHIPS_edeck_VALID/2018/ealB82018.dat',\n",
       " '../SHIPS_edeck_VALID/2018/eal062018.dat',\n",
       " '../SHIPS_edeck_VALID/2018/ealA92018.dat',\n",
       " '../SHIPS_edeck_VALID/2018/eep252018.dat',\n",
       " '../SHIPS_edeck_VALID/2018/ealB02018.dat',\n",
       " '../SHIPS_edeck_VALID/2018/eepB82018.dat',\n",
       " '../SHIPS_edeck_VALID/2018/ealB72018.dat',\n",
       " '../SHIPS_edeck_VALID/2018/eepD42018.dat',\n",
       " '../SHIPS_edeck_VALID/2018/eepA32018.dat',\n",
       " '../SHIPS_edeck_VALID/2018/eep182018.dat',\n",
       " '../SHIPS_edeck_VALID/2018/eal162018.dat',\n",
       " '../SHIPS_edeck_VALID/2018/eal102018.dat',\n",
       " '../SHIPS_edeck_VALID/2018/eal122018.dat',\n",
       " '../SHIPS_edeck_VALID/2018/eepC62018.dat',\n",
       " '../SHIPS_edeck_VALID/2018/eepC32018.dat',\n",
       " '../SHIPS_edeck_VALID/2018/ealA32018.dat',\n",
       " '../SHIPS_edeck_VALID/2018/eal012018.dat',\n",
       " '../SHIPS_edeck_VALID/2018/eep142018.dat',\n",
       " '../SHIPS_edeck_VALID/2018/ealA62018.dat',\n",
       " '../SHIPS_edeck_VALID/2018/eepB42018.dat',\n",
       " '../SHIPS_edeck_VALID/2018/eal032018.dat',\n",
       " '../SHIPS_edeck_VALID/2018/eepD12018.dat',\n",
       " '../SHIPS_edeck_VALID/2018/eep152018.dat',\n",
       " '../SHIPS_edeck_VALID/2018/eep052018.dat',\n",
       " '../SHIPS_edeck_VALID/2018/ealC12018.dat',\n",
       " '../SHIPS_edeck_VALID/2018/eepE22018.dat',\n",
       " '../SHIPS_edeck_VALID/2018/ealC52018.dat',\n",
       " '../SHIPS_edeck_VALID/2018/ealA12018.dat',\n",
       " '../SHIPS_edeck_VALID/2018/eep112018.dat',\n",
       " '../SHIPS_edeck_VALID/2018/ealB42018.dat',\n",
       " '../SHIPS_edeck_VALID/2018/eep222018.dat',\n",
       " '../SHIPS_edeck_VALID/2018/eal072018.dat',\n",
       " '../SHIPS_edeck_VALID/2018/eepD32018.dat',\n",
       " '../SHIPS_edeck_VALID/2018/eal092018.dat',\n",
       " '../SHIPS_edeck_VALID/2018/eepA02018.dat',\n",
       " '../SHIPS_edeck_VALID/2018/ealA52018.dat',\n",
       " '../SHIPS_edeck_VALID/2018/ealA02018.dat',\n",
       " '../SHIPS_edeck_VALID/2018/ealB52018.dat',\n",
       " '../SHIPS_edeck_VALID/2018/eepC52018.dat',\n",
       " '../SHIPS_edeck_VALID/2018/eepC12018.dat',\n",
       " '../SHIPS_edeck_VALID/2018/eepD92018.dat',\n",
       " '../SHIPS_edeck_VALID/2018/eepC72018.dat',\n",
       " '../SHIPS_edeck_VALID/2018/eal082018.dat',\n",
       " '../SHIPS_edeck_VALID/2018/eepC22018.dat',\n",
       " '../SHIPS_edeck_VALID/2018/eepA72018.dat',\n",
       " '../SHIPS_edeck_VALID/2018/eep162018.dat',\n",
       " '../SHIPS_edeck_VALID/2018/eep012018.dat',\n",
       " '../SHIPS_edeck_VALID/2018/ealB32018.dat',\n",
       " '../SHIPS_edeck_VALID/2018/eep032018.dat',\n",
       " '../SHIPS_edeck_VALID/2018/ealC82018.dat',\n",
       " '../SHIPS_edeck_VALID/2018/ecp012018.dat',\n",
       " '../SHIPS_edeck_VALID/2018/eal132018.dat',\n",
       " '../SHIPS_edeck_VALID/2018/eepA12018.dat',\n",
       " '../SHIPS_edeck_VALID/2018/ealC22018.dat',\n",
       " '../SHIPS_edeck_VALID/2018/eepA82018.dat',\n",
       " '../SHIPS_edeck_VALID/2018/eepE12018.dat',\n",
       " '../SHIPS_edeck_VALID/2018/eep092018.dat',\n",
       " '../SHIPS_edeck_VALID/2018/eep102018.dat',\n",
       " '../SHIPS_edeck_VALID/2018/ealB62018.dat',\n",
       " '../SHIPS_edeck_VALID/2018/eepC02018.dat',\n",
       " '../SHIPS_edeck_VALID/2018/eepB72018.dat',\n",
       " '../SHIPS_edeck_VALID/2018/eepF12018.dat',\n",
       " '../SHIPS_edeck_VALID/2018/eepC92018.dat',\n",
       " '../SHIPS_edeck_VALID/2018/ealC32018.dat',\n",
       " '../SHIPS_edeck_VALID/2018/eepB62018.dat',\n",
       " '../SHIPS_edeck_VALID/2018/eep172018.dat',\n",
       " '../SHIPS_edeck_VALID/2018/eep062018.dat',\n",
       " '../SHIPS_edeck_VALID/2018/ealC02018.dat',\n",
       " '../SHIPS_edeck_VALID/2018/eep232018.dat',\n",
       " '../SHIPS_edeck_VALID/2018/eepB12018.dat']"
      ]
     },
     "execution_count": 3,
     "metadata": {},
     "output_type": "execute_result"
    }
   ],
   "source": [
    "fnames_all"
   ]
  },
  {
   "cell_type": "markdown",
   "id": "cd381d24",
   "metadata": {},
   "source": [
    "#### General Format of Files\n",
    "BASIN  CYCLONE NUMBER  DATE (YYYYMMDDHH)   ProbFormat   Tech   TAU    LAT N/S    Lon E/W    PROB\n",
    "\n",
    "ProbFormat: \n",
    "* TR: track\n",
    "* IN: intensity\n",
    "* RI: rapid intensification\n",
    "* RW: rapid weakening\n",
    "* WR: wind radii\n",
    "* PR: pressure\n",
    "* GN: TC genesis probability\n",
    "* GS: TC genesis shape\n",
    "* ER: eyewall replacement\n",
    "\n",
    "Tech: objective technique\n",
    "\n",
    "TAU: forecast period (0-168 hrs)\n",
    "\n",
    "Lat N/S: 0-900 [tenths of degrees]\n",
    "\n",
    "Lon E/W: 0-1800 [tenths of degrees]\n",
    "\n",
    "Prob:  probability of ProbItem, 0-100%\n",
    "\n",
    "##### Intensity Probability\n",
    "* ProbItem: Wind speed (bias adjusted), 0-300 kts\n",
    "* TY:  level of TC development; currently unused\n",
    "* Half_Range: Half the probability range (radius), 0-50 kts\n",
    "\n",
    "###### Rapid Intensification Probability / Rapid Weakening Probability\n",
    "* ProbItem: Intensity change, 0-300 kts\n",
    "* V: final intensity, 0-300 kts\n",
    "* Initials: forecaster initials\n",
    "* RIstartTAU: RI start time, 0-168 hours\n",
    "* RIstopTAU: RI stop time, 0-168 hrs"
   ]
  },
  {
   "cell_type": "markdown",
   "id": "6ffe37a4",
   "metadata": {},
   "source": [
    "Create empty dataframes so we can reformat and save data as csv file"
   ]
  },
  {
   "cell_type": "code",
   "execution_count": 4,
   "id": "b9dc21fc",
   "metadata": {},
   "outputs": [],
   "source": [
    "#\n",
    "IN_valid_names = {'BASIN':[],'CYCLONE NO':[],'DATE':[],'ProbFormat':[],\n",
    "                'Tech':[],'TAU':[],'LAT':[],'LON':[],'ProbItem':[],'TY':[],\n",
    "                            'foo':[],'HalfRange':[]}\n",
    "RI_valid_names = {'BASIN':[],'CYCLONE NO':[],'DATE':[],'ProbFormat':[],\n",
    "                'Tech':[],'TAU':[],'LAT':[],'LON':[],'ProbItem':[],'Intensity Change':[],\n",
    "                            'V':[],'Initials':[],'RIstartTAU':[],'RIstopTAU':[]}\n",
    "etracks_valid_RI = pd.DataFrame.from_dict(RI_valid_names,orient='columns')\n",
    "etracks_valid_IN = pd.DataFrame.from_dict(IN_valid_names,orient='columns')\n",
    "etracks_valid_RW = pd.DataFrame.from_dict(RI_valid_names,orient='columns')\n"
   ]
  },
  {
   "cell_type": "code",
   "execution_count": null,
   "id": "ea427e2e",
   "metadata": {
    "scrolled": false
   },
   "outputs": [],
   "source": []
  },
  {
   "cell_type": "code",
   "execution_count": 5,
   "id": "8479cda8",
   "metadata": {},
   "outputs": [],
   "source": [
    "for i in np.arange(0,len(fnames_all)):\n",
    "    #i = 30\n",
    "    fname = fnames_all[i]\n",
    "    #i_basin = BASIN[i]\n",
    "    fname_full = open(fname)\n",
    "    lines = fname_full.readlines()\n",
    "\n",
    "    for iline in np.arange(0,len(lines)):\n",
    "        #iline = 37\n",
    "        line_sel = lines[iline].split()\n",
    "        i_pf = line_sel[3]\n",
    "        #print(i_pf)\n",
    "        if i_pf == 'RI,':\n",
    "            #print('RI!')\n",
    "            etracks_valid_RI = etracks_valid_RI.append(pd.Series(line_sel, index = etracks_valid_RI.columns),ignore_index=True)\n",
    "        elif i_pf == 'IN,':\n",
    "            #print('Intensity')\n",
    "            etracks_valid_IN = etracks_valid_IN.append(pd.Series(line_sel, index = etracks_valid_IN.columns),ignore_index=True)\n",
    "        #\n",
    "        elif i_pf == 'RW,':\n",
    "            print('RW')\n",
    "            etracks_valid_RW = etracks_valid_RW.append(pd.Series(line_sel, index = etracks_valid_RW.columns),ignore_index=True)\n"
   ]
  },
  {
   "cell_type": "code",
   "execution_count": 6,
   "id": "6c214bdb",
   "metadata": {},
   "outputs": [
    {
     "data": {
      "text/plain": [
       "'../SHIPS_edeck_VALID/2018/eepB12018.dat'"
      ]
     },
     "execution_count": 6,
     "metadata": {},
     "output_type": "execute_result"
    }
   ],
   "source": [
    "fname"
   ]
  },
  {
   "cell_type": "code",
   "execution_count": 19,
   "id": "f8bd0cc2",
   "metadata": {},
   "outputs": [
    {
     "data": {
      "text/html": [
       "<div>\n",
       "<style scoped>\n",
       "    .dataframe tbody tr th:only-of-type {\n",
       "        vertical-align: middle;\n",
       "    }\n",
       "\n",
       "    .dataframe tbody tr th {\n",
       "        vertical-align: top;\n",
       "    }\n",
       "\n",
       "    .dataframe thead th {\n",
       "        text-align: right;\n",
       "    }\n",
       "</style>\n",
       "<table border=\"1\" class=\"dataframe\">\n",
       "  <thead>\n",
       "    <tr style=\"text-align: right;\">\n",
       "      <th></th>\n",
       "      <th>BASIN</th>\n",
       "      <th>CYCLONE NO</th>\n",
       "      <th>DATE</th>\n",
       "      <th>ProbFormat</th>\n",
       "      <th>Tech</th>\n",
       "      <th>TAU</th>\n",
       "      <th>LAT</th>\n",
       "      <th>LON</th>\n",
       "      <th>ProbItem</th>\n",
       "      <th>TY</th>\n",
       "      <th>foo</th>\n",
       "      <th>HalfRange</th>\n",
       "    </tr>\n",
       "  </thead>\n",
       "  <tbody>\n",
       "    <tr>\n",
       "      <th>0</th>\n",
       "      <td>EAST_PACIFIC</td>\n",
       "      <td>12</td>\n",
       "      <td>2018-08-04 06:00:00</td>\n",
       "      <td>IN</td>\n",
       "      <td>IVCN</td>\n",
       "      <td>12</td>\n",
       "      <td></td>\n",
       "      <td></td>\n",
       "      <td>68</td>\n",
       "      <td>29</td>\n",
       "      <td></td>\n",
       "      <td>9</td>\n",
       "    </tr>\n",
       "    <tr>\n",
       "      <th>1</th>\n",
       "      <td>EAST_PACIFIC</td>\n",
       "      <td>12</td>\n",
       "      <td>2018-08-04 06:00:00</td>\n",
       "      <td>IN</td>\n",
       "      <td>IVCN</td>\n",
       "      <td>24</td>\n",
       "      <td></td>\n",
       "      <td></td>\n",
       "      <td>68</td>\n",
       "      <td>36</td>\n",
       "      <td></td>\n",
       "      <td>15</td>\n",
       "    </tr>\n",
       "    <tr>\n",
       "      <th>2</th>\n",
       "      <td>EAST_PACIFIC</td>\n",
       "      <td>12</td>\n",
       "      <td>2018-08-04 06:00:00</td>\n",
       "      <td>IN</td>\n",
       "      <td>IVCN</td>\n",
       "      <td>36</td>\n",
       "      <td></td>\n",
       "      <td></td>\n",
       "      <td>68</td>\n",
       "      <td>44</td>\n",
       "      <td></td>\n",
       "      <td>21</td>\n",
       "    </tr>\n",
       "    <tr>\n",
       "      <th>3</th>\n",
       "      <td>EAST_PACIFIC</td>\n",
       "      <td>12</td>\n",
       "      <td>2018-08-04 06:00:00</td>\n",
       "      <td>IN</td>\n",
       "      <td>IVCN</td>\n",
       "      <td>48</td>\n",
       "      <td></td>\n",
       "      <td></td>\n",
       "      <td>68</td>\n",
       "      <td>53</td>\n",
       "      <td></td>\n",
       "      <td>24</td>\n",
       "    </tr>\n",
       "    <tr>\n",
       "      <th>4</th>\n",
       "      <td>EAST_PACIFIC</td>\n",
       "      <td>12</td>\n",
       "      <td>2018-08-04 06:00:00</td>\n",
       "      <td>IN</td>\n",
       "      <td>IVCN</td>\n",
       "      <td>72</td>\n",
       "      <td></td>\n",
       "      <td></td>\n",
       "      <td>68</td>\n",
       "      <td>72</td>\n",
       "      <td></td>\n",
       "      <td>28</td>\n",
       "    </tr>\n",
       "    <tr>\n",
       "      <th>...</th>\n",
       "      <td>...</td>\n",
       "      <td>...</td>\n",
       "      <td>...</td>\n",
       "      <td>...</td>\n",
       "      <td>...</td>\n",
       "      <td>...</td>\n",
       "      <td>...</td>\n",
       "      <td>...</td>\n",
       "      <td>...</td>\n",
       "      <td>...</td>\n",
       "      <td>...</td>\n",
       "      <td>...</td>\n",
       "    </tr>\n",
       "    <tr>\n",
       "      <th>27976</th>\n",
       "      <td>EAST_PACIFIC</td>\n",
       "      <td>B1</td>\n",
       "      <td>2018-06-06 00:00:00</td>\n",
       "      <td>IN</td>\n",
       "      <td>IVRI</td>\n",
       "      <td>36</td>\n",
       "      <td></td>\n",
       "      <td></td>\n",
       "      <td>68</td>\n",
       "      <td>57</td>\n",
       "      <td></td>\n",
       "      <td>18</td>\n",
       "    </tr>\n",
       "    <tr>\n",
       "      <th>27977</th>\n",
       "      <td>EAST_PACIFIC</td>\n",
       "      <td>B1</td>\n",
       "      <td>2018-06-06 00:00:00</td>\n",
       "      <td>IN</td>\n",
       "      <td>IVRI</td>\n",
       "      <td>48</td>\n",
       "      <td></td>\n",
       "      <td></td>\n",
       "      <td>68</td>\n",
       "      <td>64</td>\n",
       "      <td></td>\n",
       "      <td>20</td>\n",
       "    </tr>\n",
       "    <tr>\n",
       "      <th>27978</th>\n",
       "      <td>EAST_PACIFIC</td>\n",
       "      <td>B1</td>\n",
       "      <td>2018-06-06 00:00:00</td>\n",
       "      <td>IN</td>\n",
       "      <td>IVRI</td>\n",
       "      <td>72</td>\n",
       "      <td></td>\n",
       "      <td></td>\n",
       "      <td>68</td>\n",
       "      <td>74</td>\n",
       "      <td></td>\n",
       "      <td>24</td>\n",
       "    </tr>\n",
       "    <tr>\n",
       "      <th>27979</th>\n",
       "      <td>EAST_PACIFIC</td>\n",
       "      <td>B1</td>\n",
       "      <td>2018-06-06 00:00:00</td>\n",
       "      <td>IN</td>\n",
       "      <td>IVRI</td>\n",
       "      <td>96</td>\n",
       "      <td></td>\n",
       "      <td></td>\n",
       "      <td>68</td>\n",
       "      <td>76</td>\n",
       "      <td></td>\n",
       "      <td>28</td>\n",
       "    </tr>\n",
       "    <tr>\n",
       "      <th>27980</th>\n",
       "      <td>EAST_PACIFIC</td>\n",
       "      <td>B1</td>\n",
       "      <td>2018-06-06 00:00:00</td>\n",
       "      <td>IN</td>\n",
       "      <td>IVRI</td>\n",
       "      <td>120</td>\n",
       "      <td></td>\n",
       "      <td></td>\n",
       "      <td>68</td>\n",
       "      <td>63</td>\n",
       "      <td></td>\n",
       "      <td>32</td>\n",
       "    </tr>\n",
       "  </tbody>\n",
       "</table>\n",
       "<p>27981 rows × 12 columns</p>\n",
       "</div>"
      ],
      "text/plain": [
       "              BASIN CYCLONE NO                DATE ProbFormat  Tech  TAU LAT  \\\n",
       "0      EAST_PACIFIC         12 2018-08-04 06:00:00         IN  IVCN   12       \n",
       "1      EAST_PACIFIC         12 2018-08-04 06:00:00         IN  IVCN   24       \n",
       "2      EAST_PACIFIC         12 2018-08-04 06:00:00         IN  IVCN   36       \n",
       "3      EAST_PACIFIC         12 2018-08-04 06:00:00         IN  IVCN   48       \n",
       "4      EAST_PACIFIC         12 2018-08-04 06:00:00         IN  IVCN   72       \n",
       "...             ...        ...                 ...        ...   ...  ...  ..   \n",
       "27976  EAST_PACIFIC         B1 2018-06-06 00:00:00         IN  IVRI   36       \n",
       "27977  EAST_PACIFIC         B1 2018-06-06 00:00:00         IN  IVRI   48       \n",
       "27978  EAST_PACIFIC         B1 2018-06-06 00:00:00         IN  IVRI   72       \n",
       "27979  EAST_PACIFIC         B1 2018-06-06 00:00:00         IN  IVRI   96       \n",
       "27980  EAST_PACIFIC         B1 2018-06-06 00:00:00         IN  IVRI  120       \n",
       "\n",
       "      LON ProbItem  TY foo HalfRange  \n",
       "0               68  29             9  \n",
       "1               68  36            15  \n",
       "2               68  44            21  \n",
       "3               68  53            24  \n",
       "4               68  72            28  \n",
       "...    ..      ...  ..  ..       ...  \n",
       "27976           68  57            18  \n",
       "27977           68  64            20  \n",
       "27978           68  74            24  \n",
       "27979           68  76            28  \n",
       "27980           68  63            32  \n",
       "\n",
       "[27981 rows x 12 columns]"
      ]
     },
     "execution_count": 19,
     "metadata": {},
     "output_type": "execute_result"
    }
   ],
   "source": [
    "etracks_valid_IN#.sort_values('CYCLONE NO')['CYCLONE NO'].unique()\n",
    "#fnames_all"
   ]
  },
  {
   "cell_type": "markdown",
   "id": "6de454ee",
   "metadata": {},
   "source": [
    "### Clean up data a bit.  \n",
    "* Remove extraneous commas\n",
    "* Replace basin names with full names\n",
    "* Convert dates into datetime format"
   ]
  },
  {
   "cell_type": "code",
   "execution_count": 8,
   "id": "eee81c10",
   "metadata": {},
   "outputs": [],
   "source": [
    "# Remove commas\n",
    "etracks_valid_RI = etracks_valid_RI.replace(\",\", \"\", regex=True)\n",
    "etracks_valid_RW = etracks_valid_RW.replace(\",\", \"\", regex=True)\n",
    "etracks_valid_IN = etracks_valid_IN.replace(\",\",\"\",regex = True)"
   ]
  },
  {
   "cell_type": "code",
   "execution_count": null,
   "id": "d0139522",
   "metadata": {},
   "outputs": [],
   "source": []
  },
  {
   "cell_type": "code",
   "execution_count": 9,
   "id": "5f44e1b5",
   "metadata": {
    "scrolled": true
   },
   "outputs": [
    {
     "data": {
      "text/plain": [
       "Series([], Name: DATE, dtype: float64)"
      ]
     },
     "execution_count": 9,
     "metadata": {},
     "output_type": "execute_result"
    }
   ],
   "source": [
    "etracks_valid_RI['DATE']"
   ]
  },
  {
   "cell_type": "code",
   "execution_count": 10,
   "id": "90c178d2",
   "metadata": {},
   "outputs": [],
   "source": [
    "# Dates\n",
    "etracks_valid_RI['DATE'] = pd.to_datetime(etracks_valid_RI['DATE'].astype(str),format='%Y%m%d%H')\n",
    "etracks_valid_RW['DATE'] = pd.to_datetime(etracks_valid_RW['DATE'].astype(str),format='%Y%m%d%H')\n",
    "etracks_valid_IN['DATE'] = pd.to_datetime(etracks_valid_IN['DATE'].astype(str),format='%Y%m%d%H')\n"
   ]
  },
  {
   "cell_type": "code",
   "execution_count": 11,
   "id": "58b2c5ed",
   "metadata": {},
   "outputs": [],
   "source": [
    "# Change basin names\n",
    "etracks_valid_RI = etracks_valid_RI.replace(\"AL\",\"ATLANTIC\",regex=True)\n",
    "etracks_valid_RI = etracks_valid_RI.replace(\"EP\",\"EAST_PACIFIC\",regex=True)\n",
    "etracks_valid_RI = etracks_valid_RI.replace(\"CP\",\"CENTRAL_PACIFIC\",regex=True)\n",
    "#\n",
    "etracks_valid_RW = etracks_valid_RW.replace(\"AL\",\"ATLANTIC\",regex=True)\n",
    "etracks_valid_RW = etracks_valid_RW.replace(\"EP\",\"EAST_PACIFIC\",regex=True)\n",
    "etracks_valid_RW = etracks_valid_RW.replace(\"CP\",\"CENTRAL_PACIFIC\",regex=True)\n",
    "#\n",
    "etracks_valid_IN = etracks_valid_IN.replace(\"AL\",\"ATLANTIC\",regex=True)\n",
    "etracks_valid_IN = etracks_valid_IN.replace(\"EP\",\"EAST_PACIFIC\",regex=True)\n",
    "etracks_valid_IN = etracks_valid_IN.replace(\"CP\",\"CENTRAL_PACIFIC\",regex=True)\n"
   ]
  },
  {
   "cell_type": "code",
   "execution_count": 12,
   "id": "fdb8c65e",
   "metadata": {},
   "outputs": [],
   "source": [
    "etracks_valid_RI.to_csv('DATA/etracks_RI_{year_sel}.csv'.format(year_sel=year_sel))\n",
    "etracks_valid_IN.to_csv('DATA/etracks_IN_{year_sel}.csv'.format(year_sel=year_sel))\n",
    "#etracks_valid_RI.to_csv('etracks_RI.csv')\n"
   ]
  },
  {
   "cell_type": "code",
   "execution_count": 13,
   "id": "71c1b7ce",
   "metadata": {},
   "outputs": [
    {
     "data": {
      "text/plain": [
       "array(['EAST_PACIFIC', 'ATLANTIC'], dtype=object)"
      ]
     },
     "execution_count": 13,
     "metadata": {},
     "output_type": "execute_result"
    }
   ],
   "source": [
    "etracks_valid_IN['BASIN'].unique()"
   ]
  },
  {
   "cell_type": "code",
   "execution_count": 14,
   "id": "72da10ca",
   "metadata": {
    "scrolled": true
   },
   "outputs": [
    {
     "data": {
      "text/plain": [
       "<AxesSubplot:>"
      ]
     },
     "execution_count": 14,
     "metadata": {},
     "output_type": "execute_result"
    },
    {
     "data": {
      "image/png": "[encoded data removed]",
      "text/plain": [
       "<Figure size 432x288 with 1 Axes>"
      ]
     },
     "metadata": {
      "needs_background": "light"
     },
     "output_type": "display_data"
    }
   ],
   "source": [
    "import seaborn as sns\n",
    "etracks_test = etracks_valid_RI.copy()\n",
    "etracks_test['ProbItem'] = etracks_test['ProbItem'].astype(int)\n",
    "sns.kdeplot(data=etracks_test,x='ProbItem',hue='BASIN')"
   ]
  },
  {
   "cell_type": "code",
   "execution_count": 15,
   "id": "06ec322a",
   "metadata": {},
   "outputs": [],
   "source": [
    "foo = etracks_test.where((etracks_test['RIstopTAU'].astype(int) <= 24)\n",
    "                        & (etracks_test['Intensity Change'].astype(int) > 0)).dropna(how='all')"
   ]
  },
  {
   "cell_type": "code",
   "execution_count": 16,
   "id": "cb0558a6",
   "metadata": {},
   "outputs": [
    {
     "data": {
      "text/plain": [
       "<AxesSubplot:>"
      ]
     },
     "execution_count": 16,
     "metadata": {},
     "output_type": "execute_result"
    },
    {
     "data": {
      "image/png": "[encoded data removed]",
      "text/plain": [
       "<Figure size 432x288 with 1 Axes>"
      ]
     },
     "metadata": {
      "needs_background": "light"
     },
     "output_type": "display_data"
    }
   ],
   "source": [
    "sns.histplot(data=foo,x='ProbItem',binwidth=10)"
   ]
  },
  {
   "cell_type": "code",
   "execution_count": 17,
   "id": "4a8b6802",
   "metadata": {},
   "outputs": [
    {
     "data": {
      "text/plain": [
       "(array([0, 0, 0, 0, 0, 0, 0, 0, 0, 0]),\n",
       " array([0. , 0.1, 0.2, 0.3, 0.4, 0.5, 0.6, 0.7, 0.8, 0.9, 1. ]))"
      ]
     },
     "execution_count": 17,
     "metadata": {},
     "output_type": "execute_result"
    }
   ],
   "source": [
    "np.histogram(foo['ProbItem'],)"
   ]
  },
  {
   "cell_type": "code",
   "execution_count": 18,
   "id": "58b07352",
   "metadata": {},
   "outputs": [
    {
     "ename": "KeyError",
     "evalue": "('EAST_PACIFIC', '2020-07-22 06:00:00', 'RIOD')",
     "output_type": "error",
     "traceback": [
      "\u001b[0;31m---------------------------------------------------------------------------\u001b[0m",
      "\u001b[0;31mTypeError\u001b[0m                                 Traceback (most recent call last)",
      "\u001b[0;32mpandas/_libs/index.pyx\u001b[0m in \u001b[0;36mpandas._libs.index.IndexEngine.get_loc\u001b[0;34m()\u001b[0m\n",
      "\u001b[0;32mpandas/_libs/hashtable_class_helper.pxi\u001b[0m in \u001b[0;36mpandas._libs.hashtable.Float64HashTable.get_item\u001b[0;34m()\u001b[0m\n",
      "\u001b[0;31mTypeError\u001b[0m: must be real number, not str",
      "\nDuring handling of the above exception, another exception occurred:\n",
      "\u001b[0;31mKeyError\u001b[0m                                  Traceback (most recent call last)",
      "\u001b[0;32m~/miniconda3/envs/SHIPS/lib/python3.9/site-packages/pandas/core/indexes/base.py\u001b[0m in \u001b[0;36mget_loc\u001b[0;34m(self, key, method, tolerance)\u001b[0m\n\u001b[1;32m   3080\u001b[0m             \u001b[0;32mtry\u001b[0m\u001b[0;34m:\u001b[0m\u001b[0;34m\u001b[0m\u001b[0;34m\u001b[0m\u001b[0m\n\u001b[0;32m-> 3081\u001b[0;31m                 \u001b[0;32mreturn\u001b[0m \u001b[0mself\u001b[0m\u001b[0;34m.\u001b[0m\u001b[0m_engine\u001b[0m\u001b[0;34m.\u001b[0m\u001b[0mget_loc\u001b[0m\u001b[0;34m(\u001b[0m\u001b[0mcasted_key\u001b[0m\u001b[0;34m)\u001b[0m\u001b[0;34m\u001b[0m\u001b[0;34m\u001b[0m\u001b[0m\n\u001b[0m\u001b[1;32m   3082\u001b[0m             \u001b[0;32mexcept\u001b[0m \u001b[0mKeyError\u001b[0m \u001b[0;32mas\u001b[0m \u001b[0merr\u001b[0m\u001b[0;34m:\u001b[0m\u001b[0;34m\u001b[0m\u001b[0;34m\u001b[0m\u001b[0m\n",
      "\u001b[0;32mpandas/_libs/index.pyx\u001b[0m in \u001b[0;36mpandas._libs.index.IndexEngine.get_loc\u001b[0;34m()\u001b[0m\n",
      "\u001b[0;32mpandas/_libs/index.pyx\u001b[0m in \u001b[0;36mpandas._libs.index.IndexEngine.get_loc\u001b[0;34m()\u001b[0m\n",
      "\u001b[0;31mKeyError\u001b[0m: 'EAST_PACIFIC'",
      "\nThe above exception was the direct cause of the following exception:\n",
      "\u001b[0;31mKeyError\u001b[0m                                  Traceback (most recent call last)",
      "\u001b[0;32mpandas/_libs/index.pyx\u001b[0m in \u001b[0;36mpandas._libs.index.BaseMultiIndexCodesEngine.get_loc\u001b[0;34m()\u001b[0m\n",
      "\u001b[0;32m~/miniconda3/envs/SHIPS/lib/python3.9/site-packages/pandas/core/indexes/numeric.py\u001b[0m in \u001b[0;36mget_loc\u001b[0;34m(self, key, method, tolerance)\u001b[0m\n\u001b[1;32m    394\u001b[0m \u001b[0;34m\u001b[0m\u001b[0m\n\u001b[0;32m--> 395\u001b[0;31m         \u001b[0;32mreturn\u001b[0m \u001b[0msuper\u001b[0m\u001b[0;34m(\u001b[0m\u001b[0;34m)\u001b[0m\u001b[0;34m.\u001b[0m\u001b[0mget_loc\u001b[0m\u001b[0;34m(\u001b[0m\u001b[0mkey\u001b[0m\u001b[0;34m,\u001b[0m \u001b[0mmethod\u001b[0m\u001b[0;34m=\u001b[0m\u001b[0mmethod\u001b[0m\u001b[0;34m,\u001b[0m \u001b[0mtolerance\u001b[0m\u001b[0;34m=\u001b[0m\u001b[0mtolerance\u001b[0m\u001b[0;34m)\u001b[0m\u001b[0;34m\u001b[0m\u001b[0;34m\u001b[0m\u001b[0m\n\u001b[0m\u001b[1;32m    396\u001b[0m \u001b[0;34m\u001b[0m\u001b[0m\n",
      "\u001b[0;32m~/miniconda3/envs/SHIPS/lib/python3.9/site-packages/pandas/core/indexes/base.py\u001b[0m in \u001b[0;36mget_loc\u001b[0;34m(self, key, method, tolerance)\u001b[0m\n\u001b[1;32m   3082\u001b[0m             \u001b[0;32mexcept\u001b[0m \u001b[0mKeyError\u001b[0m \u001b[0;32mas\u001b[0m \u001b[0merr\u001b[0m\u001b[0;34m:\u001b[0m\u001b[0;34m\u001b[0m\u001b[0;34m\u001b[0m\u001b[0m\n\u001b[0;32m-> 3083\u001b[0;31m                 \u001b[0;32mraise\u001b[0m \u001b[0mKeyError\u001b[0m\u001b[0;34m(\u001b[0m\u001b[0mkey\u001b[0m\u001b[0;34m)\u001b[0m \u001b[0;32mfrom\u001b[0m \u001b[0merr\u001b[0m\u001b[0;34m\u001b[0m\u001b[0;34m\u001b[0m\u001b[0m\n\u001b[0m\u001b[1;32m   3084\u001b[0m \u001b[0;34m\u001b[0m\u001b[0m\n",
      "\u001b[0;31mKeyError\u001b[0m: 'EAST_PACIFIC'",
      "\nDuring handling of the above exception, another exception occurred:\n",
      "\u001b[0;31mKeyError\u001b[0m                                  Traceback (most recent call last)",
      "\u001b[0;32m~/miniconda3/envs/SHIPS/lib/python3.9/site-packages/pandas/core/indexes/multi.py\u001b[0m in \u001b[0;36m_get_loc_level\u001b[0;34m(self, key, level, drop_level)\u001b[0m\n\u001b[1;32m   3035\u001b[0m                     \u001b[0;32mtry\u001b[0m\u001b[0;34m:\u001b[0m\u001b[0;34m\u001b[0m\u001b[0;34m\u001b[0m\u001b[0m\n\u001b[0;32m-> 3036\u001b[0;31m                         \u001b[0;32mreturn\u001b[0m \u001b[0;34m(\u001b[0m\u001b[0mself\u001b[0m\u001b[0;34m.\u001b[0m\u001b[0m_engine\u001b[0m\u001b[0;34m.\u001b[0m\u001b[0mget_loc\u001b[0m\u001b[0;34m(\u001b[0m\u001b[0mkey\u001b[0m\u001b[0;34m)\u001b[0m\u001b[0;34m,\u001b[0m \u001b[0;32mNone\u001b[0m\u001b[0;34m)\u001b[0m\u001b[0;34m\u001b[0m\u001b[0;34m\u001b[0m\u001b[0m\n\u001b[0m\u001b[1;32m   3037\u001b[0m                     \u001b[0;32mexcept\u001b[0m \u001b[0mKeyError\u001b[0m \u001b[0;32mas\u001b[0m \u001b[0me\u001b[0m\u001b[0;34m:\u001b[0m\u001b[0;34m\u001b[0m\u001b[0;34m\u001b[0m\u001b[0m\n",
      "\u001b[0;32mpandas/_libs/index.pyx\u001b[0m in \u001b[0;36mpandas._libs.index.BaseMultiIndexCodesEngine.get_loc\u001b[0;34m()\u001b[0m\n",
      "\u001b[0;31mKeyError\u001b[0m: ('EAST_PACIFIC', '2020-07-22 06:00:00', 'RIOD')",
      "\nThe above exception was the direct cause of the following exception:\n",
      "\u001b[0;31mKeyError\u001b[0m                                  Traceback (most recent call last)",
      "\u001b[0;32m/tmp/ipykernel_22549/1547870997.py\u001b[0m in \u001b[0;36m<module>\u001b[0;34m\u001b[0m\n\u001b[0;32m----> 1\u001b[0;31m \u001b[0metracks_test\u001b[0m\u001b[0;34m.\u001b[0m\u001b[0mset_index\u001b[0m\u001b[0;34m(\u001b[0m\u001b[0;34m[\u001b[0m\u001b[0;34m'BASIN'\u001b[0m\u001b[0;34m,\u001b[0m\u001b[0;34m'DATE'\u001b[0m\u001b[0;34m,\u001b[0m\u001b[0;34m'Tech'\u001b[0m\u001b[0;34m]\u001b[0m\u001b[0;34m)\u001b[0m\u001b[0;34m.\u001b[0m\u001b[0mxs\u001b[0m\u001b[0;34m(\u001b[0m\u001b[0;34m(\u001b[0m\u001b[0;34m'EAST_PACIFIC'\u001b[0m\u001b[0;34m,\u001b[0m\u001b[0;34m'2020-07-22 06:00:00'\u001b[0m\u001b[0;34m,\u001b[0m\u001b[0;34m'RIOD'\u001b[0m\u001b[0;34m)\u001b[0m\u001b[0;34m)\u001b[0m\u001b[0;34m\u001b[0m\u001b[0;34m\u001b[0m\u001b[0m\n\u001b[0m",
      "\u001b[0;32m~/miniconda3/envs/SHIPS/lib/python3.9/site-packages/pandas/core/generic.py\u001b[0m in \u001b[0;36mxs\u001b[0;34m(self, key, axis, level, drop_level)\u001b[0m\n\u001b[1;32m   3731\u001b[0m         \u001b[0;32mif\u001b[0m \u001b[0misinstance\u001b[0m\u001b[0;34m(\u001b[0m\u001b[0mindex\u001b[0m\u001b[0;34m,\u001b[0m \u001b[0mMultiIndex\u001b[0m\u001b[0;34m)\u001b[0m\u001b[0;34m:\u001b[0m\u001b[0;34m\u001b[0m\u001b[0;34m\u001b[0m\u001b[0m\n\u001b[1;32m   3732\u001b[0m             \u001b[0;32mtry\u001b[0m\u001b[0;34m:\u001b[0m\u001b[0;34m\u001b[0m\u001b[0;34m\u001b[0m\u001b[0m\n\u001b[0;32m-> 3733\u001b[0;31m                 loc, new_index = index._get_loc_level(\n\u001b[0m\u001b[1;32m   3734\u001b[0m                     \u001b[0mkey\u001b[0m\u001b[0;34m,\u001b[0m \u001b[0mlevel\u001b[0m\u001b[0;34m=\u001b[0m\u001b[0;36m0\u001b[0m\u001b[0;34m,\u001b[0m \u001b[0mdrop_level\u001b[0m\u001b[0;34m=\u001b[0m\u001b[0mdrop_level\u001b[0m\u001b[0;34m\u001b[0m\u001b[0;34m\u001b[0m\u001b[0m\n\u001b[1;32m   3735\u001b[0m                 )\n",
      "\u001b[0;32m~/miniconda3/envs/SHIPS/lib/python3.9/site-packages/pandas/core/indexes/multi.py\u001b[0m in \u001b[0;36m_get_loc_level\u001b[0;34m(self, key, level, drop_level)\u001b[0m\n\u001b[1;32m   3036\u001b[0m                         \u001b[0;32mreturn\u001b[0m \u001b[0;34m(\u001b[0m\u001b[0mself\u001b[0m\u001b[0;34m.\u001b[0m\u001b[0m_engine\u001b[0m\u001b[0;34m.\u001b[0m\u001b[0mget_loc\u001b[0m\u001b[0;34m(\u001b[0m\u001b[0mkey\u001b[0m\u001b[0;34m)\u001b[0m\u001b[0;34m,\u001b[0m \u001b[0;32mNone\u001b[0m\u001b[0;34m)\u001b[0m\u001b[0;34m\u001b[0m\u001b[0;34m\u001b[0m\u001b[0m\n\u001b[1;32m   3037\u001b[0m                     \u001b[0;32mexcept\u001b[0m \u001b[0mKeyError\u001b[0m \u001b[0;32mas\u001b[0m \u001b[0me\u001b[0m\u001b[0;34m:\u001b[0m\u001b[0;34m\u001b[0m\u001b[0;34m\u001b[0m\u001b[0m\n\u001b[0;32m-> 3038\u001b[0;31m                         \u001b[0;32mraise\u001b[0m \u001b[0mKeyError\u001b[0m\u001b[0;34m(\u001b[0m\u001b[0mkey\u001b[0m\u001b[0;34m)\u001b[0m \u001b[0;32mfrom\u001b[0m \u001b[0me\u001b[0m\u001b[0;34m\u001b[0m\u001b[0;34m\u001b[0m\u001b[0m\n\u001b[0m\u001b[1;32m   3039\u001b[0m                 \u001b[0;32melse\u001b[0m\u001b[0;34m:\u001b[0m\u001b[0;34m\u001b[0m\u001b[0;34m\u001b[0m\u001b[0m\n\u001b[1;32m   3040\u001b[0m                     \u001b[0;32mreturn\u001b[0m \u001b[0mpartial_selection\u001b[0m\u001b[0;34m(\u001b[0m\u001b[0mkey\u001b[0m\u001b[0;34m)\u001b[0m\u001b[0;34m\u001b[0m\u001b[0;34m\u001b[0m\u001b[0m\n",
      "\u001b[0;31mKeyError\u001b[0m: ('EAST_PACIFIC', '2020-07-22 06:00:00', 'RIOD')"
     ]
    }
   ],
   "source": [
    "etracks_test.set_index(['BASIN','DATE','Tech']).xs(('EAST_PACIFIC','2020-07-22 06:00:00','RIOD'))"
   ]
  },
  {
   "cell_type": "code",
   "execution_count": null,
   "id": "a5c64156",
   "metadata": {
    "scrolled": false
   },
   "outputs": [],
   "source": [
    "etracks_test[(etracks_test['ProbItem'] > 70) & (etracks_test['Intensity Change'].astype(int)==40)]"
   ]
  },
  {
   "cell_type": "code",
   "execution_count": null,
   "id": "61a895a5",
   "metadata": {},
   "outputs": [],
   "source": [
    "# etracks_"
   ]
  }
 ],
 "metadata": {
  "kernelspec": {
   "display_name": "SHIPS",
   "language": "python",
   "name": "ships"
  },
  "language_info": {
   "codemirror_mode": {
    "name": "ipython",
    "version": 3
   },
   "file_extension": ".py",
   "mimetype": "text/x-python",
   "name": "python",
   "nbconvert_exporter": "python",
   "pygments_lexer": "ipython3",
   "version": "3.9.5"
  }
 },
 "nbformat": 4,
 "nbformat_minor": 5
}
