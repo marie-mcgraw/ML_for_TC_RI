{
 "cells": [
  {
   "cell_type": "code",
   "execution_count": 1,
   "id": "7eadfd5a",
   "metadata": {},
   "outputs": [],
   "source": [
    "import numpy as np\n",
    "import pandas as pd\n",
    "import matplotlib.pyplot as plt\n",
    "import seaborn as sns"
   ]
  },
  {
   "cell_type": "markdown",
   "id": "a67359d3",
   "metadata": {},
   "source": [
    "##### Load RF model"
   ]
  },
  {
   "cell_type": "code",
   "execution_count": 2,
   "id": "1a45f01a",
   "metadata": {},
   "outputs": [],
   "source": [
    "def load_RF_model(yr_start,yr_end,mask,stand_str,RI_thresh,weights,scoring,RF_score='Random Forest'):\n",
    "\n",
    "    RF_dir = '~/SHIPS/SHIPS_clean/Model_Results/VALIDATION/ALL_2019-2021_ONLY'\n",
    "    #RF_dir = '~/SHIPS/SHIPS_clean/Model_Results/VALIDATION/'\n",
    "    RF_ext = '_{RF_score}_SHIPS_VALID_RI_vs_no_RI_{yr_start}-{yr_end}_{mask}_{stand_str}_RI_thresh_{RI_thresh}weights_'\\\n",
    "    '{weights}_wts_{scoring}.csv'.format(RF_score=RF_score,yr_start=yr_start,yr_end=yr_end,mask=mask,\n",
    "            stand_str=stand_str,RI_thresh=RI_thresh,weights=weights,scoring=scoring)\n",
    "    y_pred_RF = pd.read_csv(RF_dir+'PREDICTED_Y_vals'+RF_ext)\n",
    "    y_pred_RF = y_pred_RF.rename(columns={'Y test':'Y true'})\n",
    "    return y_pred_RF"
   ]
  },
  {
   "cell_type": "code",
   "execution_count": 3,
   "id": "ac9a450c",
   "metadata": {},
   "outputs": [],
   "source": [
    "def load_LR_model(yr_start,yr_end,mask,stand_str,RI_thresh,weights,scoring):\n",
    "    LR_models = ['lbfgs']\n",
    "    LR_dir = '~/SHIPS/SHIPS_clean/Model_Results/VALIDATION/ALL_2019-2021_ONLY'\n",
    "    #LR_dir = '~/SHIPS/SHIPS_clean/Model_Results/VALIDATION/'\n",
    "    LR_ext1 = '_{model}_SHIPS_VALID_RI_vs_no_RI_{yr_start}-{yr_end}_{mask}_{stand_str}_RI_thresh_{RI_thresh}weights_'\\\n",
    "    '{weights}_wts_{scoring}.csv'.format(model=LR_models[0],yr_start=yr_start,yr_end=yr_end,mask=mask,\n",
    "                                stand_str=stand_str,RI_thresh=RI_thresh,weights=weights,scoring=scoring)\n",
    "    y_pred_LR1 = pd.read_csv(LR_dir+'PREDICTED_Y_vals'+LR_ext1)\n",
    "    y_pred_LR1 = y_pred_LR1.rename(columns={'Y test':'Y true'})\n",
    "    return y_pred_LR1"
   ]
  },
  {
   "cell_type": "code",
   "execution_count": 4,
   "id": "b16cecae",
   "metadata": {},
   "outputs": [],
   "source": [
    "yr_start = 2019\n",
    "yr_end = 2022\n",
    "mask = 'SIMPLE_MASK'\n",
    "stand_str = 'STANDARDIZED'\n",
    "RI_thresh = 30\n",
    "weights = 'default'\n",
    "scoring = 'f1_weighted'\n",
    "fig_format = 'pdf'"
   ]
  },
  {
   "cell_type": "code",
   "execution_count": 5,
   "id": "891e3cc4",
   "metadata": {},
   "outputs": [],
   "source": [
    "y_pred_RF = load_RF_model(yr_start,yr_end,mask,stand_str,RI_thresh,weights,scoring,RF_score='Random Forest')\n",
    "y_pred_LR = load_LR_model(yr_start,yr_end,mask,stand_str,RI_thresh,weights,scoring)\n",
    "y_pred_res = pd.concat([y_pred_RF,y_pred_LR])"
   ]
  },
  {
   "cell_type": "code",
   "execution_count": null,
   "id": "72561eaf",
   "metadata": {},
   "outputs": [],
   "source": []
  },
  {
   "cell_type": "markdown",
   "id": "a4063b71",
   "metadata": {},
   "source": [
    "##### Load SHIPS-RII"
   ]
  },
  {
   "cell_type": "code",
   "execution_count": 6,
   "id": "908285ac",
   "metadata": {},
   "outputs": [],
   "source": [
    "def load_edecks_FRIA(yr_start,yr_end):\n",
    "    edeck_fria = pd.read_csv('VALIDATION_data/edecks/FRIA_etracks_RI_{yr_start}-{yr_end}.csv'.format(yr_start=\n",
    "                                                                                    yr_start,yr_end=yr_end))\n",
    "    #\n",
    "    edeck_fria['ATCF BASIN'] = edeck_fria['BASIN']\n",
    "    edeck_fria['ATCF BASIN'] = edeck_fria['ATCF BASIN']\n",
    "                            "
   ]
  },
  {
   "cell_type": "code",
   "execution_count": 7,
   "id": "c72949a9",
   "metadata": {},
   "outputs": [],
   "source": [
    "def load_edecks(yr):\n",
    "    best_track = pd.DataFrame()\n",
    "    e_deck = pd.DataFrame()\n",
    "    ibest_track = pd.read_csv('VALIDATION_data/processed/best_tracks_{year_sel}.csv'.format(year_sel=yr))\n",
    "    ie_deck = pd.read_csv('VALIDATION_data/edecks/etracks_RI_{year_sel}.csv'.format(year_sel=yr))\n",
    "    ie_deck['YEAR'] = pd.to_datetime(ie_deck['DATE']).dt.year\n",
    "    #\n",
    "    ibest_track = ibest_track.drop(columns={'Unnamed: 0','TECHNUM','DEPTH','SEASCODE','WINDCODE','SEAS','SEAS1','SEAS2',\n",
    "                                     'P Outer','R Outer','SUBREGION','MAXSEAS','INITIALS','SEAS3','SEAS4'})\n",
    "    ibest_track['DATE'] = pd.to_datetime(ibest_track['DATE']).dt.date\n",
    "    ibest_track['YEAR'] = pd.to_datetime(ibest_track['DATE']).dt.year\n",
    "    ibest_track['ATCFID'] = ibest_track['BASIN']+ibest_track['CYCLONE NO']+pd.to_datetime(ibest_track['DATE']).dt.year.astype(str)\n",
    "    ibest_track['BASIN'] = ibest_track['BASIN'].replace({'AL':'ATLANTIC','EP':'EAST_PACIFIC','WP':'WEST_PACIFIC',\n",
    "                                                        'SH':'SOUTHERN_HEM','CP':'CENTRAL_PACIFIC'})\n",
    "    #\n",
    "    \n",
    "    return ibest_track,ie_deck"
   ]
  },
  {
   "cell_type": "markdown",
   "id": "0452df0b",
   "metadata": {},
   "source": [
    "#### Read in the FRIA edecks"
   ]
  },
  {
   "cell_type": "code",
   "execution_count": 8,
   "id": "f80a5e16",
   "metadata": {},
   "outputs": [],
   "source": [
    "edeck_fria = pd.read_csv('VALIDATION_data/edecks/FRIA_etracks_RI_2019-2021.csv')\n",
    "edeck_fria['YEAR'] = pd.to_datetime(edeck_fria['DATE']).dt.year\n",
    "edeck_fria['BASIN'] = edeck_fria['BASIN'].replace({'AL':'ATLANTIC','EP':'EAST_PACIFIC','CP':'CENTRAL_PACIFIC',\n",
    "                                                  'WP':'WEST_PACIFIC','SH':'SOUTHERN_HEM'})\n",
    "edeck_fria = edeck_fria.drop(columns={'Initials','Unnamed: 0'})\n",
    "edeck_fria = edeck_fria.rename(columns={'ProbItem':'30/24'})"
   ]
  },
  {
   "cell_type": "markdown",
   "id": "857bfbf4",
   "metadata": {},
   "source": [
    "#### Read in the RIPA edecks"
   ]
  },
  {
   "cell_type": "code",
   "execution_count": 9,
   "id": "7939aeb8",
   "metadata": {},
   "outputs": [
    {
     "data": {
      "text/plain": [
       "array(['LDA0', 'LOGR', 'RAPC'], dtype=object)"
      ]
     },
     "execution_count": 9,
     "metadata": {},
     "output_type": "execute_result"
    }
   ],
   "source": [
    "edeck_ripa = pd.read_csv('VALIDATION_data/edecks/RIPA_etracks_RI_2019-2021.csv')\n",
    "edeck_ripa['YEAR'] = pd.to_datetime(edeck_ripa['DATE']).dt.year\n",
    "edeck_ripa['BASIN'] = edeck_ripa['BASIN'].replace({'EP':'EAST_PACIFIC','WP':'WEST_PACIFIC','SH':'SOUTHERN_HEM'})\n",
    "edeck_ripa = edeck_ripa.drop(columns={'Initials','Unnamed: 0'})\n",
    "edeck_ripa = edeck_ripa.rename(columns={'ProbItem':'30/24'})\n",
    "edeck_ripa['Tech'].unique()"
   ]
  },
  {
   "cell_type": "code",
   "execution_count": null,
   "id": "8bea923e",
   "metadata": {},
   "outputs": [],
   "source": []
  },
  {
   "cell_type": "code",
   "execution_count": 10,
   "id": "c9d7742d",
   "metadata": {
    "scrolled": true
   },
   "outputs": [],
   "source": [
    "yr_sel = [2019,2020,2021]\n",
    "best_track = pd.DataFrame()\n",
    "e_deck = pd.DataFrame()\n",
    "for iyr in yr_sel:\n",
    "    ibt,ied = load_edecks(iyr)\n",
    "    #\n",
    "    e_deck = e_deck.append(ied)\n",
    "    best_track = best_track.append(ibt)\n",
    "#\n",
    "e_deck = e_deck.drop(columns={'Initials','Unnamed: 0'})\n",
    "e_deck = e_deck.rename(columns={'ProbItem':'30/24'})\n",
    "best_track = best_track[best_track['RAD']==34]"
   ]
  },
  {
   "cell_type": "code",
   "execution_count": null,
   "id": "dee52f89",
   "metadata": {},
   "outputs": [],
   "source": []
  },
  {
   "cell_type": "markdown",
   "id": "8f155b69",
   "metadata": {},
   "source": [
    "##### Get 24-hour changes in VMAX for best tracks\n",
    "Get 24-hour changes in VMAX. Mask out cases where Timedelta > 1 Day (aka, going from one case to another). "
   ]
  },
  {
   "cell_type": "code",
   "execution_count": 11,
   "id": "f8c580fd",
   "metadata": {},
   "outputs": [],
   "source": [
    "def bdeck_change(bdeck,dt=24,init_hr=0):\n",
    "    d_hr = int(dt/6)\n",
    "    ships = bdeck.set_index(['ATCFID','TIME'])\n",
    "    nlev = ships.index.nlevels\n",
    "    ships_t0 = ships\n",
    "    ships_dt = ships_t0.shift(-d_hr)\n",
    "    pred_num = ['VMAX','MSLP']\n",
    "    date_diff = pd.to_datetime(ships_dt['DATE']) - pd.to_datetime(ships_t0['DATE'])\n",
    "    diff = ships_dt[pred_num] - ships_t0[pred_num]\n",
    "    diff = diff.where(date_diff == pd.Timedelta(1,'D'))\n",
    "    best_track_diffs = ships.copy()\n",
    "    best_track_diffs[['d{dt}_VMAX'.format(dt=dt),'d{dt}_MSLP'.format(dt=dt)]] = diff[pred_num]\n",
    "    # Remove invests, etc\n",
    "    cyclone_nos_allowed = ['01','02','03','04','05','06','07','08','09','10','11','12','13','14','15','16','17',\n",
    "                          '18','19','20','21','22','23','24','25','26','27','28','29','30','31','32','33','34',\n",
    "                          '35','36','37','38','39','40','41','42','43','44','45','46','47','48','49','50']\n",
    "    best_track_diffs = best_track_diffs[best_track_diffs['CYCLONE NO'].isin(cyclone_nos_allowed)]\n",
    "    return best_track_diffs"
   ]
  },
  {
   "cell_type": "code",
   "execution_count": 14,
   "id": "16bfe031",
   "metadata": {
    "scrolled": true
   },
   "outputs": [
    {
     "data": {
      "text/plain": [
       "array(['A4', '01', '12', '08', '11', '91', '19', '90', '07', 'A3', '13',\n",
       "       'D2', 'C0', '05', 'E6', '98', '97', 'C5', 'B9', '16', 'C7', 'C2',\n",
       "       '06', '81', '93', '15', 'A9', '03', '02', '09', 'B0', '96', 'C3',\n",
       "       'A2', '18', 'A6', '25', '30', 'C6', '14', 'C9', 'D6', 'A1', '24',\n",
       "       '22', '95', 'C1', '20', '80', '17', '04', '92', '29', 'B3', 'D8',\n",
       "       'C8', 'D1', 'B5', 'A8', '99', '28', 'D3', '10', 'C4', 'B2', 'B1',\n",
       "       'D4', 'A5', 'F1', 'B6', 'D0', 'B8', '21', '23', 'E1', '26', '27',\n",
       "       'A7', '94', 'B7', 'B4', 'A0', 'H0', 'E5', 'F9', 'E0', 'F0', 'D7',\n",
       "       '31', 'E7', 'I0', 'D9', 'G0', 'E9', 'E4', 'D5', 'E3', 'E8'],\n",
       "      dtype=object)"
      ]
     },
     "execution_count": 14,
     "metadata": {},
     "output_type": "execute_result"
    }
   ],
   "source": [
    "bdeck_diffs = bdeck_change(best_track)\n",
    "best_track['CYCLONE NO'].unique()"
   ]
  },
  {
   "cell_type": "markdown",
   "id": "05bbae8c",
   "metadata": {},
   "source": [
    "##### Bin e-deck RI probabilities by 10s \n",
    "Round the e-deck RI probabilities to the nearest 10. (RI probability of 0-5 will go into 5% bin). We identify the desired intensity change, and determine the probability of RI ($ProbItem$) at that intensity change ($Intensity Change$).  Also make sure we are at the 24 hour threshold ($RIstartTAU = 0$, $RIstopTAU = 24$). \n",
    "\n",
    "Then, we will find corresponding best tracks for each probability bin.  We will count up the number of days that actually saw RI. "
   ]
  },
  {
   "cell_type": "code",
   "execution_count": null,
   "id": "95186d3d",
   "metadata": {},
   "outputs": [],
   "source": [
    "def bin_edecks(edeck,tech_sel,RI_thresh=30,t0=0,dt=24):\n",
    "    e_decks_trim = edeck.where((edeck['RIstartTAU']==t0) & (edeck['RIstopTAU']==dt)).dropna(how='all')\n",
    "    e_decks_trim = e_decks_trim[e_decks_trim['Tech'].isin(tech_sel)]\n",
    "    e_decks_trim = e_decks_trim[e_decks_trim['Intensity Change']==RI_thresh]\n",
    "    #\n",
    "    e_decks_trim['30/24'] = e_decks_trim['30/24'].astype(float)\n",
    "    e_decks_trim['Prob. RI'] = e_decks_trim['30/24'].round(-1)\n",
    "    e_decks_trim['Prob. RI'] = e_decks_trim['Prob. RI'].mask(e_decks_trim['30/24'] <= 5, 5)\n",
    "    # Remove invests (cyclone no > 50)\n",
    "    e_decks_trim = e_decks_trim[e_decks_trim['CYCLONE NO']<=50]\n",
    "    #\n",
    "    e_decks_trim['TIME'] = pd.to_datetime(e_decks_trim['DATE']).dt.hour\n",
    "    e_decks_trim['DATE'] = pd.to_datetime(e_decks_trim['DATE']).dt.date\n",
    "    e_decks_trim['DATE_full'] = pd.to_datetime(e_decks_trim['DATE']) + pd.to_timedelta(e_decks_trim['TIME'],'hours')\n",
    "    return e_decks_trim"
   ]
  },
  {
   "cell_type": "code",
   "execution_count": null,
   "id": "4042f228",
   "metadata": {
    "scrolled": true
   },
   "outputs": [],
   "source": [
    "edeck_ALL = pd.concat([e_deck,edeck_fria,edeck_ripa],axis=0)\n",
    "tech_sel = ['RIOC','RIOD','LDA0','FRIA']\n",
    "edeck_sel = bin_edecks(edeck_ALL,tech_sel)"
   ]
  },
  {
   "cell_type": "code",
   "execution_count": null,
   "id": "0873f549",
   "metadata": {},
   "outputs": [],
   "source": [
    "edeck_ALL.groupby(['BASIN','YEAR']).count()\n",
    "#edeck_fria.groupby(['BASIN','YEAR']).count()"
   ]
  },
  {
   "cell_type": "markdown",
   "id": "33f47d32",
   "metadata": {},
   "source": [
    "#### Trim to dates we actually predicted"
   ]
  },
  {
   "cell_type": "code",
   "execution_count": null,
   "id": "3a462079",
   "metadata": {},
   "outputs": [],
   "source": [
    "edeck_trim = edeck_sel[edeck_sel['DATE_full'].isin(y_pred_res['DATE_full'])]"
   ]
  },
  {
   "cell_type": "code",
   "execution_count": null,
   "id": "af3d2891",
   "metadata": {},
   "outputs": [],
   "source": [
    "edeck_trim['BASIN'] = edeck_trim['BASIN'].replace({'AL':'ATLANTIC','EP':'EAST_PACIFIC'})"
   ]
  },
  {
   "cell_type": "raw",
   "id": "18fda5e6",
   "metadata": {},
   "source": [
    "edeck_trim.set_index(['BASIN']).xs('SOUTHERN_HEM')['30/24'].round(-1).plot()"
   ]
  },
  {
   "cell_type": "markdown",
   "id": "4cbdbe35",
   "metadata": {},
   "source": [
    "##### Reliability for e-decks"
   ]
  },
  {
   "cell_type": "code",
   "execution_count": null,
   "id": "e9017298",
   "metadata": {
    "scrolled": true
   },
   "outputs": [],
   "source": [
    "#def calc_edeck_reliability(edeck,tech_sel,bdeck_diffs):\n",
    "edeck = edeck_trim\n",
    "pct_range = edeck['Prob. RI'].unique().tolist()\n",
    "reliability_edecks = pd.DataFrame()\n",
    "# i_model = tech_sel[1]\n",
    "# print(i_model)\n",
    "for i_model in tech_sel:\n",
    "    print(i_model)\n",
    "    i_e_decks_trim = edeck.set_index(['Tech']).xs(i_model).reset_index()\n",
    "    # ipct = 20\n",
    "    for ipct in pct_range:\n",
    "        if not ipct in i_e_decks_trim.set_index(['Prob. RI']).index:\n",
    "            continue\n",
    "        else:\n",
    "            xedeck_sel = i_e_decks_trim.set_index(['Prob. RI','ATCFID','DATE','TIME']).xs(ipct)\n",
    "            bdeck_sel = bdeck_diffs.reset_index().set_index(['ATCFID','DATE','TIME'])\n",
    "            bdeck_sel['Y true'] = 0\n",
    "            bdeck_sel['Y true'] = bdeck_sel['Y true'].mask(bdeck_sel['d24_VMAX']>= RI_thresh,1)\n",
    "            b_ind = bdeck_sel.index.to_list()\n",
    "            e_ind = xedeck_sel.index.to_list()\n",
    "            ind_both = set(b_ind)&set(e_ind)\n",
    "            #\n",
    "            bdeck_trim = bdeck_sel.loc[ind_both]\n",
    "            xedeck_trim = xedeck_sel.loc[ind_both]\n",
    "            total_days = xedeck_trim.reset_index().groupby(['BASIN']).count()\n",
    "            no_RI = bdeck_trim.groupby(['BASIN'])['Y true'].sum()\n",
    "            #\n",
    "            i_df = pd.DataFrame(index=total_days.index,columns={'Observed Pct','Predicted Pct'})\n",
    "            # \n",
    "            if len(no_RI) == 0:\n",
    "                pct = 0\n",
    "                i_df['Observed Pct'] = 0\n",
    "                i_df['Observed No. RI'] = 0\n",
    "            else:\n",
    "                pct = 100*(no_RI/total_days['V'])\n",
    "                i_df['Observed Pct'] = pct\n",
    "                i_df['Observed No. RI'] = no_RI\n",
    "            #\n",
    "            i_df['Predicted Pct'] = ipct\n",
    "            i_df['Observed No Total'] = total_days['V']\n",
    "            i_df['Model'] = i_model\n",
    "            reliability_edecks = reliability_edecks.append(i_df)\n",
    "#return reliability_edecks"
   ]
  },
  {
   "cell_type": "markdown",
   "id": "5bb4addb",
   "metadata": {},
   "source": [
    "reliability_edecks# = calc_edeck_reliability(edeck_trim,tech_sel,bdeck_diffs)"
   ]
  },
  {
   "cell_type": "code",
   "execution_count": null,
   "id": "315da7d2",
   "metadata": {},
   "outputs": [],
   "source": [
    "i_e_decks_trim = edeck.set_index(['Tech']).xs(i_model).reset_index()"
   ]
  },
  {
   "cell_type": "code",
   "execution_count": null,
   "id": "db78b010",
   "metadata": {},
   "outputs": [],
   "source": [
    "reliability_edecks['Model'] = reliability_edecks['Model'].replace('RIOC','OP-CON')\n",
    "reliability_edecks['Model'] = reliability_edecks['Model'].replace('RIOD','SHIPS-RII')\n",
    "reliability_edecks['Model'] = reliability_edecks['Model'].replace('LDA0','RIPA')\n"
   ]
  },
  {
   "cell_type": "code",
   "execution_count": null,
   "id": "7c40fe4f",
   "metadata": {},
   "outputs": [],
   "source": [
    "edeck_sel = i_e_decks_trim.set_index(['Prob. RI','BASIN','ATCFID','DATE','TIME'])"
   ]
  },
  {
   "cell_type": "code",
   "execution_count": null,
   "id": "3ea2d604",
   "metadata": {},
   "outputs": [],
   "source": [
    "y_pred_res['Y pred probab (class: 1)'] = y_pred_res['Y pred probab (class: 1)']*100"
   ]
  },
  {
   "cell_type": "code",
   "execution_count": null,
   "id": "cbe02ffa",
   "metadata": {},
   "outputs": [],
   "source": [
    "y_pred_res['RI prob'] = (y_pred_res['Y pred probab (class: 1)']).round(-1)"
   ]
  },
  {
   "cell_type": "code",
   "execution_count": null,
   "id": "e9d3ebd5",
   "metadata": {},
   "outputs": [],
   "source": [
    "y_pred_res['RI prob'] = y_pred_res['RI prob'].mask(y_pred_res['RI prob'] <= 5, 5)"
   ]
  },
  {
   "cell_type": "code",
   "execution_count": null,
   "id": "738787e8",
   "metadata": {},
   "outputs": [],
   "source": [
    "pct_range = y_pred_res['RI prob'].unique().tolist()\n",
    "reliability = pd.DataFrame()\n",
    "for ipct in pct_range:\n",
    "    # ipct = 10\n",
    "    if ipct == 100:\n",
    "        continue\n",
    "    y_sel = y_pred_res.set_index(['RI prob']).xs(ipct)\n",
    "    total = y_sel.groupby(['Predicted Basin','Model']).count()\n",
    "    RI = y_sel[y_sel['Y true']==1].groupby(['Predicted Basin','Model']).count()\n",
    "    i_df = pd.DataFrame(index=total.index,columns={'Observed Pct','Predicted Pct'})\n",
    "    if len(RI) == 0:\n",
    "        pct = 0\n",
    "        i_df['Observed Pct'] = 0\n",
    "        i_df['Observed No. RI'] = 0\n",
    "    else:\n",
    "        pct = 100*(RI/total)\n",
    "        i_df['Observed Pct'] = pct['CASE']\n",
    "        i_df['Observed No. RI'] = RI['CASE']\n",
    "    i_df['Predicted Pct'] = ipct\n",
    "    i_df['Observed No Total'] = total['CASE']\n",
    "    reliability = reliability.append(i_df)"
   ]
  },
  {
   "cell_type": "code",
   "execution_count": null,
   "id": "33d97642",
   "metadata": {},
   "outputs": [],
   "source": [
    "reliability = reliability.mask(reliability.isna(),0)\n"
   ]
  },
  {
   "cell_type": "code",
   "execution_count": null,
   "id": "9d372b57",
   "metadata": {},
   "outputs": [],
   "source": [
    "reliability = reliability.reset_index()\n",
    "reliability['Model'] = reliability['Model'].replace({'lbfgs':'Logistic Reg.'})\n",
    "reliability['Predicted Basin'] = reliability['Predicted Basin'].replace({'SOUTH_PACIFIC':'SOUTHERN_HEM'})\n",
    "reliability = reliability.set_index(['Predicted Basin','Model'])\n"
   ]
  },
  {
   "cell_type": "code",
   "execution_count": null,
   "id": "2e746ec4",
   "metadata": {},
   "outputs": [],
   "source": [
    "reliability#.xs(('ALL','Random Forest')).sort_values(['Predicted Pct'])\n",
    "basin_ALL = reliability.reset_index()['Predicted Basin'].unique().tolist()\n"
   ]
  },
  {
   "cell_type": "code",
   "execution_count": null,
   "id": "3480ead1",
   "metadata": {
    "scrolled": true
   },
   "outputs": [],
   "source": []
  },
  {
   "cell_type": "code",
   "execution_count": null,
   "id": "a890a5b4",
   "metadata": {},
   "outputs": [],
   "source": [
    "reliability_edecks = reliability_edecks.reset_index().rename(columns={'BASIN':'Predicted Basin'}).set_index(['Predicted Basin','Model'])\n",
    "reliability_ALL = pd.concat([reliability,reliability_edecks])\n",
    "reliability_ALL = reliability_ALL[reliability_ALL['Predicted Pct'] < 1000]"
   ]
  },
  {
   "cell_type": "code",
   "execution_count": null,
   "id": "cd2d7ada",
   "metadata": {},
   "outputs": [],
   "source": [
    "RF_consensus = reliability_ALL.xs(('Random Forest'),level=1).reset_index().sort_values('Predicted Pct')\n",
    "# RF_consensus = RF_consensus[RF_consensus['Predicted Basin'].isin(['ATLANTIC','EAST_PACIFIC'])]\n",
    "RF_consensus = RF_consensus.set_index(['Predicted Basin','Predicted Pct'])\n",
    "RF_consensus.loc[('EAST_PACIFIC',5),:] = 0\n",
    "RII_consensus = reliability_ALL.xs(('SHIPS-RII'),level=1).reset_index().set_index(['Predicted Basin','Predicted Pct'])\n",
    "#RII_consensus.loc[('ATLANTIC',50),:] = 0\n",
    "#RII_consensus.loc[('ATLANTIC',80),:] = 0\n",
    "#RII_consensus.loc[('EAST_PACIFIC',70),:] = 0\n",
    "RF_RII_consensus = pd.concat((RF_consensus.replace(0,np.nan),RII_consensus.replace(0,np.nan))).mean(level=(0,1))\n",
    "RF_RII_consensus = RF_RII_consensus.reset_index().set_index(['Predicted Basin'])\n"
   ]
  },
  {
   "cell_type": "code",
   "execution_count": null,
   "id": "ff2aedfb",
   "metadata": {},
   "outputs": [],
   "source": []
  },
  {
   "cell_type": "code",
   "execution_count": null,
   "id": "7e9c9613",
   "metadata": {
    "scrolled": false
   },
   "outputs": [],
   "source": [
    "basin_sel = 'ATLANTIC'\n",
    "palette = sns.color_palette({'xkcd:red orange','xkcd:cornflower blue','xkcd:leaf green','xkcd:sky blue',\n",
    "                             'xkcd:slate grey','xkcd:dark orange'})\n",
    "\n",
    "pal_reduced = sns.color_palette({'xkcd:leaf green','xkcd:goldenrod','xkcd:slate grey','xkcd:dark orange'})\n",
    "if (basin_sel == 'EAST_PACIFIC') | (basin_sel == 'ATLANTIC'):\n",
    "    pal_use = palette\n",
    "else:\n",
    "    pal_use = pal_reduced\n",
    "fig1,ax1 = plt.subplots(1,1,figsize=(10,8))\n",
    "#basin_sel = 'ALL'\n",
    "ax1.plot([0,111.5],[0,111.5],linewidth=3,color='xkcd:black')\n",
    "sns.scatterplot(data=reliability_ALL.xs(basin_sel).reset_index().sort_values('Model'),x='Predicted Pct',y='Observed Pct',hue='Model',\n",
    "                palette=pal_use,ax=ax1,s=150,alpha=0.9)\n",
    "sns.lineplot(data=reliability_ALL.xs(basin_sel).reset_index().sort_values('Model'),x='Predicted Pct',y='Observed Pct',\n",
    "            hue='Model',palette=pal_use,ax=ax1,linewidth=3,legend=False)\n",
    "#\n",
    "if (basin_sel == 'ATLANTIC') | (basin_sel == 'EAST_PACIFIC'):\n",
    "    sns.scatterplot(data=RF_RII_consensus.xs(basin_sel),x='Predicted Pct',y='Observed Pct',color='xkcd:magenta',ax=ax1,\n",
    "               s=170,alpha=0.9,label='ML-CON')\n",
    "    sns.lineplot(data=RF_RII_consensus.xs(basin_sel).reset_index(),x='Predicted Pct',y='Observed Pct',\n",
    "             color='xkcd:magenta',ax=ax1,linewidth=3,legend=False)\n",
    "#sns.scatterplot(data=foo,x='Predicted Pct',y='Observed Pct',hue='Model',\n",
    " #              palette=sns.set_palette(palette),ax=ax1,s=150,alpha=0.8)    \n",
    "ax1.set_ylim([-0.5,111.5])\n",
    "ax1.set_xlim([-0.5,111.5])\n",
    "ax1.set_xticks(pct_range)\n",
    "ax1.set_yticks(np.arange(0,101,10))\n",
    "ax1.tick_params(axis='y',labelsize=14)\n",
    "ax1.tick_params(axis='x',labelsize=14)\n",
    "ax1.legend(fontsize=13,loc='lower right')\n",
    "ax1.set_xlabel('Predicted RI Probability',fontsize=17)\n",
    "ax1.set_ylabel('Observed RI Probability',fontsize=17)\n",
    "plt_nums = reliability_ALL.xs(basin_sel).sort_values(['Predicted Pct']).reset_index().set_index(['Predicted Pct'])\n",
    "ax1.grid()\n",
    "# \n",
    "totals = reliability_ALL.xs(basin_sel).reset_index().sort_values('Predicted Pct').set_index(['Model','Predicted Pct'])\n",
    "models_list = reliability_ALL.reset_index()['Model'].unique().tolist()\n",
    "for i in ['Random Forest','Logistic Reg.']:#,'saga']:\n",
    "    mod_sel = totals.xs(i)\n",
    "    for i_pct in pct_range:\n",
    "        if i_pct in mod_sel.index:\n",
    "            imod = mod_sel.xs(i_pct)['Observed No Total'].astype(int)\n",
    "        else:\n",
    "            imod = 0\n",
    "        if i == 'Random Forest':\n",
    "            yval = (101+5)\n",
    "            if (basin_sel == 'ATLANTIC') | (basin_sel == 'EAST_PACIFIC'):\n",
    "                i_color = sns.color_palette()[-2]\n",
    "            else:\n",
    "                i_color = sns.color_palette()[-0]\n",
    "        elif i == 'Logistic Reg.':\n",
    "            yval = (97+5)\n",
    "            if (basin_sel == 'ATLANTIC') | (basin_sel == 'EAST_PACIFIC'):\n",
    "                i_color = sns.color_palette()[2]\n",
    "            else:\n",
    "                i_color = sns.color_palette()[1]\n",
    "        elif i == 'saga':\n",
    "            yval = (102+5 if i_pct < 90 else 91 -6)\n",
    "            i_color = sns.color_palette()[2]\n",
    "        #elif i == 'RIOC':\n",
    "         #   yval = (97+5 if i_pct < 90 else 91 -6)\n",
    "          #  i_color = sns.color_palette()[3]\n",
    "        #elif i == 'RIOD':\n",
    "         #   yval = (89+5 if i_pct < 90 else 91 -6)\n",
    "          #  i_color = sns.color_palette()[4]\n",
    "        #\n",
    "        ax1.text((i_pct-4 if i_pct == 5 else i_pct -2),yval,imod,color=i_color,fontsize=15,weight='semibold')\n",
    "ax1.set_title('Observed vs Predicted RI Probability, 2019-2021, {basin_sel}'.format(basin_sel=basin_sel),fontsize=24)\n",
    "fig1.tight_layout()\n",
    "fig1.savefig('Figures/reliability_ML_models_ALL_2019_2021_{basin_sel}.{fig_format}'.format(basin_sel=basin_sel,\n",
    "                                                                                          fig_format=fig_format),\n",
    "                format=fig_format,bbox_inches='tight',dpi=350)"
   ]
  },
  {
   "cell_type": "code",
   "execution_count": null,
   "id": "14af3677",
   "metadata": {},
   "outputs": [],
   "source": [
    "basin_use = ['ATLANTIC','EAST_PACIFIC','WEST_PACIFIC','SOUTHERN_HEM']\n",
    "palette = sns.color_palette({'xkcd:red orange','xkcd:cornflower blue','xkcd:leaf green','xkcd:goldenrod'})\n",
    "palette[1:-1]\n",
    "reliability_ALL = reliability_ALL.drop(index=('Logistic Reg.'),level=1)"
   ]
  },
  {
   "cell_type": "code",
   "execution_count": null,
   "id": "a24e5ab6",
   "metadata": {},
   "outputs": [],
   "source": [
    "reliability_ALL"
   ]
  },
  {
   "cell_type": "code",
   "execution_count": null,
   "id": "6954728b",
   "metadata": {
    "scrolled": false
   },
   "outputs": [],
   "source": [
    "## ALL 4 in one plot\n",
    "palette = sns.color_palette({'xkcd:red orange','xkcd:cornflower blue','xkcd:leaf green','xkcd:goldenrod',\n",
    "                             'xkcd:slate grey'})\n",
    "lett = ['a)','b)','c)','d)']\n",
    "fig1,ax1 = plt.subplots(2,2,figsize=(28,24))\n",
    "for i in np.arange(0,4):\n",
    "    basin_sel = basin_use[i]\n",
    "    if (basin_sel == 'WEST_PACIFIC') | (basin_sel=='SOUTHERN_HEM'):\n",
    "        use_pal = [palette[0],palette[2],palette[3]]\n",
    "        data_use = reliability_ALL\n",
    "    else:\n",
    "        use_pal = [palette[1],palette[3],palette[4]]\n",
    "        data_use = reliability_ALL.drop(index=('RIPA'),level=1)\n",
    "        data_use = data_use.drop(index=('FRIA'),level=1)\n",
    "    ax_sel = ax1.flatten()[i]\n",
    "    #\n",
    "    ax_sel.plot([0,118.5],[0,118.5],linewidth=3,color='xkcd:black')\n",
    "    sns.scatterplot(data=data_use.xs(basin_sel).reset_index().sort_values('Model'),x='Predicted Pct',y='Observed Pct',hue='Model',\n",
    "                palette=use_pal,ax=ax_sel,s=150,alpha=0.9)\n",
    "    sns.lineplot(data=data_use.xs(basin_sel).reset_index().sort_values('Model'),x='Predicted Pct',y='Observed Pct',\n",
    "            hue='Model',palette=use_pal,ax=ax_sel,linewidth=3,legend=False)\n",
    "    #\n",
    "    if (basin_sel == 'ATLANTIC') | (basin_sel == 'EAST_PACIFIC'):\n",
    "        sns.scatterplot(data=RF_RII_consensus.xs(basin_sel),x='Predicted Pct',y='Observed Pct',color='xkcd:magenta',\n",
    "                        ax=ax_sel,s=170,alpha=0.9,label='ML-CON')\n",
    "        sns.lineplot(data=RF_RII_consensus.xs(basin_sel).reset_index(),x='Predicted Pct',y='Observed Pct',\n",
    "             color='xkcd:magenta',ax=ax_sel,linewidth=3,legend=False)\n",
    "    #sns.scatterplot(data=foo,x='Predicted Pct',y='Observed Pct',hue='Model',\n",
    " #              palette=sns.set_palette(palette),ax=ax1,s=150,alpha=0.8)    \n",
    "    ax_sel.set_ylim([-0.5,111.5])\n",
    "    ax_sel.set_xlim([-0.5,111.5])\n",
    "    ax_sel.set_xticks(pct_range)\n",
    "    ax_sel.set_yticks(np.arange(0,101,10))\n",
    "    ax_sel.tick_params(axis='y',labelsize=17)\n",
    "    ax_sel.tick_params(axis='x',labelsize=17)\n",
    "    ax_sel.legend(fontsize=15,loc='lower right')\n",
    "    ax_sel.set_xlabel('Predicted RI Probability',fontsize=20)\n",
    "    ax_sel.set_ylabel('Observed RI Probability',fontsize=20)\n",
    "    plt_nums = reliability_ALL.xs(basin_sel).sort_values(['Predicted Pct']).reset_index().set_index(['Predicted Pct'])\n",
    "    ax_sel.grid()\n",
    "    ax_sel.set_title('{lett} {basin}'.format(lett=lett[i],basin=basin_sel),fontsize=30)\n",
    "# \n",
    "    totals = reliability_ALL.xs(basin_sel).reset_index().sort_values('Predicted Pct').set_index(['Model','Predicted Pct'])\n",
    "    models_list = reliability_ALL.reset_index()['Model'].unique().tolist()\n",
    "    models_count = data_use.xs(basin_sel).reset_index()['Model'].unique()\n",
    "    for i in models_count:#,'saga']:\n",
    "        mod_sel = totals.xs(i)\n",
    "        for i_pct in pct_range:\n",
    "            if i_pct in mod_sel.index:\n",
    "                imod = mod_sel.xs(i_pct)['Observed No Total'].astype(int)\n",
    "            else:\n",
    "                imod = 0\n",
    "            if i == 'Random Forest':\n",
    "                yval = (101+7)\n",
    "                i_color = palette[3]\n",
    "            elif i == 'RIPA':\n",
    "                yval = 101+4\n",
    "                i_color = palette[2]\n",
    "            elif i == 'FRIA':\n",
    "                yval = 101+1\n",
    "                i_color = palette[0]\n",
    "            elif i == 'OP-CON':\n",
    "                yval = 101+4\n",
    "                i_color = palette[1]\n",
    "            elif i == 'SHIPS-RII':\n",
    "                yval = 101+1\n",
    "                i_color = palette[4]\n",
    "            #elif i == 'saga':\n",
    "               # yval = (102+5 if i_pct < 90 else 91 -6)\n",
    "               # i_color = use_pal[2]\n",
    "            #elif i == 'RIOC':\n",
    "             #   yval = (97+5 if i_pct < 90 else 91 -6)\n",
    "              #  i_color = sns.color_palette()[3]\n",
    "            #elif i == 'RIOD':\n",
    "             #   yval = (89+5 if i_pct < 90 else 91 -6)\n",
    "              #  i_color = sns.color_palette()[4]\n",
    "            #\n",
    "            ax_sel.text((i_pct-4 if i_pct == 5 else i_pct -2),yval,imod,color=i_color,fontsize=17,weight='semibold')\n",
    "    \n",
    "fig1.suptitle('Observed vs Predicted RI Probability, 2019-2021'.format(basin_sel=basin_sel),fontsize=42,y=1.01)\n",
    "fig1.tight_layout()\n",
    "fig1.savefig('Figures/reliability_ML_models_ALL_2019_2021_ALL_BASINS.{fig_format}'.format(basin_sel=basin_sel,\n",
    "                                                                                          fig_format=fig_format),\n",
    "                format=fig_format,bbox_inches='tight',dpi=350)    \n",
    "    "
   ]
  },
  {
   "cell_type": "code",
   "execution_count": null,
   "id": "6f4cbcfd",
   "metadata": {},
   "outputs": [],
   "source": [
    "use_pal"
   ]
  },
  {
   "cell_type": "code",
   "execution_count": null,
   "id": "b26e1234",
   "metadata": {},
   "outputs": [],
   "source": [
    "reliability_ALL.xs('ATLANTIC').reset_index()['Model'].unique()"
   ]
  },
  {
   "cell_type": "code",
   "execution_count": null,
   "id": "fecc2fb9",
   "metadata": {},
   "outputs": [],
   "source": [
    "edeck_ALL.groupby(['ATCF BASIN','Tech']).count().xs('EP')"
   ]
  },
  {
   "cell_type": "code",
   "execution_count": null,
   "id": "233f41b1",
   "metadata": {},
   "outputs": [],
   "source": [
    "reliability_ALL.xs(('EAST_PACIFIC','SHIPS-RII')).sort_values(by='Predicted Pct')"
   ]
  },
  {
   "cell_type": "code",
   "execution_count": null,
   "id": "fcda0a16",
   "metadata": {},
   "outputs": [],
   "source": [
    "reliability_ALL.xs(('ATLANTIC','SHIPS-RII')).sort_values(by='Predicted Pct')"
   ]
  },
  {
   "cell_type": "code",
   "execution_count": null,
   "id": "fb531afd",
   "metadata": {},
   "outputs": [],
   "source": []
  }
 ],
 "metadata": {
  "kernelspec": {
   "display_name": "SHIPS",
   "language": "python",
   "name": "ships"
  },
  "language_info": {
   "codemirror_mode": {
    "name": "ipython",
    "version": 3
   },
   "file_extension": ".py",
   "mimetype": "text/x-python",
   "name": "python",
   "nbconvert_exporter": "python",
   "pygments_lexer": "ipython3",
   "version": "3.9.5"
  }
 },
 "nbformat": 4,
 "nbformat_minor": 5
}
