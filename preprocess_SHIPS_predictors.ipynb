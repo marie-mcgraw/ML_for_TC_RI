{
 "cells": [
  {
   "cell_type": "code",
   "execution_count": 1,
   "id": "9b6cd140",
   "metadata": {},
   "outputs": [],
   "source": [
    "import numpy as np\n",
    "import pandas as pd\n",
    "#import xarray as xr\n",
    "import matplotlib.pyplot as plt\n",
    "import sys\n",
    "import os\n",
    "from utils import SHIPS_preprocess\n",
    "import json"
   ]
  },
  {
   "cell_type": "markdown",
   "id": "5bca6674",
   "metadata": {},
   "source": [
    "Load scale factors for SHIPS data.  We need to rescale some of the SHIPS predictors as many of them have been scaled up to make their values ints instead of floats. "
   ]
  },
  {
   "cell_type": "code",
   "execution_count": 2,
   "id": "4faaab40",
   "metadata": {
    "scrolled": true
   },
   "outputs": [
    {
     "data": {
      "text/plain": [
       "{'TIME': [1, 'hr', 'time rel to current case'],\n",
       " 'VMAX': [1, 'kt', 'max surf wind'],\n",
       " 'MSLP': [1, 'hPa', 'min slp'],\n",
       " 'TYPE': [1, 'n/a', 'storm type'],\n",
       " 'HIST': [1, 'n/a', 'storm hist'],\n",
       " 'DELV': [1, 'kt', 'intensity change (rel to 0)'],\n",
       " 'INCV': [1, 'kt', '6 hr intensity change'],\n",
       " 'LAT': [10, 'deg W', 'storm lat'],\n",
       " 'LON': [10, 'deg N', 'storm lon'],\n",
       " 'CSST': [10, 'C', 'clim. SST'],\n",
       " 'CD20': [1, 'm', 'clim. depth 20C isotherm'],\n",
       " 'CD26': [1, 'm', 'clim. depth 26C isotherm'],\n",
       " 'COHC': [1, 'kJ-cm^-2', 'clim. ocean heat content'],\n",
       " 'DTL': [1, 'km', 'dist. nearest land'],\n",
       " 'OAGE': [10, 'hr', 'ocean age'],\n",
       " 'NAGE': [10, 'hr', 'normalized ocean age'],\n",
       " 'RSST': [10, 'C', 'Reynolds SST'],\n",
       " 'DSST': [10, 'C', 'daily Reynolds SST'],\n",
       " 'DSTA': [10, 'C', 'daily av. Renolds SST'],\n",
       " 'PHCN': [1, 'kJ-cm^-2', 'est. ocean heat content'],\n",
       " 'U200': [10, 'kt', '200 hPa U, r=200-800km'],\n",
       " 'U20C': [10, 'kt', '200 hPa U, r=0-500km'],\n",
       " 'V20C': [10, 'kt', '200 hPa V, r=0-500km'],\n",
       " 'E000': [10, 'K', '1000 hPa theta_e, r=200-800km'],\n",
       " 'EPOS': [10, 'C', 'pos. theta_e diff, r=200-800km'],\n",
       " 'ENEG': [10, 'C', 'neg. theta_e diff (- not inc.), r=200-800km'],\n",
       " 'EPSS': [10, 'C', 'EPOS, but using theta_e_sat'],\n",
       " 'ENSS': [10, 'C', 'ENEG, but using theta_e_sat'],\n",
       " 'RHLO': [1, '%', '850-700 hPa relative humidity, r=200-800km'],\n",
       " 'RHMD': [1, '%', '700-500 hPa relative humidity, r=200-800km'],\n",
       " 'RHHI': [1, '%', '500-300 hPa relative humidity, r=200-800km'],\n",
       " 'PSLV': [1, 'hPa', 'steering layer information (SEE SHIPS DOC)'],\n",
       " 'Z850': [10000000, 's^-1', '850 hPa vorticity'],\n",
       " 'D200': [10000000, 's^-1', '200 hPa divergence'],\n",
       " 'REFC': [1, 'm/(s-day)', 'rel. eddy mom. flux conv., r=100-600 km'],\n",
       " 'PEFC': [1, 'm/(s-day)', 'planetary eddy mom. flux conv., r=100-600 km'],\n",
       " 'T000': [10, 'C', '1000 hPa temperature, r=200-800 km'],\n",
       " 'R000': [1, '%', '1000 hPa relative humidity, r=200-800 km'],\n",
       " 'Z000': [1, 'm', '1000 hPa height devation from stand. atmosphere'],\n",
       " 'TLAT': [10, 'N', 'lat. of 850 hPa vortex center'],\n",
       " 'TLON': [10, 'W', 'lon. of 850 hPa vortex center'],\n",
       " 'TWAC': [10, 'm/s', '0-600 km symmetric tangential wind at 850 hPa'],\n",
       " 'TWXC': [10, 'm/s', 'max 850 hPa symmetric tangential wind'],\n",
       " 'G150': [10, 'C', 'max 150 hPa temp perturbation, r=200-800 km'],\n",
       " 'G200': [10, 'C', 'max 200 hPa temp perturbation, r=200-800 km'],\n",
       " 'G250': [10, 'C', 'max 250 hPa temp perturbation, r=200-800 km'],\n",
       " 'V000': [10, 'm/s', 'azimuthally av. tangential wind at r=500k'],\n",
       " 'V850': [10, 'm/s', '850 hPa azimuthally av. tangential wind at r=500k'],\n",
       " 'V500': [10, 'm/s', '500 hPa azimuthally av. tangential wind at r=500k'],\n",
       " 'V300': [10, 'm/s', '300 hPa azimuthally av. tangential wind at r=500k'],\n",
       " 'TGRD': [10000000,\n",
       "  'C/m',\n",
       "  'magnitude of temp. gradient fro 850-700 hPa, r=0-500 km'],\n",
       " 'TADV': [1000000,\n",
       "  'C/m',\n",
       "  'magnitude of temp. advection fro 850-700 hPa, r=0-500 km'],\n",
       " 'PENC': [10,\n",
       "  'hPa-1000',\n",
       "  'azimuthally averaged surface pressure at outer vortex'],\n",
       " 'SHDC': [10, 'kt', '850-200 hPa shear magnitude, vortex removed, r=0-500km'],\n",
       " 'SDDC': [1, 'deg', 'heading of SHDC shear vector (westerly = 90 deg)'],\n",
       " 'SHGC': [10,\n",
       "  'kt',\n",
       "  'generalized 850-200 hPa shear magnitude, vortex removed, r=0-500km'],\n",
       " 'DIVC': [10000000, 's^-1', '200 hPa divergence centered at 850 hPa vortex'],\n",
       " 'T150': [10, 'C', '150 hPa temperature, r=200-800 km'],\n",
       " 'T200': [10, 'C', '200 hPa temperature, r=200-800 km'],\n",
       " 'T250': [10, 'C', '250 hPa temperature, r=200-800 km'],\n",
       " 'SHRD': [10, 'kt', '850-200 hPa shear magnitude, r=200-800km'],\n",
       " 'SHTD': [1, 'deg', 'heading of SHRD shear vector (westerly = 90 deg)'],\n",
       " 'SHRS': [10, 'kt', '850-500 hPa shear magnitude'],\n",
       " 'SHTS': [1, 'deg', 'heading of SHRS shear vector (westerly = 90 deg)'],\n",
       " 'SHRG': [10, 'kt', 'generalized 850-200 hPa shear magnitude, r=200-800km'],\n",
       " 'PENV': [10, 'hPa-1000', '200-800 km av surface pressure'],\n",
       " 'VMPI': [1, 'kt', 'maximum potential intensity (from Emmanuel)'],\n",
       " 'VVAV': [100, 'm/s', 'average 0-15 km vertical velocity lifted from surface'],\n",
       " 'VMFX': [100, 'm/s', 'VVAV, but with density-weighted vert. average'],\n",
       " 'VVAC': [100,\n",
       "  'm/s',\n",
       "  'VVAV, with soundings from 0-500km and without GFS vortex'],\n",
       " 'HE07': [10,\n",
       "  'm^2/s^2',\n",
       "  'storm motion relative helicity, 1000-700 hPa, r=200-800km'],\n",
       " 'HE05': [10,\n",
       "  'm^2/s^2',\n",
       "  'storm motion relative helicity, 1000-500 hPa, r=200-800km'],\n",
       " 'O500': [1, 'hPa/day', 'pressure vertical velocity at 500 hPa'],\n",
       " 'O700': [1, 'hPa/day', 'pressure vertical velocity at 700 hPa'],\n",
       " 'CFLX': [1, 'n/a', 'dry air predictor (related to RH differences)'],\n",
       " 'MTPW': [1, 'mm', 'total precipitable water. SEE SHIPS DOC'],\n",
       " 'PW01': [1, 'mm', 'total precipitable water. SEE SHIPS DOC'],\n",
       " 'PW02': [1, 'mm', 'total precipitable water. SEE SHIPS DOC'],\n",
       " 'PW03': [1, 'mm', 'total precipitable water. SEE SHIPS DOC'],\n",
       " 'PW04': [1, 'mm', 'total precipitable water. SEE SHIPS DOC'],\n",
       " 'PW05': [1, 'mm', 'total precipitable water. SEE SHIPS DOC'],\n",
       " 'PW06': [1, 'mm', 'total precipitable water. SEE SHIPS DOC'],\n",
       " 'PW07': [1, 'mm', 'total precipitable water. SEE SHIPS DOC'],\n",
       " 'PW08': [1, 'mm', 'total precipitable water. SEE SHIPS DOC'],\n",
       " 'PW09': [1, 'mm', 'total precipitable water. SEE SHIPS DOC'],\n",
       " 'PW10': [1, 'mm', 'total precipitable water. SEE SHIPS DOC'],\n",
       " 'PW11': [1, 'mm', 'total precipitable water. SEE SHIPS DOC'],\n",
       " 'PW12': [1, 'mm', 'total precipitable water. SEE SHIPS DOC'],\n",
       " 'PW13': [1, 'mm', 'total precipitable water. SEE SHIPS DOC'],\n",
       " 'PW14': [1, 'mm', 'total precipitable water. SEE SHIPS DOC'],\n",
       " 'PW15': [1, 'mm', 'total precipitable water. SEE SHIPS DOC'],\n",
       " 'PW16': [1, 'mm', 'total precipitable water. SEE SHIPS DOC'],\n",
       " 'PW17': [1, 'mm', 'total precipitable water. SEE SHIPS DOC'],\n",
       " 'PW18': [1, 'mm', 'total precipitable water. SEE SHIPS DOC'],\n",
       " 'PW19': [1, 'mm', 'total precipitable water. SEE SHIPS DOC'],\n",
       " 'PW20': [1, 'mm', 'total precipitable water. SEE SHIPS DOC'],\n",
       " 'PW21': [1, 'mm', 'total precipitable water. SEE SHIPS DOC'],\n",
       " 'IRXX': [1, 'n/a', 'IR predictors from GOES. SEE SHIPS DOC'],\n",
       " 'IR00': [1, 'n/a', 'IR predictors from GOES. SEE SHIPS DOC'],\n",
       " 'IRM1': [1, 'n/a', 'IR predictors from GOES. SEE SHIPS DOC'],\n",
       " 'IRM3': [1, 'n/a', 'IR predictors from GOES. SEE SHIPS DOC'],\n",
       " 'PC00': [1,\n",
       "  'n/a',\n",
       "  'Principal components of IR predictors from GOES.  SEE SHIPS DOC'],\n",
       " 'PCM1': [1,\n",
       "  'n/a',\n",
       "  'Principal components of IR predictors from GOES.  SEE SHIPS DOC'],\n",
       " 'PCM3': [1,\n",
       "  'n/a',\n",
       "  'Principal components of IR predictors from GOES.  SEE SHIPS DOC'],\n",
       " 'RD20': [1, 'm', 'Ocean depth of 20C isotherm from satellite'],\n",
       " 'RD26': [1, 'm', 'Ocean depth of 26C isotherm from satellite'],\n",
       " 'RHCN': [1, 'kJ-cm^-2', 'Ocean heat content from satellite'],\n",
       " 'NSST': [10, 'C', 'SST from NCODA'],\n",
       " 'NTMX': [10, 'C', 'max ocean temp in NCODA vertical profile'],\n",
       " 'NDMX': [1, 'm', 'depth of max ocean temp in NCODA'],\n",
       " 'NDML': [1, 'm', 'depth of mixed layer'],\n",
       " 'ND30': [1, 'm', 'depth of 30 deg isotherm'],\n",
       " 'ND28': [1, 'm', 'depth of 28 deg isotherm'],\n",
       " 'ND26': [1, 'm', 'depth of 26 deg isotherm'],\n",
       " 'ND24': [1, 'm', 'depth of 24 deg isotherm'],\n",
       " 'ND22': [1, 'm', 'depth of 22 deg isotherm'],\n",
       " 'ND20': [1, 'm', 'depth of 20 deg isotherm'],\n",
       " 'ND18': [1, 'm', 'depth of 18 deg isotherm'],\n",
       " 'ND16': [1, 'm', 'depth of 16 deg isotherm'],\n",
       " 'NDFR': [1, 'm', 'depth of lowest model level in NCODA'],\n",
       " 'NTFR': [10, 'C', 'ocean T at lowest model level in NCODA'],\n",
       " 'NOHC': [1,\n",
       "  'J/(kg-C)',\n",
       "  'ocean heat content from NCODA relative to 26 C isotherm'],\n",
       " 'NO20': [1,\n",
       "  'J/(kg-C)',\n",
       "  'ocean heat content from NCODA relative to 20 C isotherm'],\n",
       " 'XNST': [10, 'C', 'climatological SST from NCODA'],\n",
       " 'XOHC': [1,\n",
       "  'J/(kg-C)',\n",
       "  'climatological ocean heat content from NCODA relative to 26 C isotherm'],\n",
       " 'XDFR': [1, 'm', 'climatological depth of lowest model level in NCODA'],\n",
       " 'XTMX': [10, 'C', 'climatological max ocean temp in NCODA vertical profile'],\n",
       " 'XDTX': [1, 'm', 'climatological depth of max ocean temp in NCODA'],\n",
       " 'XDML': [1, 'm', 'climatological depth of mixed layer'],\n",
       " 'XD30': [1, 'm', 'climatological depth of 30 deg isotherm'],\n",
       " 'XD28': [1, 'm', 'climatological depth of 28 deg isotherm'],\n",
       " 'XD26': [1, 'm', 'climatological depth of 26 deg isotherm'],\n",
       " 'XD24': [1, 'm', 'climatological depth of 24 deg isotherm'],\n",
       " 'XD22': [1, 'm', 'climatological depth of 22 deg isotherm'],\n",
       " 'XD20': [1, 'm', 'climatological depth of 20 deg isotherm'],\n",
       " 'XD18': [1, 'm', 'climatological depth of 18 deg isotherm'],\n",
       " 'XD16': [1, 'm', 'climatological depth of 16 deg isotherm'],\n",
       " 'XDST': [10, 'C', 'climatological daily Reynolds SST']}"
      ]
     },
     "execution_count": 2,
     "metadata": {},
     "output_type": "execute_result"
    }
   ],
   "source": [
    "with open('SHIPS_factors.txt') as f:\n",
    "    SHIPS_factors = f.read()\n",
    "SHIPS_js = json.loads(SHIPS_factors)\n",
    "SHIPS_js"
   ]
  },
  {
   "cell_type": "markdown",
   "id": "dff8ef8f",
   "metadata": {},
   "source": [
    "We'll processs each basin separately.  So select a basin (`ATLANTIC`, `EAST_PACIFIC`, `WEST_PACIFIC`, or `SOUTHERN_HEM`)"
   ]
  },
  {
   "cell_type": "code",
   "execution_count": 3,
   "id": "6ad258c2",
   "metadata": {
    "scrolled": true
   },
   "outputs": [],
   "source": [
    "BASIN = 'SOUTHERN_HEM'\n",
    "#\n",
    "fname_load = 'DATA/processed/SHIPS_predictors_full_{reg}.csv'.format(reg=BASIN)\n",
    "SHIPS_load = pd.read_csv(fname_load)\n",
    "SHIPS_load = SHIPS_load.drop(columns='Unnamed: 0')"
   ]
  },
  {
   "cell_type": "markdown",
   "id": "f8c64ebe-3823-4d4c-9f7f-9a521347f5ac",
   "metadata": {},
   "source": [
    "Double check to make sure our mask is working"
   ]
  },
  {
   "cell_type": "code",
   "execution_count": 5,
   "id": "57730c4d",
   "metadata": {},
   "outputs": [
    {
     "data": {
      "text/plain": [
       "18         NaN\n",
       "19         NaN\n",
       "20         NaN\n",
       "21         NaN\n",
       "22         NaN\n",
       "          ... \n",
       "361348    22.0\n",
       "361349    30.0\n",
       "361350    53.0\n",
       "361351    55.0\n",
       "361352     NaN\n",
       "Name: IR00, Length: 361335, dtype: float64"
      ]
     },
     "execution_count": 5,
     "metadata": {},
     "output_type": "execute_result"
    }
   ],
   "source": [
    "check_IR00 = SHIPS_load['IR00'].loc[18:]\n",
    "IR00_mask = check_IR00.mask(boop==9999.0)\n",
    "IR00_mask"
   ]
  },
  {
   "cell_type": "markdown",
   "id": "fe0bfb66",
   "metadata": {},
   "source": [
    "Now, we rescale the SHIPS predictors.  We take the scaling factors from the `json` file we created earlier and divide a given predictor by its scaling factor (assuming it has one; not all predictors have scaling factors). "
   ]
  },
  {
   "cell_type": "code",
   "execution_count": 6,
   "id": "56d6ab3d",
   "metadata": {
    "scrolled": true
   },
   "outputs": [
    {
     "name": "stdout",
     "output_type": "stream",
     "text": [
      "feature is  ATCFID\n",
      "nay\n",
      "feature is  CASE\n",
      "nay\n",
      "feature is  NAME\n",
      "nay\n",
      "feature is  DATE_full\n",
      "nay\n",
      "feature is  TIME\n",
      "yay\n",
      "divide by  1\n",
      "feature is  VMAX\n",
      "yay\n",
      "divide by  1\n",
      "feature is  MSLP\n",
      "yay\n",
      "divide by  1\n",
      "feature is  TYPE\n",
      "yay\n",
      "divide by  1\n",
      "feature is  HIST\n",
      "yay\n",
      "divide by  1\n",
      "feature is  DELV\n",
      "yay\n",
      "divide by  1\n",
      "feature is  INCV\n",
      "yay\n",
      "divide by  1\n",
      "feature is  LAT\n",
      "yay\n",
      "divide by  10\n",
      "feature is  LON\n",
      "yay\n",
      "divide by  10\n",
      "feature is  CSST\n",
      "yay\n",
      "divide by  10\n",
      "feature is  CD20\n",
      "yay\n",
      "divide by  1\n",
      "feature is  CD26\n",
      "yay\n",
      "divide by  1\n",
      "feature is  COHC\n",
      "yay\n",
      "divide by  1\n",
      "feature is  DTL\n",
      "yay\n",
      "divide by  1\n",
      "feature is  OAGE\n",
      "yay\n",
      "divide by  10\n",
      "feature is  NAGE\n",
      "yay\n",
      "divide by  10\n",
      "feature is  RSST\n",
      "yay\n",
      "divide by  10\n",
      "feature is  RSST_AGE\n",
      "nay\n",
      "feature is  PHCN\n",
      "yay\n",
      "divide by  1\n",
      "feature is  U200\n",
      "yay\n",
      "divide by  10\n",
      "feature is  U20C\n",
      "yay\n",
      "divide by  10\n",
      "feature is  V20C\n",
      "yay\n",
      "divide by  10\n",
      "feature is  E000\n",
      "yay\n",
      "divide by  10\n",
      "feature is  EPOS\n",
      "yay\n",
      "divide by  10\n",
      "feature is  ENEG\n",
      "yay\n",
      "divide by  10\n",
      "feature is  EPSS\n",
      "yay\n",
      "divide by  10\n",
      "feature is  ENSS\n",
      "yay\n",
      "divide by  10\n",
      "feature is  RHLO\n",
      "yay\n",
      "divide by  1\n",
      "feature is  RHMD\n",
      "yay\n",
      "divide by  1\n",
      "feature is  RHHI\n",
      "yay\n",
      "divide by  1\n",
      "feature is  PSLV\n",
      "yay\n",
      "divide by  1\n",
      "feature is  Z850\n",
      "yay\n",
      "divide by  10000000\n",
      "feature is  D200\n",
      "yay\n",
      "divide by  10000000\n",
      "feature is  REFC\n",
      "yay\n",
      "divide by  1\n",
      "feature is  PEFC\n",
      "yay\n",
      "divide by  1\n",
      "feature is  T000\n",
      "yay\n",
      "divide by  10\n",
      "feature is  R000\n",
      "yay\n",
      "divide by  1\n",
      "feature is  Z000\n",
      "yay\n",
      "divide by  1\n",
      "feature is  TLAT\n",
      "yay\n",
      "divide by  10\n",
      "feature is  TLON\n",
      "yay\n",
      "divide by  10\n",
      "feature is  TWAC\n",
      "yay\n",
      "divide by  10\n",
      "feature is  TWXC\n",
      "yay\n",
      "divide by  10\n",
      "feature is  G150\n",
      "yay\n",
      "divide by  10\n",
      "feature is  G200\n",
      "yay\n",
      "divide by  10\n",
      "feature is  G250\n",
      "yay\n",
      "divide by  10\n",
      "feature is  V000\n",
      "yay\n",
      "divide by  10\n",
      "feature is  V850\n",
      "yay\n",
      "divide by  10\n",
      "feature is  V500\n",
      "yay\n",
      "divide by  10\n",
      "feature is  V300\n",
      "yay\n",
      "divide by  10\n",
      "feature is  TGRD\n",
      "yay\n",
      "divide by  10000000\n",
      "feature is  TADV\n",
      "yay\n",
      "divide by  1000000\n",
      "feature is  PENC\n",
      "yay\n",
      "divide by  10\n",
      "feature is  SHDC\n",
      "yay\n",
      "divide by  10\n",
      "feature is  SDDC\n",
      "yay\n",
      "divide by  1\n",
      "feature is  SHGC\n",
      "yay\n",
      "divide by  10\n",
      "feature is  DIVC\n",
      "yay\n",
      "divide by  10000000\n",
      "feature is  T150\n",
      "yay\n",
      "divide by  10\n",
      "feature is  T200\n",
      "yay\n",
      "divide by  10\n",
      "feature is  T250\n",
      "yay\n",
      "divide by  10\n",
      "feature is  SHRD\n",
      "yay\n",
      "divide by  10\n",
      "feature is  SHTD\n",
      "yay\n",
      "divide by  1\n",
      "feature is  SHRS\n",
      "yay\n",
      "divide by  10\n",
      "feature is  SHTS\n",
      "yay\n",
      "divide by  1\n",
      "feature is  SHRG\n",
      "yay\n",
      "divide by  10\n",
      "feature is  PENV\n",
      "yay\n",
      "divide by  10\n",
      "feature is  VMPI\n",
      "yay\n",
      "divide by  1\n",
      "feature is  VVAV\n",
      "yay\n",
      "divide by  100\n",
      "feature is  VMFX\n",
      "yay\n",
      "divide by  100\n",
      "feature is  VVAC\n",
      "yay\n",
      "divide by  100\n",
      "feature is  HE07\n",
      "yay\n",
      "divide by  10\n",
      "feature is  HE05\n",
      "yay\n",
      "divide by  10\n",
      "feature is  O500\n",
      "yay\n",
      "divide by  1\n",
      "feature is  O700\n",
      "yay\n",
      "divide by  1\n",
      "feature is  CFLX\n",
      "yay\n",
      "divide by  1\n",
      "feature is  MTPW\n",
      "yay\n",
      "divide by  1\n",
      "feature is  IRXX\n",
      "yay\n",
      "divide by  1\n",
      "feature is  IR00\n",
      "yay\n",
      "divide by  1\n",
      "feature is  IRM1\n",
      "yay\n",
      "divide by  1\n",
      "feature is  IRM3\n",
      "yay\n",
      "divide by  1\n",
      "feature is  PC00\n",
      "yay\n",
      "divide by  1\n",
      "feature is  PCM1\n",
      "yay\n",
      "divide by  1\n",
      "feature is  PCM3\n",
      "yay\n",
      "divide by  1\n",
      "feature is  RD20\n",
      "yay\n",
      "divide by  1\n",
      "feature is  RD26\n",
      "yay\n",
      "divide by  1\n",
      "feature is  RHCN\n",
      "yay\n",
      "divide by  1\n",
      "feature is  RHCN_AGE\n",
      "nay\n"
     ]
    }
   ],
   "source": [
    "col_names = SHIPS_load.columns\n",
    "for i_col in col_names:\n",
    "    print('feature is ',i_col)\n",
    "    if i_col in SHIPS_js.keys():\n",
    "        print(\"yay\")\n",
    "        factor = SHIPS_js[i_col][0]\n",
    "        print('divide by ',factor)\n",
    "        SHIPS_load[i_col] = SHIPS_load[i_col]/factor\n",
    "    else:\n",
    "        print(\"nay\")"
   ]
  },
  {
   "cell_type": "markdown",
   "id": "6e0a694f",
   "metadata": {},
   "source": [
    "We have a few options for dealing with land:\n",
    "1.  <code>SIMPLE_MASK</code>: Mask out all cases where <code>DTL</code> at <code>TIME = 0</code> or <code>TIME = max_time</code> is less than some <code>DTL_thresh</code> (normally, <code>DTL_thresh = 100 km</code>)\n",
    "2.  <code>SIMPLE_w_INT</code>: Apply mask if <code>DTL</code> for a given case is less than <code>DTL_thresh</code> at any point between <code>TIME = 0</code> and <code>TIME = max_time</code>. \n",
    "3.  <code>SCALAR_MASK</code>: For all cases where <code>DTL</code> at <code>TIME = 0</code> or <code>TIME = max_time</code> is less than some <code>DTL_thresh</code>, multiply the <code>DTL</code> by a scaling factor of 0.1 and use this <code>DTL_scalar</code> to reduce all SHIPS predictors accordingly. If <code>DTL</code> <= 0, scaling factor is 0. \n",
    "4.  <code>SCALAR_MASK_w_INT</code>: As in 3, but apply if <code>DTL <= DTL_thresh</code> at any point between <code>TIME = 0</code> and <code>TIME = max_time</code>. \n",
    "5.  <code>no_mask</code>: do not mask out over land.\n",
    "    \n",
    "<i>Note to self</i>:  Types 1, 2, and 5 have been implemented; 3 and 4 are future work"
   ]
  },
  {
   "cell_type": "markdown",
   "id": "7e64767e",
   "metadata": {},
   "source": [
    "Apply desired mask (note: this step can take a few minutes)"
   ]
  },
  {
   "cell_type": "code",
   "execution_count": 7,
   "id": "aeac79e2",
   "metadata": {},
   "outputs": [
    {
     "name": "stdout",
     "output_type": "stream",
     "text": [
      "applying mask\n"
     ]
    }
   ],
   "source": [
    "mask_TYPE = 'SIMPLE_MASK'\n",
    "to_IND = ['ATCFID','CASE','NAME','DATE_full','TIME']\n",
    "SHIPS_mask = SHIPS_preprocess.apply_land_mask(SHIPS_load,mask_TYPE,to_IND)\n",
    "# SHIPS_mask.set_index(['ATCFID','TIME']).xs(('AL012020',0))"
   ]
  },
  {
   "cell_type": "markdown",
   "id": "6dadd445",
   "metadata": {},
   "source": [
    "Select specific years and forecast hours to include.  Default settings are:\n",
    "* <b>years</b>: 2005-most recent year with full SHIPS data (usually `current_year - 1`, unless it's very early in the year and the best-tracks haven't been made available).  \n",
    "* <b>hours</b>: -12 hours to 24 hours (could go out to 48 or 72 if desired)"
   ]
  },
  {
   "cell_type": "code",
   "execution_count": 8,
   "id": "9a108a6b",
   "metadata": {},
   "outputs": [],
   "source": [
    "YR_first = 2005\n",
    "YR_last = 2022\n",
    "HR_first = -12\n",
    "HR_last = 24\n",
    "#\n",
    "YEARS_use = np.arange(YR_first,YR_last,1)\n",
    "FORE_use = np.arange(HR_first,HR_last+1,6)"
   ]
  },
  {
   "cell_type": "markdown",
   "id": "80df4e01",
   "metadata": {},
   "source": [
    "Trim to desired years.  Hold off on trimming hours for now; the way the IR predictors are arranged means we need forecast hours past 24. "
   ]
  },
  {
   "cell_type": "code",
   "execution_count": 9,
   "id": "599a9411",
   "metadata": {},
   "outputs": [],
   "source": [
    "SHIPS_mask = SHIPS_mask.reset_index()\n",
    "SHIPS_trim_yrs = SHIPS_mask[pd.to_datetime(SHIPS_mask['DATE_full']).dt.year.isin(YEARS_use)]"
   ]
  },
  {
   "cell_type": "markdown",
   "id": "2963bfcf",
   "metadata": {},
   "source": [
    "Identify key predictors we want to use.  We'll differentiate between dynamical predictors and IR predictors because we process them a little differently.  Note that <code>CASE</code>, <code>NAME</code>, <code>DATE_full</code>, and <code>TIME</code> are included in both datasets for identification purposes.\n",
    "\n",
    "For now, we use the following dynamical predictors:\n",
    "* <code>SHRG</code>: generalized midlevel shear [kt$*$10]\n",
    "* <code>D200</code>: upper level divergence [s$^{-1} \\cdot 10^7$]\n",
    "* <code>Z850</code>: lower level vorticity [s$^{-1} \\cdot 10^7$]\n",
    "* <code>VMAX</code>: maximum wind speed [kt] (use <code>VMAX</code> at time = 0)\n",
    "* <code>VMPI</code>: maximum potential intensity [kt] (calculated based on <code>VMAX$_{t=0}$</code>\n",
    "* <code>DELV</code>: change in intensity over previous 12 hours [kt] (use <code>DELV</code> from time = -12-0)\n",
    "* <code>RHMD</code>: mid-level relative humidity [%]\n",
    "* <code>NSST / RSST </code> (depends on <code>BASIN</code>): sea surface temperature [C*10]\n",
    "* <code>NOHC / RHCN </code> (depends on <code>BASIN</code>): ocean heat content [J/kg-C if NOHC, kJ/cm$^2$ if RHCN]\n",
    "\n",
    "If desired, we calculate an additional predictor, <code>POT</code> (potential intensity), by subtracting actual maximum winds from maximum potential intensity,\n",
    "$$ POT_{time=i} = VMPI_{time=i} - VMAX_{time=0}$$\n",
    "\n",
    "Otherwise, we'll use $VMPI$ and $VMAX_{time=0}$ as separate predictors, along with SST."
   ]
  },
  {
   "cell_type": "code",
   "execution_count": 10,
   "id": "9e6493f5",
   "metadata": {},
   "outputs": [],
   "source": [
    "if (BASIN == 'ATLANTIC') | (BASIN=='EAST_PACIFIC') | (BASIN == 'CENTRAL_PACIFIC'):\n",
    "    SST_sel = 'NSST'\n",
    "    OHC_sel = 'NOHC'\n",
    "else:\n",
    "    SST_sel = 'RSST'\n",
    "    OHC_sel = 'RHCN'\n",
    "PREDICTORS_sel = ['ATCFID','CASE','NAME','DATE_full','DTL','TIME','TYPE','SHRG','D200','Z850','VMAX','VMPI','DELV','RHMD',SST_sel,OHC_sel]\n",
    "predictand_name = 'VMAX'\n",
    "is_INTERP = True\n",
    "calc_POT = True"
   ]
  },
  {
   "cell_type": "markdown",
   "id": "1db03db5",
   "metadata": {},
   "source": [
    "So now we select desired dynamical predictors.  We will keep only storm type 1 (for tropical cyclones), mask missing values (demarcated by 9999s), and calculate <code>POT</code>.  Finally, if we select <code>is_interp = True</code>, we'll linearly interpolate over missing values for our dynamic predictors. "
   ]
  },
  {
   "cell_type": "code",
   "execution_count": 11,
   "id": "c97e13dd",
   "metadata": {
    "scrolled": true
   },
   "outputs": [
    {
     "name": "stderr",
     "output_type": "stream",
     "text": [
      "/home/mmcgraw/miniconda3/envs/SHIPS/lib/python3.9/site-packages/pandas/core/indexing.py:1637: SettingWithCopyWarning: \n",
      "A value is trying to be set on a copy of a slice from a DataFrame\n",
      "\n",
      "See the caveats in the documentation: https://pandas.pydata.org/pandas-docs/stable/user_guide/indexing.html#returning-a-view-versus-a-copy\n",
      "  self._setitem_single_block(indexer, value, name)\n"
     ]
    },
    {
     "name": "stdout",
     "output_type": "stream",
     "text": [
      "interpolating over missing values\n"
     ]
    }
   ],
   "source": [
    "SHIPS_dyn_out = SHIPS_preprocess.create_SHIPS_predictors_dyn(SHIPS_trim_yrs,\n",
    "                            PREDICTORS_sel,predictand_name,is_INTERP,FORE_use,calc_POT)"
   ]
  },
  {
   "cell_type": "markdown",
   "id": "ca4e031e",
   "metadata": {},
   "source": [
    "Multiply Z850 by -1 if we are in the SH"
   ]
  },
  {
   "cell_type": "code",
   "execution_count": 12,
   "id": "1536f72d",
   "metadata": {},
   "outputs": [
    {
     "name": "stdout",
     "output_type": "stream",
     "text": [
      "multiply by -1 for SH\n",
      "before multiplying, Z850 mean is  9.257925256003923e-05\n",
      "after multiplying, Z850 mean is  -9.257925256003923e-05\n"
     ]
    }
   ],
   "source": [
    "if BASIN == 'SOUTHERN_HEM':\n",
    "    print('multiply by -1 for SH')\n",
    "    print('before multiplying, Z850 mean is ',SHIPS_dyn_out['Z850'].mean())\n",
    "    SHIPS_dyn_out['Z850'] = -1*SHIPS_dyn_out['Z850']\n",
    "    print('after multiplying, Z850 mean is ',SHIPS_dyn_out['Z850'].mean())\n",
    "    # SHIPS_dyn_out['D200'] = -1*SHIPS_dyn_out['D200']"
   ]
  },
  {
   "cell_type": "markdown",
   "id": "1cfd6e98",
   "metadata": {},
   "source": [
    "The IR predictors are derived from GOES data and are not actually time-dependent. They are calculated based on GOES data close to the time of each case.  <code>IR00</code> predictors are generally related to GOES Ch4 brightness temperatures averaged over some radial area (relative to the storm center).  <code>IRM1</code> and <code>IRM3</code> are the same as <code>IR00</code> but derived from satellite data taken 1.5 and 3 hours earlier, respectively, than <code>IR00</code>. If <code>IR00</code> is missing, we can fill it in with <code>IRM1</code>.  If <code>IRM1</code> is missing, we can use <code>IRM3</code>.  If all three are missing for a given case, we will use <code>NaN</code> values. \n",
    "\n",
    "The <code>PC00</code> predictors are principal components and related variables from IR imagery. Again, <code>PC00</code> is derived from satellite imagery and is not time-dependent. Regarding <code>PCM1</code> and <code>PCM3</code>, we will follow the same procedure as the <code>IRM1</code> and <code>IRM3</code>.  \n",
    "\n",
    "Ultimately, we're only going to use a few IR predictors.  Since they are not time-dependent, we'll populate the <code>time</code> dimension with the same values of <code>IR00</code>, for example.  The variables we are interested in for our actual predictions are:\n",
    "* <code>IR00</code> (and <code>IRM1/IRM3</code> as needed):\n",
    "    * Average GOES Ch4* brightness temperature from r=0-200 km [deg C * 10], stored at t = +6 hours\n",
    "    * Standard deviation of GOES Ch4 brightness temperature from r=0-200 km [deg C * 10], stored at t = +12 hours\n",
    "    * Percent area of GOES Ch4 brightness temperature < -50 C for r = 50-200 km [%], stored at t = +54 hours\n",
    "    * Storm size paramter, stored at t = +108 hours\n",
    "* <code>PC00</code> (and <code>PCM1/PCM3</code> as needed):\n",
    "    * First four principal components of IR imagery, stored at 0, +6, +12, and +18 hours, respectively\n",
    "    \n",
    "\n",
    "*note to self, Ch4 refers to Channel 4 in the old GOES.  What this actually refers to is the 10.3 um band, which is channel 13 on the current versions of GOES"
   ]
  },
  {
   "cell_type": "code",
   "execution_count": 13,
   "id": "b65a37de",
   "metadata": {},
   "outputs": [],
   "source": [
    "predictors_sel_IR = ['ATCFID','CASE','NAME','DATE_full','TIME','TYPE','IR00','IRM1','IRM3','PC00','PCM1','PCM3']\n",
    "# Identify time indices for desired IR variables (recall they are NOT time series)\n",
    "IR00_time_ind = [6,12,54,108]\n",
    "IR00_var_names = ['GOES Tb','s(GOES Tb)','pct < -50C','storm size']\n",
    "PC00_time_ind = [0,6,12,18]\n",
    "PC00_var_names = ['PC1','PC2','PC3','PC4']"
   ]
  },
  {
   "cell_type": "code",
   "execution_count": 14,
   "id": "82f5d0be",
   "metadata": {},
   "outputs": [],
   "source": [
    "import warnings\n",
    "warnings.simplefilter(action='ignore',category=pd.errors.PerformanceWarning)"
   ]
  },
  {
   "cell_type": "markdown",
   "id": "3a1aa3c8",
   "metadata": {},
   "source": [
    "SHIPS_IR_out = create_SHIPS_predictors_IR(SHIPS_trim_yrs,\n",
    "                        predictors_sel_IR,FORE_use,IR00_time_ind,IR00_var_names,PC00_time_ind,PC00_var_names)"
   ]
  },
  {
   "cell_type": "code",
   "execution_count": 15,
   "id": "c939c6d4",
   "metadata": {},
   "outputs": [],
   "source": [
    "SHIPS_IR_out = SHIPS_preprocess.create_SHIPS_predictors_IR(SHIPS_trim_yrs,\n",
    "                        predictors_sel_IR,FORE_use,IR00_time_ind,IR00_var_names,PC00_time_ind,PC00_var_names)"
   ]
  },
  {
   "cell_type": "markdown",
   "id": "d3b9a281",
   "metadata": {},
   "source": [
    "Combine into one dataframe"
   ]
  },
  {
   "cell_type": "code",
   "execution_count": 16,
   "id": "546da6cc",
   "metadata": {},
   "outputs": [],
   "source": [
    "SHIPS_process_all = SHIPS_dyn_out\n",
    "SHIPS_process_all[IR00_var_names] = SHIPS_IR_out[IR00_var_names]\n",
    "SHIPS_process_all[PC00_var_names] = SHIPS_IR_out[PC00_var_names]"
   ]
  },
  {
   "cell_type": "code",
   "execution_count": 17,
   "id": "47e8860f",
   "metadata": {},
   "outputs": [],
   "source": [
    "SHIPS_process_all['CYCLONE NO'] = SHIPS_process_all.ATCFID.str[2:4]"
   ]
  },
  {
   "cell_type": "markdown",
   "id": "72d8893d",
   "metadata": {},
   "source": [
    "Get <code>n</code> hour change in <code>VMAX</code> (intensity change). Specify start of period, end of period, and length of period, in hours. We'll calculate the SHIPS model forecast <code>n</code>-hour change in <code>VMAX</code>, and the actual <code>VMAX</code> 24 hours later. SHIPS predictors are released in 6-hour intervals, so <code>n_hours</code> should be in 6-hourly increments.  "
   ]
  },
  {
   "cell_type": "code",
   "execution_count": 18,
   "id": "a3fe56e0",
   "metadata": {},
   "outputs": [
    {
     "name": "stderr",
     "output_type": "stream",
     "text": [
      "/local/home/mmcgraw/ML_for_TC_RI/utils/SHIPS_preprocess.py:137: SettingWithCopyWarning: \n",
      "A value is trying to be set on a copy of a slice from a DataFrame.\n",
      "Try using .loc[row_indexer,col_indexer] = value instead\n",
      "\n",
      "See the caveats in the documentation: https://pandas.pydata.org/pandas-docs/stable/user_guide/indexing.html#returning-a-view-versus-a-copy\n",
      "  SHIPS_t0['DATE_full'] = pd.to_datetime(SHIPS_t0['DATE_full'])\n"
     ]
    }
   ],
   "source": [
    "diff = SHIPS_preprocess.calc_d24_VMAX(SHIPS_process_all,0)\n"
   ]
  },
  {
   "cell_type": "markdown",
   "id": "e05dda1d-71ae-4e7f-9b7f-3e41b5faf143",
   "metadata": {},
   "source": [
    "Sanity check to make sure our 24-hour change in VMAX is centered around 0"
   ]
  },
  {
   "cell_type": "code",
   "execution_count": 19,
   "id": "a515ad49",
   "metadata": {},
   "outputs": [],
   "source": [
    "diff = diff.rename(columns={'VMAX':'d24_VMAX'})"
   ]
  },
  {
   "cell_type": "code",
   "execution_count": 20,
   "id": "86793fb3",
   "metadata": {},
   "outputs": [
    {
     "data": {
      "text/plain": [
       "<AxesSubplot:xlabel='d24_VMAX', ylabel='Density'>"
      ]
     },
     "execution_count": 20,
     "metadata": {},
     "output_type": "execute_result"
    },
    {
     "data": {
      "image/png": "[encoded data removed]",
      "text/plain": [
       "<Figure size 432x288 with 1 Axes>"
      ]
     },
     "metadata": {
      "needs_background": "light"
     },
     "output_type": "display_data"
    }
   ],
   "source": [
    "import seaborn as sns\n",
    "import matplotlib.pyplot as plt\n",
    "sns.kdeplot(data=diff.reset_index(),x='d24_VMAX')\n",
    "sns.kdeplot(data=SHIPS_process_all.reset_index(),x='VMAX')"
   ]
  },
  {
   "cell_type": "markdown",
   "id": "c7309a27",
   "metadata": {},
   "source": [
    "Save"
   ]
  },
  {
   "cell_type": "code",
   "execution_count": 21,
   "id": "47d91a05",
   "metadata": {},
   "outputs": [],
   "source": [
    "if is_INTERP:\n",
    "    interp_str = 'INTERP'\n",
    "else:\n",
    "    interp_str = 'NO_INTERP'\n",
    "#if is_ocean_only:\n",
    "#    ocean_str = 'OCEAN_ONLY'\n",
    "#else:\n",
    "#    ocean_str = 'OCEAN_LAND'\n",
    "fname_save = 'DATA/processed/SHIPS_processed_{BASIN}_set_yrs_{YR_first}-{YR_last}_'\\\n",
    "'max_fore_hr_{HR_last}_{interp}_land_mask_{mask_type}.csv'.format(BASIN=BASIN,YR_first=YR_first,YR_last=YR_last-1,\n",
    "                                                    HR_last=HR_last,interp=interp_str,mask_type=mask_TYPE)\n",
    "SHIPS_process_all.to_csv(fname_save)"
   ]
  },
  {
   "cell_type": "code",
   "execution_count": 22,
   "id": "925c6b61",
   "metadata": {},
   "outputs": [
    {
     "name": "stdout",
     "output_type": "stream",
     "text": [
      "saved  DATA/processed/SHIPS_processed_SOUTHERN_HEM_set_yrs_2005-2021_max_fore_hr_24_INTERP_land_mask_SIMPLE_MASK.csv\n"
     ]
    }
   ],
   "source": [
    "print('saved ',fname_save)"
   ]
  },
  {
   "cell_type": "code",
   "execution_count": null,
   "id": "949d64a0",
   "metadata": {},
   "outputs": [],
   "source": []
  },
  {
   "cell_type": "code",
   "execution_count": null,
   "id": "532607a4",
   "metadata": {},
   "outputs": [],
   "source": []
  }
 ],
 "metadata": {
  "kernelspec": {
   "display_name": "SHIPS",
   "language": "python",
   "name": "ships"
  },
  "language_info": {
   "codemirror_mode": {
    "name": "ipython",
    "version": 3
   },
   "file_extension": ".py",
   "mimetype": "text/x-python",
   "name": "python",
   "nbconvert_exporter": "python",
   "pygments_lexer": "ipython3",
   "version": "3.9.5"
  }
 },
 "nbformat": 4,
 "nbformat_minor": 5
}
