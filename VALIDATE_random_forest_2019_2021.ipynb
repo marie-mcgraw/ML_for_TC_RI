{
 "cells": [
  {
   "cell_type": "code",
   "execution_count": 1,
   "id": "2c82b2b6",
   "metadata": {},
   "outputs": [],
   "source": [
    "import os\n",
    "\n",
    "NUM_THREADS = \"1\"\n",
    "\n",
    "os.environ[\"OMP_NUM_THREADS\"] = NUM_THREADS\n",
    "os.environ[\"OPENBLAS_NUM_THREADS\"] = NUM_THREADS\n",
    "os.environ[\"MKL_NUM_THREADS\"] = NUM_THREADS\n",
    "os.environ[\"VECLIB_MAXIMUM_THREADS\"] = NUM_THREADS\n",
    "os.environ[\"NUMEXPR_NUM_THREADS\"] = NUM_THREADS"
   ]
  },
  {
   "cell_type": "code",
   "execution_count": 2,
   "id": "028bd1db",
   "metadata": {},
   "outputs": [],
   "source": [
    "import numpy as np\n",
    "import matplotlib.pyplot as plt\n",
    "import seaborn as sns\n",
    "import pandas as pd\n",
    "# \n",
    "from TEST_OLD_UTILS.SHIPS_preprocess import SHIPS_train_test_split, calc_d24_VMAX, fore_hr_averaging, SHIPS_train_test_shuffle_CLASS\n",
    "from TEST_OLD_UTILS.SHIPS_preprocess import load_processed_SHIPS, calculate_class_weights, get_RI_classes\n",
    "from TEST_OLD_UTILS.SHIPS_ML_model_funcs import apply_class_label, calc_CM_stats, get_scores_class_rept, get_roc_auc, get_feature_importances_RF\n",
    "from TEST_OLD_UTILS.SHIPS_ML_model_funcs import get_confusion_matrix_RF, get_scores_best_params_RF, create_gridsearch_RF, get_train_test_split\n",
    "from TEST_OLD_UTILS.SHIPS_ML_model_funcs import calc_AUPD, calculate_PD_curves\n",
    "from TEST_OLD_UTILS.SHIPS_plotting import plot_roc_curve, plot_precision_recall_vs_threshold,add_model_results,make_performance_diagram_background\n",
    "from TEST_OLD_UTILS.SHIPS_plotting import plot_CSI_vs_bias, plot_basic_score_basin, plot_PD_curves\n",
    "#\n",
    "from sklearn.preprocessing import StandardScaler\n",
    "from sklearn.model_selection import GridSearchCV, cross_val_score, RepeatedStratifiedKFold\n",
    "from sklearn.ensemble import RandomForestClassifier\n",
    "from sklearn.metrics import roc_curve,roc_auc_score,confusion_matrix,accuracy_score,precision_score,recall_score,classification_report\n",
    "from sklearn.metrics import precision_recall_curve, auc, f1_score, fbeta_score\n",
    "from sklearn.inspection import permutation_importance\n",
    "from sklearn.pipeline import Pipeline\n",
    "import matplotlib.colors\n"
   ]
  },
  {
   "cell_type": "markdown",
   "id": "f40641cc",
   "metadata": {},
   "source": [
    "##### Experiment info for both models"
   ]
  },
  {
   "cell_type": "code",
   "execution_count": 3,
   "id": "682ca8d8",
   "metadata": {},
   "outputs": [],
   "source": [
    "fpath_load = 'DATA/ML_model_results/TRAINING/'\n",
    "train_yr_start = 2005\n",
    "train_yr_end = 2018\n",
    "mask_TYPE = 'SIMPLE'\n",
    "is_stand = True\n",
    "if is_stand:\n",
    "    stand_str = 'STANDARDIZED'\n",
    "else:\n",
    "    stand_str = 'no_STANDARD'\n",
    "RI_thresh = 30\n",
    "wts_str = 'default'\n",
    "score = 'f1_weighted'\n",
    "N_samples = 15"
   ]
  },
  {
   "cell_type": "markdown",
   "id": "892cc0ab",
   "metadata": {},
   "source": [
    "##### RF experiment info"
   ]
  },
  {
   "cell_type": "code",
   "execution_count": 4,
   "id": "1fed5a89",
   "metadata": {},
   "outputs": [],
   "source": [
    "RF_crit = 'gini'\n",
    "RF_path_suff = 'OLD_FUNCS_TRAIN_{RF_crit}_SHIPS_SIMPLE_RI_vs_no_RI_{train_yr_start}-{train_yr_end}_{mask_TYPE}_MASK_'\\\n",
    "'{stand_str}_RI_thresh_{RI_thresh}weights_{wts_str}_wts_{N_samples}_samples_{score}.csv'.format(RF_crit=RF_crit,\n",
    "                           train_yr_start=train_yr_start,train_yr_end=train_yr_end,mask_TYPE=mask_TYPE,\n",
    "                           stand_str=stand_str,RI_thresh=RI_thresh,wts_str=wts_str,N_samples=N_samples,score=score)"
   ]
  },
  {
   "cell_type": "markdown",
   "id": "484c1179",
   "metadata": {},
   "source": [
    "##### RF Oversampling info\n"
   ]
  },
  {
   "cell_type": "code",
   "execution_count": 5,
   "id": "0c525d15",
   "metadata": {},
   "outputs": [],
   "source": [
    "RF_path_suff_ov = 'OLD_FUNCS_TRAIN_OVERSAMPLE_{RF_crit}_SHIPS_SIMPLE_RI_vs_no_RI_{train_yr_start}-{train_yr_end}_{mask_TYPE}_MASK_'\\\n",
    "'{stand_str}_RI_thresh_{RI_thresh}weights_{wts_str}_{N_samples}_samples_{score}.csv'.format(RF_crit=RF_crit,\n",
    "                           train_yr_start=train_yr_start,train_yr_end=train_yr_end,mask_TYPE=mask_TYPE,\n",
    "                           stand_str=stand_str,RI_thresh=RI_thresh,wts_str='None',N_samples=N_samples,score=score)"
   ]
  },
  {
   "cell_type": "markdown",
   "id": "a81e364f",
   "metadata": {},
   "source": [
    "##### LR experiment info\n",
    "We'll just use `lbfgs` since it's so similar to `sag` \\ `saga`"
   ]
  },
  {
   "cell_type": "code",
   "execution_count": 6,
   "id": "e08f60d9",
   "metadata": {},
   "outputs": [],
   "source": [
    "LR_model = 'lbfgs'\n",
    "LR_path_suff = 'TRAIN_{LR_model}_SHIPS_SIMPLE_RI_vs_no_RI_{train_yr_start}-{train_yr_end}_{mask_TYPE}_MASK_'\\\n",
    "'{stand_str}_RI_thresh_{RI_thresh}weights_{wts_str}_wts_{N_samples}_samples_{score}.csv'.format(LR_model=LR_model,\n",
    "                           train_yr_start=train_yr_start,train_yr_end=train_yr_end,mask_TYPE=mask_TYPE,\n",
    "                           stand_str=stand_str,RI_thresh=RI_thresh,wts_str=wts_str,N_samples=N_samples,score=score)"
   ]
  },
  {
   "cell_type": "markdown",
   "id": "412e5e3f",
   "metadata": {},
   "source": [
    "##### Load confusion matrices"
   ]
  },
  {
   "cell_type": "code",
   "execution_count": 7,
   "id": "14d35a08",
   "metadata": {},
   "outputs": [],
   "source": [
    "cm_RF = pd.read_csv(fpath_load+'RF/Conf_Matrix'+RF_path_suff)\n",
    "cm_RF['Model'] = 'Random Forest (class wt)'\n",
    "#\n",
    "cm_RF_ov = pd.read_csv(fpath_load+'RF/Conf_Matrix'+RF_path_suff_ov)\n",
    "cm_RF_ov['Model'] = 'Random Forest (oversampling)'\n",
    "\n",
    "#\n",
    "cm_LR = pd.read_csv(fpath_load+'LOGISTIC/Conf_Matrix'+LR_path_suff)\n",
    "cm_LR['Model'] = 'Logistic Reg.'\n",
    "cm_res = pd.concat([cm_RF,cm_RF_ov,cm_LR])\n"
   ]
  },
  {
   "cell_type": "markdown",
   "id": "e5c8ea2e",
   "metadata": {},
   "source": [
    "#### How are we selecting our best model hyperparameters? \n",
    "* Option 1: Hyperparameters corresponding to best model, determined by highest Threat Score / CSI\n",
    "* Option 2: We pick the MODE (most commonly occuring) hyperparameter\n",
    "\n",
    "For 3/4 hyperparameters, Option 1 and Option 2 produce the same answer (yay).  The difference is <code>n_estimators</code>."
   ]
  },
  {
   "cell_type": "code",
   "execution_count": 14,
   "id": "624437ae",
   "metadata": {
    "scrolled": true
   },
   "outputs": [],
   "source": [
    "choose_max = 'best'\n",
    "max_threat = cm_res.set_index(['Category','BASIN','Model'])\n",
    "threat_ind = max_threat.xs((1)).reset_index().groupby(['BASIN','Model']).max()\n",
    "#if choose_max == 'best':\n",
    " #   isel = max_threat.xs((1,'ALL','Random Forest')).reset_index()['Threat'].idxmax()\n",
    "  #  max_threat_sel = max_threat.xs((1,'ALL','Random Forest')).reset_index().iloc[isel]\n",
    "#fig_format = 'pdf'"
   ]
  },
  {
   "cell_type": "code",
   "execution_count": null,
   "id": "21f13974",
   "metadata": {},
   "outputs": [],
   "source": []
  },
  {
   "cell_type": "code",
   "execution_count": null,
   "id": "58608b67",
   "metadata": {},
   "outputs": [],
   "source": []
  }
 ],
 "metadata": {
  "kernelspec": {
   "display_name": "SHIPS",
   "language": "python",
   "name": "ships"
  },
  "language_info": {
   "codemirror_mode": {
    "name": "ipython",
    "version": 3
   },
   "file_extension": ".py",
   "mimetype": "text/x-python",
   "name": "python",
   "nbconvert_exporter": "python",
   "pygments_lexer": "ipython3",
   "version": "3.9.5"
  }
 },
 "nbformat": 4,
 "nbformat_minor": 5
}
